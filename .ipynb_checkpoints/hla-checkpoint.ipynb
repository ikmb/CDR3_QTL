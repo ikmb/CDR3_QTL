{
 "cells": [
  {
   "cell_type": "code",
   "execution_count": 1,
   "id": "6fe104d5-d58f-470e-b5e0-6b8dd40219c7",
   "metadata": {
    "scrolled": true
   },
   "outputs": [
    {
     "name": "stderr",
     "output_type": "stream",
     "text": [
      "\n",
      "Attaching package: ‘dplyr’\n",
      "\n",
      "\n",
      "The following objects are masked from ‘package:data.table’:\n",
      "\n",
      "    between, first, last\n",
      "\n",
      "\n",
      "The following objects are masked from ‘package:stats’:\n",
      "\n",
      "    filter, lag\n",
      "\n",
      "\n",
      "The following objects are masked from ‘package:base’:\n",
      "\n",
      "    intersect, setdiff, setequal, union\n",
      "\n",
      "\n",
      "\n",
      "Attaching package: ‘tidyr’\n",
      "\n",
      "\n",
      "The following object is masked from ‘package:magrittr’:\n",
      "\n",
      "    extract\n",
      "\n",
      "\n",
      "Registered S3 methods overwritten by 'ggtern':\n",
      "  method           from   \n",
      "  grid.draw.ggplot ggplot2\n",
      "  plot.ggplot      ggplot2\n",
      "  print.ggplot     ggplot2\n",
      "\n",
      "--\n",
      "Remember to cite, run citation(package = 'ggtern') for further info.\n",
      "--\n",
      "\n",
      "\n",
      "Attaching package: ‘ggtern’\n",
      "\n",
      "\n",
      "The following objects are masked from ‘package:ggplot2’:\n",
      "\n",
      "    aes, annotate, ggplot, ggplot_build, ggplot_gtable, ggplotGrob,\n",
      "    ggsave, layer_data, theme_bw, theme_classic, theme_dark,\n",
      "    theme_gray, theme_light, theme_linedraw, theme_minimal, theme_void\n",
      "\n",
      "\n",
      "Loading required package: viridisLite\n",
      "\n",
      "\n",
      "Attaching package: ‘arrow’\n",
      "\n",
      "\n",
      "The following object is masked from ‘package:magrittr’:\n",
      "\n",
      "    is_in\n",
      "\n",
      "\n",
      "The following object is masked from ‘package:utils’:\n",
      "\n",
      "    timestamp\n",
      "\n",
      "\n",
      "\n",
      "Attaching package: ‘purrr’\n",
      "\n",
      "\n",
      "The following object is masked from ‘package:jsonlite’:\n",
      "\n",
      "    flatten\n",
      "\n",
      "\n",
      "The following object is masked from ‘package:data.table’:\n",
      "\n",
      "    transpose\n",
      "\n",
      "\n",
      "The following object is masked from ‘package:magrittr’:\n",
      "\n",
      "    set_names\n",
      "\n",
      "\n",
      "corrplot 0.92 loaded\n",
      "\n",
      "Loading required package: lattice\n",
      "\n",
      "\n",
      "Attaching package: ‘caret’\n",
      "\n",
      "\n",
      "The following object is masked from ‘package:purrr’:\n",
      "\n",
      "    lift\n",
      "\n",
      "\n",
      "\n",
      "Attaching package: ‘reshape2’\n",
      "\n",
      "\n",
      "The following object is masked from ‘package:tidyr’:\n",
      "\n",
      "    smiths\n",
      "\n",
      "\n",
      "The following objects are masked from ‘package:data.table’:\n",
      "\n",
      "    dcast, melt\n",
      "\n",
      "\n",
      "\n",
      "---------------------\n",
      "Welcome to dendextend version 1.17.1\n",
      "Type citation('dendextend') for how to cite the package.\n",
      "\n",
      "Type browseVignettes(package = 'dendextend') for the package vignette.\n",
      "The github page is: https://github.com/talgalili/dendextend/\n",
      "\n",
      "Suggestions and bug-reports can be submitted at: https://github.com/talgalili/dendextend/issues\n",
      "You may ask questions at stackoverflow, use the r and dendextend tags: \n",
      "\t https://stackoverflow.com/questions/tagged/dendextend\n",
      "\n",
      "\tTo suppress this message use:  suppressPackageStartupMessages(library(dendextend))\n",
      "---------------------\n",
      "\n",
      "\n",
      "\n",
      "Attaching package: ‘dendextend’\n",
      "\n",
      "\n",
      "The following object is masked from ‘package:data.table’:\n",
      "\n",
      "    set\n",
      "\n",
      "\n",
      "The following object is masked from ‘package:stats’:\n",
      "\n",
      "    cutree\n",
      "\n",
      "\n",
      "Registered S3 method overwritten by 'GGally':\n",
      "  method from   \n",
      "  +.gg   ggplot2\n",
      "\n",
      "Registered S3 methods overwritten by 'fmsb':\n",
      "  method    from\n",
      "  print.roc pROC\n",
      "  plot.roc  pROC\n",
      "\n",
      "\n",
      "Attaching package: ‘patchwork’\n",
      "\n",
      "\n",
      "The following object is masked from ‘package:cowplot’:\n",
      "\n",
      "    align_plots\n",
      "\n",
      "\n",
      "Loading required package: Matrix\n",
      "\n",
      "\n",
      "Attaching package: ‘Matrix’\n",
      "\n",
      "\n",
      "The following objects are masked from ‘package:tidyr’:\n",
      "\n",
      "    expand, pack, unpack\n",
      "\n",
      "\n",
      "Loading required package: arm\n",
      "\n",
      "Loading required package: MASS\n",
      "\n",
      "\n",
      "Attaching package: ‘MASS’\n",
      "\n",
      "\n",
      "The following object is masked from ‘package:patchwork’:\n",
      "\n",
      "    area\n",
      "\n",
      "\n",
      "The following object is masked from ‘package:dplyr’:\n",
      "\n",
      "    select\n",
      "\n",
      "\n",
      "\n",
      "arm (Version 1.14-4, built: 2024-4-1)\n",
      "\n",
      "\n",
      "Working directory is /work_beegfs/sukmb667/projects/cdr3-qtl/healthy_and_ibd/scripts\n",
      "\n",
      "\n",
      "\n",
      "Attaching package: ‘arm’\n",
      "\n",
      "\n",
      "The following object is masked from ‘package:corrplot’:\n",
      "\n",
      "    corrplot\n",
      "\n",
      "\n",
      "\n",
      "Attaching package: ‘bestNormalize’\n",
      "\n",
      "\n",
      "The following object is masked from ‘package:MASS’:\n",
      "\n",
      "    boxcox\n",
      "\n",
      "\n",
      "Loading required package: parsnip\n",
      "\n",
      "\n",
      "Attaching package: ‘gghighlight’\n",
      "\n",
      "\n",
      "The following object is masked from ‘package:ggtern’:\n",
      "\n",
      "    aes\n",
      "\n",
      "\n",
      "Welcome! Want to learn more? See two factoextra-related books at https://goo.gl/ve3WBa\n",
      "\n",
      "\n",
      "Attaching package: ‘UpSetR’\n",
      "\n",
      "\n",
      "The following object is masked from ‘package:lattice’:\n",
      "\n",
      "    histogram\n",
      "\n",
      "\n",
      "Loading required package: grid\n",
      "\n",
      "========================================\n",
      "ComplexHeatmap version 2.18.0\n",
      "Bioconductor page: http://bioconductor.org/packages/ComplexHeatmap/\n",
      "Github page: https://github.com/jokergoo/ComplexHeatmap\n",
      "Documentation: http://jokergoo.github.io/ComplexHeatmap-reference\n",
      "\n",
      "If you use it in published research, please cite either one:\n",
      "- Gu, Z. Complex Heatmap Visualization. iMeta 2022.\n",
      "- Gu, Z. Complex heatmaps reveal patterns and correlations in multidimensional \n",
      "    genomic data. Bioinformatics 2016.\n",
      "\n",
      "\n",
      "The new InteractiveComplexHeatmap package can directly export static \n",
      "complex heatmaps into an interactive Shiny app with zero effort. Have a try!\n",
      "\n",
      "This message can be suppressed by:\n",
      "  suppressPackageStartupMessages(library(ComplexHeatmap))\n",
      "========================================\n",
      "\n",
      "\n",
      "\n",
      "Attaching package: ‘ComplexHeatmap’\n",
      "\n",
      "\n",
      "The following object is masked from ‘package:merTools’:\n",
      "\n",
      "    draw\n",
      "\n",
      "\n",
      "========================================\n",
      "circlize version 0.4.16\n",
      "CRAN page: https://cran.r-project.org/package=circlize\n",
      "Github page: https://github.com/jokergoo/circlize\n",
      "Documentation: https://jokergoo.github.io/circlize_book/book/\n",
      "\n",
      "If you use it in published research, please cite:\n",
      "Gu, Z. circlize implements and enhances circular visualization\n",
      "  in R. Bioinformatics 2014.\n",
      "\n",
      "This message can be suppressed by:\n",
      "  suppressPackageStartupMessages(library(circlize))\n",
      "========================================\n",
      "\n",
      "\n",
      "Registered S3 method overwritten by 'ggfortify':\n",
      "  method          from   \n",
      "  autoplot.glmnet parsnip\n",
      "\n"
     ]
    }
   ],
   "source": [
    "source(\"hla_functions.R\")\n",
    "source('libraries.R')"
   ]
  },
  {
   "cell_type": "markdown",
   "id": "cfb9b92e-59cc-4e86-a36e-c139e97872d0",
   "metadata": {},
   "source": [
    "## Preprocessing HLA df of healthy donor and bind_rows with IBD"
   ]
  },
  {
   "cell_type": "code",
   "execution_count": 3,
   "id": "c3fcbc0d-3626-43c7-add4-a59a60033619",
   "metadata": {
    "scrolled": true
   },
   "outputs": [],
   "source": [
    "hla_ibd <- read.csv('../data/hla/HLA_of_ibd_samples.tsv', sep = '\\t') %>%\n",
    "    mutate(sample_name = gsub('sample_', 'I', sample_name)) %>%\n",
    "    rename(patient_id = sample_name) "
   ]
  },
  {
   "cell_type": "code",
   "execution_count": 5,
   "id": "850de182-7bb5-4cfc-9858-06b032fb5d8b",
   "metadata": {
    "scrolled": true
   },
   "outputs": [],
   "source": [
    "hla_healthy <- read.csv('../data/hla/HLA_of_healthy_samples.tsv', sep = '\\t') %>%\n",
    "    mutate(sample_Id = gsub('sample_', 'H', sample_Id)) %>%\n",
    "    rename(patient_id = sample_Id)\n"
   ]
  },
  {
   "cell_type": "code",
   "execution_count": 6,
   "id": "81d19f53-c3a6-47b5-b2b0-91e9d16839e2",
   "metadata": {},
   "outputs": [],
   "source": [
    "hla <- bind_rows(hla_healthy, hla_ibd)"
   ]
  },
  {
   "cell_type": "code",
   "execution_count": 7,
   "id": "3b2c455f-88ac-4a5d-9769-1c33e99b2847",
   "metadata": {
    "scrolled": true
   },
   "outputs": [],
   "source": [
    "ids_in_cdr3 <- read.table('../data/ids_in_cdr3.txt') %>% pull(V1)"
   ]
  },
  {
   "cell_type": "code",
   "execution_count": 56,
   "id": "0ead1a6a-2ad8-4c4d-bbd1-73eb64a355e6",
   "metadata": {},
   "outputs": [],
   "source": [
    "hla <- bind_rows(hla_healthy, hla_ibd) %>% filter(!(patient_id %in% ids_low_depths)) %>%\n",
    "    filter(patient_id %in% ids_in_cdr3)"
   ]
  },
  {
   "cell_type": "code",
   "execution_count": 83,
   "id": "35c8d6b3-00f4-4f85-92de-1d0dfabfb2db",
   "metadata": {
    "scrolled": true
   },
   "outputs": [
    {
     "data": {
      "text/html": [
       "<table class=\"dataframe\">\n",
       "<caption>A tibble: 17 × 23</caption>\n",
       "<thead>\n",
       "\t<tr><th scope=col>A.1</th><th scope=col>A.2</th><th scope=col>B.1</th><th scope=col>B.2</th><th scope=col>C.1</th><th scope=col>C.2</th><th scope=col>DPA1.1</th><th scope=col>DPA1.2</th><th scope=col>DPB1.1</th><th scope=col>DPB1.2</th><th scope=col>⋯</th><th scope=col>DQB1.2</th><th scope=col>DRB1.1</th><th scope=col>DRB1.2</th><th scope=col>DRB3.1</th><th scope=col>DRB3.2</th><th scope=col>DRB4.1</th><th scope=col>DRB4.2</th><th scope=col>DRB5.1</th><th scope=col>DRB5.2</th><th scope=col>patient_id</th></tr>\n",
       "\t<tr><th scope=col>&lt;chr&gt;</th><th scope=col>&lt;chr&gt;</th><th scope=col>&lt;chr&gt;</th><th scope=col>&lt;chr&gt;</th><th scope=col>&lt;chr&gt;</th><th scope=col>&lt;chr&gt;</th><th scope=col>&lt;chr&gt;</th><th scope=col>&lt;chr&gt;</th><th scope=col>&lt;chr&gt;</th><th scope=col>&lt;chr&gt;</th><th scope=col>⋯</th><th scope=col>&lt;chr&gt;</th><th scope=col>&lt;chr&gt;</th><th scope=col>&lt;chr&gt;</th><th scope=col>&lt;chr&gt;</th><th scope=col>&lt;chr&gt;</th><th scope=col>&lt;chr&gt;</th><th scope=col>&lt;chr&gt;</th><th scope=col>&lt;chr&gt;</th><th scope=col>&lt;chr&gt;</th><th scope=col>&lt;chr&gt;</th></tr>\n",
       "</thead>\n",
       "<tbody>\n",
       "\t<tr><td>02:01</td><td>03:01</td><td>07:02</td><td>35:01</td><td>04:01</td><td>07:02</td><td>01:03</td><td>01:03</td><td>04:01</td><td>04:02</td><td>⋯</td><td>06:02</td><td>11:01</td><td>15:01</td><td>00:00</td><td>02:02</td><td>00:00</td><td>00:00</td><td>00:00</td><td>01:01</td><td>H160, I7                </td></tr>\n",
       "\t<tr><td>02:01</td><td>03:01</td><td>07:02</td><td>40:01</td><td>03:04</td><td>07:02</td><td>01:03</td><td>01:03</td><td>03:01</td><td>04:01</td><td>⋯</td><td>06:04</td><td>13:02</td><td>15:01</td><td>00:00</td><td>03:01</td><td>00:00</td><td>00:00</td><td>00:00</td><td>01:01</td><td>H225, I770, I1003, I1390</td></tr>\n",
       "\t<tr><td>01:01</td><td>02:01</td><td>07:02</td><td>08:01</td><td>07:01</td><td>07:02</td><td>01:03</td><td>01:03</td><td>04:01</td><td>04:01</td><td>⋯</td><td>06:02</td><td>03:01</td><td>15:01</td><td>00:00</td><td>01:01</td><td>00:00</td><td>00:00</td><td>00:00</td><td>01:01</td><td>H251, I161              </td></tr>\n",
       "\t<tr><td>01:01</td><td>23:01</td><td>08:01</td><td>44:03</td><td>04:01</td><td>07:01</td><td>01:03</td><td>02:01</td><td>01:01</td><td>01:01</td><td>⋯</td><td>02:01</td><td>03:01</td><td>07:01</td><td>00:00</td><td>01:01</td><td>00:00</td><td>01:01</td><td>00:00</td><td>00:00</td><td>H281, I1108             </td></tr>\n",
       "\t<tr><td>01:01</td><td>02:01</td><td>08:01</td><td>44:02</td><td>05:01</td><td>07:01</td><td>01:03</td><td>01:03</td><td>01:01</td><td>04:01</td><td>⋯</td><td>03:01</td><td>03:01</td><td>04:01</td><td>00:00</td><td>01:01</td><td>00:00</td><td>01:01</td><td>00:00</td><td>00:00</td><td>H425, I536              </td></tr>\n",
       "\t<tr><td>01:01</td><td>02:01</td><td>07:02</td><td>57:01</td><td>06:02</td><td>07:02</td><td>01:03</td><td>01:03</td><td>04:01</td><td>04:01</td><td>⋯</td><td>06:02</td><td>07:01</td><td>15:01</td><td>00:00</td><td>00:00</td><td>00:00</td><td>01:01</td><td>00:00</td><td>01:01</td><td>H626, H711              </td></tr>\n",
       "\t<tr><td>01:01</td><td>03:01</td><td>07:02</td><td>08:01</td><td>07:01</td><td>07:02</td><td>01:03</td><td>01:03</td><td>04:01</td><td>04:01</td><td>⋯</td><td>06:02</td><td>03:01</td><td>15:01</td><td>00:00</td><td>01:01</td><td>00:00</td><td>00:00</td><td>00:00</td><td>01:01</td><td>H689, I925              </td></tr>\n",
       "\t<tr><td>01:01</td><td>01:01</td><td>08:01</td><td>08:01</td><td>07:01</td><td>07:01</td><td>01:03</td><td>01:03</td><td>01:01</td><td>01:01</td><td>⋯</td><td>02:01</td><td>03:01</td><td>03:01</td><td>01:01</td><td>01:01</td><td>00:00</td><td>00:00</td><td>00:00</td><td>00:00</td><td>H746, I95               </td></tr>\n",
       "\t<tr><td>01:01</td><td>03:01</td><td>07:02</td><td>08:01</td><td>07:01</td><td>07:02</td><td>01:03</td><td>01:03</td><td>01:01</td><td>04:01</td><td>⋯</td><td>06:02</td><td>03:01</td><td>15:01</td><td>00:00</td><td>01:01</td><td>00:00</td><td>00:00</td><td>00:00</td><td>01:01</td><td>I34, I1154              </td></tr>\n",
       "\t<tr><td>01:01</td><td>02:01</td><td>07:02</td><td>08:01</td><td>07:01</td><td>07:02</td><td>01:03</td><td>01:03</td><td>04:01</td><td>04:02</td><td>⋯</td><td>06:02</td><td>03:01</td><td>15:01</td><td>00:00</td><td>01:01</td><td>00:00</td><td>00:00</td><td>00:00</td><td>01:01</td><td>I147, I829              </td></tr>\n",
       "\t<tr><td>03:01</td><td>03:01</td><td>07:02</td><td>07:02</td><td>07:02</td><td>07:02</td><td>01:03</td><td>02:01</td><td>04:01</td><td>11:01</td><td>⋯</td><td>06:02</td><td>15:01</td><td>15:01</td><td>00:00</td><td>00:00</td><td>00:00</td><td>00:00</td><td>01:01</td><td>01:01</td><td>I416, I1277             </td></tr>\n",
       "\t<tr><td>02:01</td><td>03:01</td><td>07:02</td><td>07:02</td><td>07:02</td><td>07:02</td><td>01:03</td><td>01:03</td><td>04:01</td><td>04:01</td><td>⋯</td><td>06:02</td><td>15:01</td><td>15:01</td><td>00:00</td><td>00:00</td><td>00:00</td><td>00:00</td><td>01:01</td><td>01:01</td><td>I517, I1072, I1232      </td></tr>\n",
       "\t<tr><td>02:01</td><td>30:01</td><td>07:02</td><td>13:02</td><td>06:02</td><td>07:02</td><td>01:03</td><td>02:01</td><td>04:01</td><td>17:01</td><td>⋯</td><td>06:02</td><td>07:01</td><td>15:01</td><td>00:00</td><td>00:00</td><td>00:00</td><td>01:01</td><td>00:00</td><td>01:01</td><td>I528, I800              </td></tr>\n",
       "\t<tr><td>01:01</td><td>02:01</td><td>08:01</td><td>51:01</td><td>07:01</td><td>14:02</td><td>01:03</td><td>01:03</td><td>03:01</td><td>04:01</td><td>⋯</td><td>04:02</td><td>03:01</td><td>08:01</td><td>00:00</td><td>01:01</td><td>00:00</td><td>00:00</td><td>00:00</td><td>00:00</td><td>I585, I1365             </td></tr>\n",
       "\t<tr><td>02:01</td><td>03:01</td><td>07:02</td><td>18:01</td><td>05:01</td><td>07:02</td><td>01:03</td><td>01:03</td><td>04:01</td><td>04:01</td><td>⋯</td><td>06:02</td><td>03:01</td><td>15:01</td><td>00:00</td><td>02:02</td><td>00:00</td><td>00:00</td><td>00:00</td><td>01:01</td><td>I704, I901              </td></tr>\n",
       "\t<tr><td>03:01</td><td>03:01</td><td>07:02</td><td>35:01</td><td>04:01</td><td>07:02</td><td>01:03</td><td>01:03</td><td>04:01</td><td>04:02</td><td>⋯</td><td>06:02</td><td>01:01</td><td>15:01</td><td>00:00</td><td>00:00</td><td>00:00</td><td>00:00</td><td>00:00</td><td>01:01</td><td>I757, I1104             </td></tr>\n",
       "\t<tr><td>01:01</td><td>02:01</td><td>08:01</td><td>44:02</td><td>05:01</td><td>07:01</td><td>01:03</td><td>01:03</td><td>04:01</td><td>04:02</td><td>⋯</td><td>03:01</td><td>03:01</td><td>12:01</td><td>01:01</td><td>02:02</td><td>00:00</td><td>00:00</td><td>00:00</td><td>00:00</td><td>I883, I929              </td></tr>\n",
       "</tbody>\n",
       "</table>\n"
      ],
      "text/latex": [
       "A tibble: 17 × 23\n",
       "\\begin{tabular}{lllllllllllllllllllll}\n",
       " A.1 & A.2 & B.1 & B.2 & C.1 & C.2 & DPA1.1 & DPA1.2 & DPB1.1 & DPB1.2 & ⋯ & DQB1.2 & DRB1.1 & DRB1.2 & DRB3.1 & DRB3.2 & DRB4.1 & DRB4.2 & DRB5.1 & DRB5.2 & patient\\_id\\\\\n",
       " <chr> & <chr> & <chr> & <chr> & <chr> & <chr> & <chr> & <chr> & <chr> & <chr> & ⋯ & <chr> & <chr> & <chr> & <chr> & <chr> & <chr> & <chr> & <chr> & <chr> & <chr>\\\\\n",
       "\\hline\n",
       "\t 02:01 & 03:01 & 07:02 & 35:01 & 04:01 & 07:02 & 01:03 & 01:03 & 04:01 & 04:02 & ⋯ & 06:02 & 11:01 & 15:01 & 00:00 & 02:02 & 00:00 & 00:00 & 00:00 & 01:01 & H160, I7                \\\\\n",
       "\t 02:01 & 03:01 & 07:02 & 40:01 & 03:04 & 07:02 & 01:03 & 01:03 & 03:01 & 04:01 & ⋯ & 06:04 & 13:02 & 15:01 & 00:00 & 03:01 & 00:00 & 00:00 & 00:00 & 01:01 & H225, I770, I1003, I1390\\\\\n",
       "\t 01:01 & 02:01 & 07:02 & 08:01 & 07:01 & 07:02 & 01:03 & 01:03 & 04:01 & 04:01 & ⋯ & 06:02 & 03:01 & 15:01 & 00:00 & 01:01 & 00:00 & 00:00 & 00:00 & 01:01 & H251, I161              \\\\\n",
       "\t 01:01 & 23:01 & 08:01 & 44:03 & 04:01 & 07:01 & 01:03 & 02:01 & 01:01 & 01:01 & ⋯ & 02:01 & 03:01 & 07:01 & 00:00 & 01:01 & 00:00 & 01:01 & 00:00 & 00:00 & H281, I1108             \\\\\n",
       "\t 01:01 & 02:01 & 08:01 & 44:02 & 05:01 & 07:01 & 01:03 & 01:03 & 01:01 & 04:01 & ⋯ & 03:01 & 03:01 & 04:01 & 00:00 & 01:01 & 00:00 & 01:01 & 00:00 & 00:00 & H425, I536              \\\\\n",
       "\t 01:01 & 02:01 & 07:02 & 57:01 & 06:02 & 07:02 & 01:03 & 01:03 & 04:01 & 04:01 & ⋯ & 06:02 & 07:01 & 15:01 & 00:00 & 00:00 & 00:00 & 01:01 & 00:00 & 01:01 & H626, H711              \\\\\n",
       "\t 01:01 & 03:01 & 07:02 & 08:01 & 07:01 & 07:02 & 01:03 & 01:03 & 04:01 & 04:01 & ⋯ & 06:02 & 03:01 & 15:01 & 00:00 & 01:01 & 00:00 & 00:00 & 00:00 & 01:01 & H689, I925              \\\\\n",
       "\t 01:01 & 01:01 & 08:01 & 08:01 & 07:01 & 07:01 & 01:03 & 01:03 & 01:01 & 01:01 & ⋯ & 02:01 & 03:01 & 03:01 & 01:01 & 01:01 & 00:00 & 00:00 & 00:00 & 00:00 & H746, I95               \\\\\n",
       "\t 01:01 & 03:01 & 07:02 & 08:01 & 07:01 & 07:02 & 01:03 & 01:03 & 01:01 & 04:01 & ⋯ & 06:02 & 03:01 & 15:01 & 00:00 & 01:01 & 00:00 & 00:00 & 00:00 & 01:01 & I34, I1154              \\\\\n",
       "\t 01:01 & 02:01 & 07:02 & 08:01 & 07:01 & 07:02 & 01:03 & 01:03 & 04:01 & 04:02 & ⋯ & 06:02 & 03:01 & 15:01 & 00:00 & 01:01 & 00:00 & 00:00 & 00:00 & 01:01 & I147, I829              \\\\\n",
       "\t 03:01 & 03:01 & 07:02 & 07:02 & 07:02 & 07:02 & 01:03 & 02:01 & 04:01 & 11:01 & ⋯ & 06:02 & 15:01 & 15:01 & 00:00 & 00:00 & 00:00 & 00:00 & 01:01 & 01:01 & I416, I1277             \\\\\n",
       "\t 02:01 & 03:01 & 07:02 & 07:02 & 07:02 & 07:02 & 01:03 & 01:03 & 04:01 & 04:01 & ⋯ & 06:02 & 15:01 & 15:01 & 00:00 & 00:00 & 00:00 & 00:00 & 01:01 & 01:01 & I517, I1072, I1232      \\\\\n",
       "\t 02:01 & 30:01 & 07:02 & 13:02 & 06:02 & 07:02 & 01:03 & 02:01 & 04:01 & 17:01 & ⋯ & 06:02 & 07:01 & 15:01 & 00:00 & 00:00 & 00:00 & 01:01 & 00:00 & 01:01 & I528, I800              \\\\\n",
       "\t 01:01 & 02:01 & 08:01 & 51:01 & 07:01 & 14:02 & 01:03 & 01:03 & 03:01 & 04:01 & ⋯ & 04:02 & 03:01 & 08:01 & 00:00 & 01:01 & 00:00 & 00:00 & 00:00 & 00:00 & I585, I1365             \\\\\n",
       "\t 02:01 & 03:01 & 07:02 & 18:01 & 05:01 & 07:02 & 01:03 & 01:03 & 04:01 & 04:01 & ⋯ & 06:02 & 03:01 & 15:01 & 00:00 & 02:02 & 00:00 & 00:00 & 00:00 & 01:01 & I704, I901              \\\\\n",
       "\t 03:01 & 03:01 & 07:02 & 35:01 & 04:01 & 07:02 & 01:03 & 01:03 & 04:01 & 04:02 & ⋯ & 06:02 & 01:01 & 15:01 & 00:00 & 00:00 & 00:00 & 00:00 & 00:00 & 01:01 & I757, I1104             \\\\\n",
       "\t 01:01 & 02:01 & 08:01 & 44:02 & 05:01 & 07:01 & 01:03 & 01:03 & 04:01 & 04:02 & ⋯ & 03:01 & 03:01 & 12:01 & 01:01 & 02:02 & 00:00 & 00:00 & 00:00 & 00:00 & I883, I929              \\\\\n",
       "\\end{tabular}\n"
      ],
      "text/markdown": [
       "\n",
       "A tibble: 17 × 23\n",
       "\n",
       "| A.1 &lt;chr&gt; | A.2 &lt;chr&gt; | B.1 &lt;chr&gt; | B.2 &lt;chr&gt; | C.1 &lt;chr&gt; | C.2 &lt;chr&gt; | DPA1.1 &lt;chr&gt; | DPA1.2 &lt;chr&gt; | DPB1.1 &lt;chr&gt; | DPB1.2 &lt;chr&gt; | ⋯ ⋯ | DQB1.2 &lt;chr&gt; | DRB1.1 &lt;chr&gt; | DRB1.2 &lt;chr&gt; | DRB3.1 &lt;chr&gt; | DRB3.2 &lt;chr&gt; | DRB4.1 &lt;chr&gt; | DRB4.2 &lt;chr&gt; | DRB5.1 &lt;chr&gt; | DRB5.2 &lt;chr&gt; | patient_id &lt;chr&gt; |\n",
       "|---|---|---|---|---|---|---|---|---|---|---|---|---|---|---|---|---|---|---|---|---|\n",
       "| 02:01 | 03:01 | 07:02 | 35:01 | 04:01 | 07:02 | 01:03 | 01:03 | 04:01 | 04:02 | ⋯ | 06:02 | 11:01 | 15:01 | 00:00 | 02:02 | 00:00 | 00:00 | 00:00 | 01:01 | H160, I7                 |\n",
       "| 02:01 | 03:01 | 07:02 | 40:01 | 03:04 | 07:02 | 01:03 | 01:03 | 03:01 | 04:01 | ⋯ | 06:04 | 13:02 | 15:01 | 00:00 | 03:01 | 00:00 | 00:00 | 00:00 | 01:01 | H225, I770, I1003, I1390 |\n",
       "| 01:01 | 02:01 | 07:02 | 08:01 | 07:01 | 07:02 | 01:03 | 01:03 | 04:01 | 04:01 | ⋯ | 06:02 | 03:01 | 15:01 | 00:00 | 01:01 | 00:00 | 00:00 | 00:00 | 01:01 | H251, I161               |\n",
       "| 01:01 | 23:01 | 08:01 | 44:03 | 04:01 | 07:01 | 01:03 | 02:01 | 01:01 | 01:01 | ⋯ | 02:01 | 03:01 | 07:01 | 00:00 | 01:01 | 00:00 | 01:01 | 00:00 | 00:00 | H281, I1108              |\n",
       "| 01:01 | 02:01 | 08:01 | 44:02 | 05:01 | 07:01 | 01:03 | 01:03 | 01:01 | 04:01 | ⋯ | 03:01 | 03:01 | 04:01 | 00:00 | 01:01 | 00:00 | 01:01 | 00:00 | 00:00 | H425, I536               |\n",
       "| 01:01 | 02:01 | 07:02 | 57:01 | 06:02 | 07:02 | 01:03 | 01:03 | 04:01 | 04:01 | ⋯ | 06:02 | 07:01 | 15:01 | 00:00 | 00:00 | 00:00 | 01:01 | 00:00 | 01:01 | H626, H711               |\n",
       "| 01:01 | 03:01 | 07:02 | 08:01 | 07:01 | 07:02 | 01:03 | 01:03 | 04:01 | 04:01 | ⋯ | 06:02 | 03:01 | 15:01 | 00:00 | 01:01 | 00:00 | 00:00 | 00:00 | 01:01 | H689, I925               |\n",
       "| 01:01 | 01:01 | 08:01 | 08:01 | 07:01 | 07:01 | 01:03 | 01:03 | 01:01 | 01:01 | ⋯ | 02:01 | 03:01 | 03:01 | 01:01 | 01:01 | 00:00 | 00:00 | 00:00 | 00:00 | H746, I95                |\n",
       "| 01:01 | 03:01 | 07:02 | 08:01 | 07:01 | 07:02 | 01:03 | 01:03 | 01:01 | 04:01 | ⋯ | 06:02 | 03:01 | 15:01 | 00:00 | 01:01 | 00:00 | 00:00 | 00:00 | 01:01 | I34, I1154               |\n",
       "| 01:01 | 02:01 | 07:02 | 08:01 | 07:01 | 07:02 | 01:03 | 01:03 | 04:01 | 04:02 | ⋯ | 06:02 | 03:01 | 15:01 | 00:00 | 01:01 | 00:00 | 00:00 | 00:00 | 01:01 | I147, I829               |\n",
       "| 03:01 | 03:01 | 07:02 | 07:02 | 07:02 | 07:02 | 01:03 | 02:01 | 04:01 | 11:01 | ⋯ | 06:02 | 15:01 | 15:01 | 00:00 | 00:00 | 00:00 | 00:00 | 01:01 | 01:01 | I416, I1277              |\n",
       "| 02:01 | 03:01 | 07:02 | 07:02 | 07:02 | 07:02 | 01:03 | 01:03 | 04:01 | 04:01 | ⋯ | 06:02 | 15:01 | 15:01 | 00:00 | 00:00 | 00:00 | 00:00 | 01:01 | 01:01 | I517, I1072, I1232       |\n",
       "| 02:01 | 30:01 | 07:02 | 13:02 | 06:02 | 07:02 | 01:03 | 02:01 | 04:01 | 17:01 | ⋯ | 06:02 | 07:01 | 15:01 | 00:00 | 00:00 | 00:00 | 01:01 | 00:00 | 01:01 | I528, I800               |\n",
       "| 01:01 | 02:01 | 08:01 | 51:01 | 07:01 | 14:02 | 01:03 | 01:03 | 03:01 | 04:01 | ⋯ | 04:02 | 03:01 | 08:01 | 00:00 | 01:01 | 00:00 | 00:00 | 00:00 | 00:00 | I585, I1365              |\n",
       "| 02:01 | 03:01 | 07:02 | 18:01 | 05:01 | 07:02 | 01:03 | 01:03 | 04:01 | 04:01 | ⋯ | 06:02 | 03:01 | 15:01 | 00:00 | 02:02 | 00:00 | 00:00 | 00:00 | 01:01 | I704, I901               |\n",
       "| 03:01 | 03:01 | 07:02 | 35:01 | 04:01 | 07:02 | 01:03 | 01:03 | 04:01 | 04:02 | ⋯ | 06:02 | 01:01 | 15:01 | 00:00 | 00:00 | 00:00 | 00:00 | 00:00 | 01:01 | I757, I1104              |\n",
       "| 01:01 | 02:01 | 08:01 | 44:02 | 05:01 | 07:01 | 01:03 | 01:03 | 04:01 | 04:02 | ⋯ | 03:01 | 03:01 | 12:01 | 01:01 | 02:02 | 00:00 | 00:00 | 00:00 | 00:00 | I883, I929               |\n",
       "\n"
      ],
      "text/plain": [
       "   A.1   A.2   B.1   B.2   C.1   C.2   DPA1.1 DPA1.2 DPB1.1 DPB1.2 ⋯ DQB1.2\n",
       "1  02:01 03:01 07:02 35:01 04:01 07:02 01:03  01:03  04:01  04:02  ⋯ 06:02 \n",
       "2  02:01 03:01 07:02 40:01 03:04 07:02 01:03  01:03  03:01  04:01  ⋯ 06:04 \n",
       "3  01:01 02:01 07:02 08:01 07:01 07:02 01:03  01:03  04:01  04:01  ⋯ 06:02 \n",
       "4  01:01 23:01 08:01 44:03 04:01 07:01 01:03  02:01  01:01  01:01  ⋯ 02:01 \n",
       "5  01:01 02:01 08:01 44:02 05:01 07:01 01:03  01:03  01:01  04:01  ⋯ 03:01 \n",
       "6  01:01 02:01 07:02 57:01 06:02 07:02 01:03  01:03  04:01  04:01  ⋯ 06:02 \n",
       "7  01:01 03:01 07:02 08:01 07:01 07:02 01:03  01:03  04:01  04:01  ⋯ 06:02 \n",
       "8  01:01 01:01 08:01 08:01 07:01 07:01 01:03  01:03  01:01  01:01  ⋯ 02:01 \n",
       "9  01:01 03:01 07:02 08:01 07:01 07:02 01:03  01:03  01:01  04:01  ⋯ 06:02 \n",
       "10 01:01 02:01 07:02 08:01 07:01 07:02 01:03  01:03  04:01  04:02  ⋯ 06:02 \n",
       "11 03:01 03:01 07:02 07:02 07:02 07:02 01:03  02:01  04:01  11:01  ⋯ 06:02 \n",
       "12 02:01 03:01 07:02 07:02 07:02 07:02 01:03  01:03  04:01  04:01  ⋯ 06:02 \n",
       "13 02:01 30:01 07:02 13:02 06:02 07:02 01:03  02:01  04:01  17:01  ⋯ 06:02 \n",
       "14 01:01 02:01 08:01 51:01 07:01 14:02 01:03  01:03  03:01  04:01  ⋯ 04:02 \n",
       "15 02:01 03:01 07:02 18:01 05:01 07:02 01:03  01:03  04:01  04:01  ⋯ 06:02 \n",
       "16 03:01 03:01 07:02 35:01 04:01 07:02 01:03  01:03  04:01  04:02  ⋯ 06:02 \n",
       "17 01:01 02:01 08:01 44:02 05:01 07:01 01:03  01:03  04:01  04:02  ⋯ 03:01 \n",
       "   DRB1.1 DRB1.2 DRB3.1 DRB3.2 DRB4.1 DRB4.2 DRB5.1 DRB5.2\n",
       "1  11:01  15:01  00:00  02:02  00:00  00:00  00:00  01:01 \n",
       "2  13:02  15:01  00:00  03:01  00:00  00:00  00:00  01:01 \n",
       "3  03:01  15:01  00:00  01:01  00:00  00:00  00:00  01:01 \n",
       "4  03:01  07:01  00:00  01:01  00:00  01:01  00:00  00:00 \n",
       "5  03:01  04:01  00:00  01:01  00:00  01:01  00:00  00:00 \n",
       "6  07:01  15:01  00:00  00:00  00:00  01:01  00:00  01:01 \n",
       "7  03:01  15:01  00:00  01:01  00:00  00:00  00:00  01:01 \n",
       "8  03:01  03:01  01:01  01:01  00:00  00:00  00:00  00:00 \n",
       "9  03:01  15:01  00:00  01:01  00:00  00:00  00:00  01:01 \n",
       "10 03:01  15:01  00:00  01:01  00:00  00:00  00:00  01:01 \n",
       "11 15:01  15:01  00:00  00:00  00:00  00:00  01:01  01:01 \n",
       "12 15:01  15:01  00:00  00:00  00:00  00:00  01:01  01:01 \n",
       "13 07:01  15:01  00:00  00:00  00:00  01:01  00:00  01:01 \n",
       "14 03:01  08:01  00:00  01:01  00:00  00:00  00:00  00:00 \n",
       "15 03:01  15:01  00:00  02:02  00:00  00:00  00:00  01:01 \n",
       "16 01:01  15:01  00:00  00:00  00:00  00:00  00:00  01:01 \n",
       "17 03:01  12:01  01:01  02:02  00:00  00:00  00:00  00:00 \n",
       "   patient_id              \n",
       "1  H160, I7                \n",
       "2  H225, I770, I1003, I1390\n",
       "3  H251, I161              \n",
       "4  H281, I1108             \n",
       "5  H425, I536              \n",
       "6  H626, H711              \n",
       "7  H689, I925              \n",
       "8  H746, I95               \n",
       "9  I34, I1154              \n",
       "10 I147, I829              \n",
       "11 I416, I1277             \n",
       "12 I517, I1072, I1232      \n",
       "13 I528, I800              \n",
       "14 I585, I1365             \n",
       "15 I704, I901              \n",
       "16 I757, I1104             \n",
       "17 I883, I929              "
      ]
     },
     "metadata": {},
     "output_type": "display_data"
    }
   ],
   "source": [
    "hla_duplicated <- hla %>% \n",
    "    group_by(across(- patient_id)) %>%\n",
    "    mutate(patient_id = paste(unique(patient_id), collapse = ', ')) %>% \n",
    "    ungroup() %>%\n",
    "    distinct() %>%\n",
    "    filter(nchar(patient_id)>5)\n",
    "hla_duplicated"
   ]
  },
  {
   "cell_type": "code",
   "execution_count": 84,
   "id": "a9cf707b-c9f1-43eb-a6da-ceb2caff18c1",
   "metadata": {},
   "outputs": [],
   "source": [
    "write_tsv(hla_duplicated, '../data/hla_duplicated_healthy_and_ibd.tsv')"
   ]
  },
  {
   "cell_type": "code",
   "execution_count": 98,
   "id": "371e52e5-ef9c-41a3-b7be-51c3be829d27",
   "metadata": {
    "scrolled": true
   },
   "outputs": [],
   "source": [
    "hla_duplicated_with_ids <- hla_duplicated %>% rowwise() %>%\n",
    "    mutate(patient_id = strsplit(patient_id,','),\n",
    "          ids_to_keep = list(sample(patient_id, 1)),\n",
    "          ids_to_remove = list(setdiff(patient_id, ids_to_keep)))"
   ]
  },
  {
   "cell_type": "code",
   "execution_count": 100,
   "id": "25c3eefb-0b2d-43b4-bfda-9ba18ce113f3",
   "metadata": {
    "scrolled": true
   },
   "outputs": [
    {
     "data": {
      "text/html": [
       "<table class=\"dataframe\">\n",
       "<caption>A rowwise_df: 17 × 25</caption>\n",
       "<thead>\n",
       "\t<tr><th scope=col>A.1</th><th scope=col>A.2</th><th scope=col>B.1</th><th scope=col>B.2</th><th scope=col>C.1</th><th scope=col>C.2</th><th scope=col>DPA1.1</th><th scope=col>DPA1.2</th><th scope=col>DPB1.1</th><th scope=col>DPB1.2</th><th scope=col>⋯</th><th scope=col>DRB1.2</th><th scope=col>DRB3.1</th><th scope=col>DRB3.2</th><th scope=col>DRB4.1</th><th scope=col>DRB4.2</th><th scope=col>DRB5.1</th><th scope=col>DRB5.2</th><th scope=col>patient_id</th><th scope=col>ids_to_keep</th><th scope=col>ids_to_remove</th></tr>\n",
       "\t<tr><th scope=col>&lt;chr&gt;</th><th scope=col>&lt;chr&gt;</th><th scope=col>&lt;chr&gt;</th><th scope=col>&lt;chr&gt;</th><th scope=col>&lt;chr&gt;</th><th scope=col>&lt;chr&gt;</th><th scope=col>&lt;chr&gt;</th><th scope=col>&lt;chr&gt;</th><th scope=col>&lt;chr&gt;</th><th scope=col>&lt;chr&gt;</th><th scope=col>⋯</th><th scope=col>&lt;chr&gt;</th><th scope=col>&lt;chr&gt;</th><th scope=col>&lt;chr&gt;</th><th scope=col>&lt;chr&gt;</th><th scope=col>&lt;chr&gt;</th><th scope=col>&lt;chr&gt;</th><th scope=col>&lt;chr&gt;</th><th scope=col>&lt;list&gt;</th><th scope=col>&lt;list&gt;</th><th scope=col>&lt;list&gt;</th></tr>\n",
       "</thead>\n",
       "<tbody>\n",
       "\t<tr><td>02:01</td><td>03:01</td><td>07:02</td><td>35:01</td><td>04:01</td><td>07:02</td><td>01:03</td><td>01:03</td><td>04:01</td><td>04:02</td><td>⋯</td><td>15:01</td><td>00:00</td><td>02:02</td><td>00:00</td><td>00:00</td><td>00:00</td><td>01:01</td><td>H160,  I7 </td><td>H160</td><td> I7</td></tr>\n",
       "\t<tr><td>02:01</td><td>03:01</td><td>07:02</td><td>40:01</td><td>03:04</td><td>07:02</td><td>01:03</td><td>01:03</td><td>03:01</td><td>04:01</td><td>⋯</td><td>15:01</td><td>00:00</td><td>03:01</td><td>00:00</td><td>00:00</td><td>00:00</td><td>01:01</td><td>H225  ,  I770 ,  I1003,  I1390</td><td> I1003</td><td>H225  ,  I770 ,  I1390</td></tr>\n",
       "\t<tr><td>01:01</td><td>02:01</td><td>07:02</td><td>08:01</td><td>07:01</td><td>07:02</td><td>01:03</td><td>01:03</td><td>04:01</td><td>04:01</td><td>⋯</td><td>15:01</td><td>00:00</td><td>01:01</td><td>00:00</td><td>00:00</td><td>00:00</td><td>01:01</td><td>H251 ,  I161</td><td> I161</td><td>H251</td></tr>\n",
       "\t<tr><td>01:01</td><td>23:01</td><td>08:01</td><td>44:03</td><td>04:01</td><td>07:01</td><td>01:03</td><td>02:01</td><td>01:01</td><td>01:01</td><td>⋯</td><td>07:01</td><td>00:00</td><td>01:01</td><td>00:00</td><td>01:01</td><td>00:00</td><td>00:00</td><td>H281  ,  I1108</td><td>H281</td><td> I1108</td></tr>\n",
       "\t<tr><td>01:01</td><td>02:01</td><td>08:01</td><td>44:02</td><td>05:01</td><td>07:01</td><td>01:03</td><td>01:03</td><td>01:01</td><td>04:01</td><td>⋯</td><td>04:01</td><td>00:00</td><td>01:01</td><td>00:00</td><td>01:01</td><td>00:00</td><td>00:00</td><td>H425 ,  I536</td><td>H425</td><td> I536</td></tr>\n",
       "\t<tr><td>01:01</td><td>02:01</td><td>07:02</td><td>57:01</td><td>06:02</td><td>07:02</td><td>01:03</td><td>01:03</td><td>04:01</td><td>04:01</td><td>⋯</td><td>15:01</td><td>00:00</td><td>00:00</td><td>00:00</td><td>01:01</td><td>00:00</td><td>01:01</td><td>H626 ,  H711</td><td>H626</td><td> H711</td></tr>\n",
       "\t<tr><td>01:01</td><td>03:01</td><td>07:02</td><td>08:01</td><td>07:01</td><td>07:02</td><td>01:03</td><td>01:03</td><td>04:01</td><td>04:01</td><td>⋯</td><td>15:01</td><td>00:00</td><td>01:01</td><td>00:00</td><td>00:00</td><td>00:00</td><td>01:01</td><td>H689 ,  I925</td><td> I925</td><td>H689</td></tr>\n",
       "\t<tr><td>01:01</td><td>01:01</td><td>08:01</td><td>08:01</td><td>07:01</td><td>07:01</td><td>01:03</td><td>01:03</td><td>01:01</td><td>01:01</td><td>⋯</td><td>03:01</td><td>01:01</td><td>01:01</td><td>00:00</td><td>00:00</td><td>00:00</td><td>00:00</td><td>H746,  I95</td><td> I95</td><td>H746</td></tr>\n",
       "\t<tr><td>01:01</td><td>03:01</td><td>07:02</td><td>08:01</td><td>07:01</td><td>07:02</td><td>01:03</td><td>01:03</td><td>01:01</td><td>04:01</td><td>⋯</td><td>15:01</td><td>00:00</td><td>01:01</td><td>00:00</td><td>00:00</td><td>00:00</td><td>01:01</td><td>I34   ,  I1154</td><td> I1154</td><td>I34</td></tr>\n",
       "\t<tr><td>01:01</td><td>02:01</td><td>07:02</td><td>08:01</td><td>07:01</td><td>07:02</td><td>01:03</td><td>01:03</td><td>04:01</td><td>04:02</td><td>⋯</td><td>15:01</td><td>00:00</td><td>01:01</td><td>00:00</td><td>00:00</td><td>00:00</td><td>01:01</td><td>I147 ,  I829</td><td>I147</td><td> I829</td></tr>\n",
       "\t<tr><td>03:01</td><td>03:01</td><td>07:02</td><td>07:02</td><td>07:02</td><td>07:02</td><td>01:03</td><td>02:01</td><td>04:01</td><td>11:01</td><td>⋯</td><td>15:01</td><td>00:00</td><td>00:00</td><td>00:00</td><td>00:00</td><td>01:01</td><td>01:01</td><td>I416  ,  I1277</td><td> I1277</td><td>I416</td></tr>\n",
       "\t<tr><td>02:01</td><td>03:01</td><td>07:02</td><td>07:02</td><td>07:02</td><td>07:02</td><td>01:03</td><td>01:03</td><td>04:01</td><td>04:01</td><td>⋯</td><td>15:01</td><td>00:00</td><td>00:00</td><td>00:00</td><td>00:00</td><td>01:01</td><td>01:01</td><td>I517  ,  I1072,  I1232</td><td> I1072</td><td>I517  ,  I1232</td></tr>\n",
       "\t<tr><td>02:01</td><td>30:01</td><td>07:02</td><td>13:02</td><td>06:02</td><td>07:02</td><td>01:03</td><td>02:01</td><td>04:01</td><td>17:01</td><td>⋯</td><td>15:01</td><td>00:00</td><td>00:00</td><td>00:00</td><td>01:01</td><td>00:00</td><td>01:01</td><td>I528 ,  I800</td><td> I800</td><td>I528</td></tr>\n",
       "\t<tr><td>01:01</td><td>02:01</td><td>08:01</td><td>51:01</td><td>07:01</td><td>14:02</td><td>01:03</td><td>01:03</td><td>03:01</td><td>04:01</td><td>⋯</td><td>08:01</td><td>00:00</td><td>01:01</td><td>00:00</td><td>00:00</td><td>00:00</td><td>00:00</td><td>I585  ,  I1365</td><td> I1365</td><td>I585</td></tr>\n",
       "\t<tr><td>02:01</td><td>03:01</td><td>07:02</td><td>18:01</td><td>05:01</td><td>07:02</td><td>01:03</td><td>01:03</td><td>04:01</td><td>04:01</td><td>⋯</td><td>15:01</td><td>00:00</td><td>02:02</td><td>00:00</td><td>00:00</td><td>00:00</td><td>01:01</td><td>I704 ,  I901</td><td>I704</td><td> I901</td></tr>\n",
       "\t<tr><td>03:01</td><td>03:01</td><td>07:02</td><td>35:01</td><td>04:01</td><td>07:02</td><td>01:03</td><td>01:03</td><td>04:01</td><td>04:02</td><td>⋯</td><td>15:01</td><td>00:00</td><td>00:00</td><td>00:00</td><td>00:00</td><td>00:00</td><td>01:01</td><td>I757  ,  I1104</td><td> I1104</td><td>I757</td></tr>\n",
       "\t<tr><td>01:01</td><td>02:01</td><td>08:01</td><td>44:02</td><td>05:01</td><td>07:01</td><td>01:03</td><td>01:03</td><td>04:01</td><td>04:02</td><td>⋯</td><td>12:01</td><td>01:01</td><td>02:02</td><td>00:00</td><td>00:00</td><td>00:00</td><td>00:00</td><td>I883 ,  I929</td><td> I929</td><td>I883</td></tr>\n",
       "</tbody>\n",
       "</table>\n"
      ],
      "text/latex": [
       "A rowwise\\_df: 17 × 25\n",
       "\\begin{tabular}{lllllllllllllllllllll}\n",
       " A.1 & A.2 & B.1 & B.2 & C.1 & C.2 & DPA1.1 & DPA1.2 & DPB1.1 & DPB1.2 & ⋯ & DRB1.2 & DRB3.1 & DRB3.2 & DRB4.1 & DRB4.2 & DRB5.1 & DRB5.2 & patient\\_id & ids\\_to\\_keep & ids\\_to\\_remove\\\\\n",
       " <chr> & <chr> & <chr> & <chr> & <chr> & <chr> & <chr> & <chr> & <chr> & <chr> & ⋯ & <chr> & <chr> & <chr> & <chr> & <chr> & <chr> & <chr> & <list> & <list> & <list>\\\\\n",
       "\\hline\n",
       "\t 02:01 & 03:01 & 07:02 & 35:01 & 04:01 & 07:02 & 01:03 & 01:03 & 04:01 & 04:02 & ⋯ & 15:01 & 00:00 & 02:02 & 00:00 & 00:00 & 00:00 & 01:01 & H160,  I7  & H160 &  I7\\\\\n",
       "\t 02:01 & 03:01 & 07:02 & 40:01 & 03:04 & 07:02 & 01:03 & 01:03 & 03:01 & 04:01 & ⋯ & 15:01 & 00:00 & 03:01 & 00:00 & 00:00 & 00:00 & 01:01 & H225  ,  I770 ,  I1003,  I1390 &  I1003 & H225  ,  I770 ,  I1390\\\\\n",
       "\t 01:01 & 02:01 & 07:02 & 08:01 & 07:01 & 07:02 & 01:03 & 01:03 & 04:01 & 04:01 & ⋯ & 15:01 & 00:00 & 01:01 & 00:00 & 00:00 & 00:00 & 01:01 & H251 ,  I161 &  I161 & H251\\\\\n",
       "\t 01:01 & 23:01 & 08:01 & 44:03 & 04:01 & 07:01 & 01:03 & 02:01 & 01:01 & 01:01 & ⋯ & 07:01 & 00:00 & 01:01 & 00:00 & 01:01 & 00:00 & 00:00 & H281  ,  I1108 & H281 &  I1108\\\\\n",
       "\t 01:01 & 02:01 & 08:01 & 44:02 & 05:01 & 07:01 & 01:03 & 01:03 & 01:01 & 04:01 & ⋯ & 04:01 & 00:00 & 01:01 & 00:00 & 01:01 & 00:00 & 00:00 & H425 ,  I536 & H425 &  I536\\\\\n",
       "\t 01:01 & 02:01 & 07:02 & 57:01 & 06:02 & 07:02 & 01:03 & 01:03 & 04:01 & 04:01 & ⋯ & 15:01 & 00:00 & 00:00 & 00:00 & 01:01 & 00:00 & 01:01 & H626 ,  H711 & H626 &  H711\\\\\n",
       "\t 01:01 & 03:01 & 07:02 & 08:01 & 07:01 & 07:02 & 01:03 & 01:03 & 04:01 & 04:01 & ⋯ & 15:01 & 00:00 & 01:01 & 00:00 & 00:00 & 00:00 & 01:01 & H689 ,  I925 &  I925 & H689\\\\\n",
       "\t 01:01 & 01:01 & 08:01 & 08:01 & 07:01 & 07:01 & 01:03 & 01:03 & 01:01 & 01:01 & ⋯ & 03:01 & 01:01 & 01:01 & 00:00 & 00:00 & 00:00 & 00:00 & H746,  I95 &  I95 & H746\\\\\n",
       "\t 01:01 & 03:01 & 07:02 & 08:01 & 07:01 & 07:02 & 01:03 & 01:03 & 01:01 & 04:01 & ⋯ & 15:01 & 00:00 & 01:01 & 00:00 & 00:00 & 00:00 & 01:01 & I34   ,  I1154 &  I1154 & I34\\\\\n",
       "\t 01:01 & 02:01 & 07:02 & 08:01 & 07:01 & 07:02 & 01:03 & 01:03 & 04:01 & 04:02 & ⋯ & 15:01 & 00:00 & 01:01 & 00:00 & 00:00 & 00:00 & 01:01 & I147 ,  I829 & I147 &  I829\\\\\n",
       "\t 03:01 & 03:01 & 07:02 & 07:02 & 07:02 & 07:02 & 01:03 & 02:01 & 04:01 & 11:01 & ⋯ & 15:01 & 00:00 & 00:00 & 00:00 & 00:00 & 01:01 & 01:01 & I416  ,  I1277 &  I1277 & I416\\\\\n",
       "\t 02:01 & 03:01 & 07:02 & 07:02 & 07:02 & 07:02 & 01:03 & 01:03 & 04:01 & 04:01 & ⋯ & 15:01 & 00:00 & 00:00 & 00:00 & 00:00 & 01:01 & 01:01 & I517  ,  I1072,  I1232 &  I1072 & I517  ,  I1232\\\\\n",
       "\t 02:01 & 30:01 & 07:02 & 13:02 & 06:02 & 07:02 & 01:03 & 02:01 & 04:01 & 17:01 & ⋯ & 15:01 & 00:00 & 00:00 & 00:00 & 01:01 & 00:00 & 01:01 & I528 ,  I800 &  I800 & I528\\\\\n",
       "\t 01:01 & 02:01 & 08:01 & 51:01 & 07:01 & 14:02 & 01:03 & 01:03 & 03:01 & 04:01 & ⋯ & 08:01 & 00:00 & 01:01 & 00:00 & 00:00 & 00:00 & 00:00 & I585  ,  I1365 &  I1365 & I585\\\\\n",
       "\t 02:01 & 03:01 & 07:02 & 18:01 & 05:01 & 07:02 & 01:03 & 01:03 & 04:01 & 04:01 & ⋯ & 15:01 & 00:00 & 02:02 & 00:00 & 00:00 & 00:00 & 01:01 & I704 ,  I901 & I704 &  I901\\\\\n",
       "\t 03:01 & 03:01 & 07:02 & 35:01 & 04:01 & 07:02 & 01:03 & 01:03 & 04:01 & 04:02 & ⋯ & 15:01 & 00:00 & 00:00 & 00:00 & 00:00 & 00:00 & 01:01 & I757  ,  I1104 &  I1104 & I757\\\\\n",
       "\t 01:01 & 02:01 & 08:01 & 44:02 & 05:01 & 07:01 & 01:03 & 01:03 & 04:01 & 04:02 & ⋯ & 12:01 & 01:01 & 02:02 & 00:00 & 00:00 & 00:00 & 00:00 & I883 ,  I929 &  I929 & I883\\\\\n",
       "\\end{tabular}\n"
      ],
      "text/markdown": [
       "\n",
       "A rowwise_df: 17 × 25\n",
       "\n",
       "| A.1 &lt;chr&gt; | A.2 &lt;chr&gt; | B.1 &lt;chr&gt; | B.2 &lt;chr&gt; | C.1 &lt;chr&gt; | C.2 &lt;chr&gt; | DPA1.1 &lt;chr&gt; | DPA1.2 &lt;chr&gt; | DPB1.1 &lt;chr&gt; | DPB1.2 &lt;chr&gt; | ⋯ ⋯ | DRB1.2 &lt;chr&gt; | DRB3.1 &lt;chr&gt; | DRB3.2 &lt;chr&gt; | DRB4.1 &lt;chr&gt; | DRB4.2 &lt;chr&gt; | DRB5.1 &lt;chr&gt; | DRB5.2 &lt;chr&gt; | patient_id &lt;list&gt; | ids_to_keep &lt;list&gt; | ids_to_remove &lt;list&gt; |\n",
       "|---|---|---|---|---|---|---|---|---|---|---|---|---|---|---|---|---|---|---|---|---|\n",
       "| 02:01 | 03:01 | 07:02 | 35:01 | 04:01 | 07:02 | 01:03 | 01:03 | 04:01 | 04:02 | ⋯ | 15:01 | 00:00 | 02:02 | 00:00 | 00:00 | 00:00 | 01:01 | H160,  I7  | H160 |  I7 |\n",
       "| 02:01 | 03:01 | 07:02 | 40:01 | 03:04 | 07:02 | 01:03 | 01:03 | 03:01 | 04:01 | ⋯ | 15:01 | 00:00 | 03:01 | 00:00 | 00:00 | 00:00 | 01:01 | H225  ,  I770 ,  I1003,  I1390 |  I1003 | H225  ,  I770 ,  I1390 |\n",
       "| 01:01 | 02:01 | 07:02 | 08:01 | 07:01 | 07:02 | 01:03 | 01:03 | 04:01 | 04:01 | ⋯ | 15:01 | 00:00 | 01:01 | 00:00 | 00:00 | 00:00 | 01:01 | H251 ,  I161 |  I161 | H251 |\n",
       "| 01:01 | 23:01 | 08:01 | 44:03 | 04:01 | 07:01 | 01:03 | 02:01 | 01:01 | 01:01 | ⋯ | 07:01 | 00:00 | 01:01 | 00:00 | 01:01 | 00:00 | 00:00 | H281  ,  I1108 | H281 |  I1108 |\n",
       "| 01:01 | 02:01 | 08:01 | 44:02 | 05:01 | 07:01 | 01:03 | 01:03 | 01:01 | 04:01 | ⋯ | 04:01 | 00:00 | 01:01 | 00:00 | 01:01 | 00:00 | 00:00 | H425 ,  I536 | H425 |  I536 |\n",
       "| 01:01 | 02:01 | 07:02 | 57:01 | 06:02 | 07:02 | 01:03 | 01:03 | 04:01 | 04:01 | ⋯ | 15:01 | 00:00 | 00:00 | 00:00 | 01:01 | 00:00 | 01:01 | H626 ,  H711 | H626 |  H711 |\n",
       "| 01:01 | 03:01 | 07:02 | 08:01 | 07:01 | 07:02 | 01:03 | 01:03 | 04:01 | 04:01 | ⋯ | 15:01 | 00:00 | 01:01 | 00:00 | 00:00 | 00:00 | 01:01 | H689 ,  I925 |  I925 | H689 |\n",
       "| 01:01 | 01:01 | 08:01 | 08:01 | 07:01 | 07:01 | 01:03 | 01:03 | 01:01 | 01:01 | ⋯ | 03:01 | 01:01 | 01:01 | 00:00 | 00:00 | 00:00 | 00:00 | H746,  I95 |  I95 | H746 |\n",
       "| 01:01 | 03:01 | 07:02 | 08:01 | 07:01 | 07:02 | 01:03 | 01:03 | 01:01 | 04:01 | ⋯ | 15:01 | 00:00 | 01:01 | 00:00 | 00:00 | 00:00 | 01:01 | I34   ,  I1154 |  I1154 | I34 |\n",
       "| 01:01 | 02:01 | 07:02 | 08:01 | 07:01 | 07:02 | 01:03 | 01:03 | 04:01 | 04:02 | ⋯ | 15:01 | 00:00 | 01:01 | 00:00 | 00:00 | 00:00 | 01:01 | I147 ,  I829 | I147 |  I829 |\n",
       "| 03:01 | 03:01 | 07:02 | 07:02 | 07:02 | 07:02 | 01:03 | 02:01 | 04:01 | 11:01 | ⋯ | 15:01 | 00:00 | 00:00 | 00:00 | 00:00 | 01:01 | 01:01 | I416  ,  I1277 |  I1277 | I416 |\n",
       "| 02:01 | 03:01 | 07:02 | 07:02 | 07:02 | 07:02 | 01:03 | 01:03 | 04:01 | 04:01 | ⋯ | 15:01 | 00:00 | 00:00 | 00:00 | 00:00 | 01:01 | 01:01 | I517  ,  I1072,  I1232 |  I1072 | I517  ,  I1232 |\n",
       "| 02:01 | 30:01 | 07:02 | 13:02 | 06:02 | 07:02 | 01:03 | 02:01 | 04:01 | 17:01 | ⋯ | 15:01 | 00:00 | 00:00 | 00:00 | 01:01 | 00:00 | 01:01 | I528 ,  I800 |  I800 | I528 |\n",
       "| 01:01 | 02:01 | 08:01 | 51:01 | 07:01 | 14:02 | 01:03 | 01:03 | 03:01 | 04:01 | ⋯ | 08:01 | 00:00 | 01:01 | 00:00 | 00:00 | 00:00 | 00:00 | I585  ,  I1365 |  I1365 | I585 |\n",
       "| 02:01 | 03:01 | 07:02 | 18:01 | 05:01 | 07:02 | 01:03 | 01:03 | 04:01 | 04:01 | ⋯ | 15:01 | 00:00 | 02:02 | 00:00 | 00:00 | 00:00 | 01:01 | I704 ,  I901 | I704 |  I901 |\n",
       "| 03:01 | 03:01 | 07:02 | 35:01 | 04:01 | 07:02 | 01:03 | 01:03 | 04:01 | 04:02 | ⋯ | 15:01 | 00:00 | 00:00 | 00:00 | 00:00 | 00:00 | 01:01 | I757  ,  I1104 |  I1104 | I757 |\n",
       "| 01:01 | 02:01 | 08:01 | 44:02 | 05:01 | 07:01 | 01:03 | 01:03 | 04:01 | 04:02 | ⋯ | 12:01 | 01:01 | 02:02 | 00:00 | 00:00 | 00:00 | 00:00 | I883 ,  I929 |  I929 | I883 |\n",
       "\n"
      ],
      "text/plain": [
       "   A.1   A.2   B.1   B.2   C.1   C.2   DPA1.1 DPA1.2 DPB1.1 DPB1.2 ⋯ DRB1.2\n",
       "1  02:01 03:01 07:02 35:01 04:01 07:02 01:03  01:03  04:01  04:02  ⋯ 15:01 \n",
       "2  02:01 03:01 07:02 40:01 03:04 07:02 01:03  01:03  03:01  04:01  ⋯ 15:01 \n",
       "3  01:01 02:01 07:02 08:01 07:01 07:02 01:03  01:03  04:01  04:01  ⋯ 15:01 \n",
       "4  01:01 23:01 08:01 44:03 04:01 07:01 01:03  02:01  01:01  01:01  ⋯ 07:01 \n",
       "5  01:01 02:01 08:01 44:02 05:01 07:01 01:03  01:03  01:01  04:01  ⋯ 04:01 \n",
       "6  01:01 02:01 07:02 57:01 06:02 07:02 01:03  01:03  04:01  04:01  ⋯ 15:01 \n",
       "7  01:01 03:01 07:02 08:01 07:01 07:02 01:03  01:03  04:01  04:01  ⋯ 15:01 \n",
       "8  01:01 01:01 08:01 08:01 07:01 07:01 01:03  01:03  01:01  01:01  ⋯ 03:01 \n",
       "9  01:01 03:01 07:02 08:01 07:01 07:02 01:03  01:03  01:01  04:01  ⋯ 15:01 \n",
       "10 01:01 02:01 07:02 08:01 07:01 07:02 01:03  01:03  04:01  04:02  ⋯ 15:01 \n",
       "11 03:01 03:01 07:02 07:02 07:02 07:02 01:03  02:01  04:01  11:01  ⋯ 15:01 \n",
       "12 02:01 03:01 07:02 07:02 07:02 07:02 01:03  01:03  04:01  04:01  ⋯ 15:01 \n",
       "13 02:01 30:01 07:02 13:02 06:02 07:02 01:03  02:01  04:01  17:01  ⋯ 15:01 \n",
       "14 01:01 02:01 08:01 51:01 07:01 14:02 01:03  01:03  03:01  04:01  ⋯ 08:01 \n",
       "15 02:01 03:01 07:02 18:01 05:01 07:02 01:03  01:03  04:01  04:01  ⋯ 15:01 \n",
       "16 03:01 03:01 07:02 35:01 04:01 07:02 01:03  01:03  04:01  04:02  ⋯ 15:01 \n",
       "17 01:01 02:01 08:01 44:02 05:01 07:01 01:03  01:03  04:01  04:02  ⋯ 12:01 \n",
       "   DRB3.1 DRB3.2 DRB4.1 DRB4.2 DRB5.1 DRB5.2 patient_id                    \n",
       "1  00:00  02:02  00:00  00:00  00:00  01:01  H160,  I7                     \n",
       "2  00:00  03:01  00:00  00:00  00:00  01:01  H225  ,  I770 ,  I1003,  I1390\n",
       "3  00:00  01:01  00:00  00:00  00:00  01:01  H251 ,  I161                  \n",
       "4  00:00  01:01  00:00  01:01  00:00  00:00  H281  ,  I1108                \n",
       "5  00:00  01:01  00:00  01:01  00:00  00:00  H425 ,  I536                  \n",
       "6  00:00  00:00  00:00  01:01  00:00  01:01  H626 ,  H711                  \n",
       "7  00:00  01:01  00:00  00:00  00:00  01:01  H689 ,  I925                  \n",
       "8  01:01  01:01  00:00  00:00  00:00  00:00  H746,  I95                    \n",
       "9  00:00  01:01  00:00  00:00  00:00  01:01  I34   ,  I1154                \n",
       "10 00:00  01:01  00:00  00:00  00:00  01:01  I147 ,  I829                  \n",
       "11 00:00  00:00  00:00  00:00  01:01  01:01  I416  ,  I1277                \n",
       "12 00:00  00:00  00:00  00:00  01:01  01:01  I517  ,  I1072,  I1232        \n",
       "13 00:00  00:00  00:00  01:01  00:00  01:01  I528 ,  I800                  \n",
       "14 00:00  01:01  00:00  00:00  00:00  00:00  I585  ,  I1365                \n",
       "15 00:00  02:02  00:00  00:00  00:00  01:01  I704 ,  I901                  \n",
       "16 00:00  00:00  00:00  00:00  00:00  01:01  I757  ,  I1104                \n",
       "17 01:01  02:02  00:00  00:00  00:00  00:00  I883 ,  I929                  \n",
       "   ids_to_keep ids_to_remove         \n",
       "1  H160         I7                   \n",
       "2   I1003      H225  ,  I770 ,  I1390\n",
       "3   I161       H251                  \n",
       "4  H281         I1108                \n",
       "5  H425         I536                 \n",
       "6  H626         H711                 \n",
       "7   I925       H689                  \n",
       "8   I95        H746                  \n",
       "9   I1154      I34                   \n",
       "10 I147         I829                 \n",
       "11  I1277      I416                  \n",
       "12  I1072      I517  ,  I1232        \n",
       "13  I800       I528                  \n",
       "14  I1365      I585                  \n",
       "15 I704         I901                 \n",
       "16  I1104      I757                  \n",
       "17  I929       I883                  "
      ]
     },
     "metadata": {},
     "output_type": "display_data"
    }
   ],
   "source": [
    "hla_duplicated_with_ids"
   ]
  },
  {
   "cell_type": "code",
   "execution_count": 103,
   "id": "06a70088-24ce-45dc-9d00-85f8c0eaed76",
   "metadata": {},
   "outputs": [],
   "source": [
    "ids_to_remove <- unlist(pull(hla_duplicated_with_ids, ids_to_remove))\n",
    "write.table(ids_to_remove, '../data/ids_to_remove_duplicates.txt', col.names = FALSE, row.names = FALSE, quote = FALSE)"
   ]
  },
  {
   "cell_type": "code",
   "execution_count": 18,
   "id": "15d08ed9-7a15-49ef-9853-3604fa93105c",
   "metadata": {},
   "outputs": [],
   "source": [
    "hla_unique <- hla %>% select(-c(patient_id, DRB3.1, DRB3.2,\tDRB4.1,\tDRB4.2,\tDRB5.1,\tDRB5.2)) %>% distinct()"
   ]
  },
  {
   "cell_type": "code",
   "execution_count": 19,
   "id": "7733e9aa-0328-4416-992c-29457d604e2b",
   "metadata": {},
   "outputs": [],
   "source": [
    "hla_all <- hla %>% select(-c(patient_id, DRB3.1,DRB3.2,\tDRB4.1,\tDRB4.2,\tDRB5.1,\tDRB5.2))"
   ]
  },
  {
   "cell_type": "code",
   "execution_count": 27,
   "id": "02daab62-3d39-4c91-9f03-b51b2bdd47e1",
   "metadata": {},
   "outputs": [],
   "source": [
    "dulicated <- hla[duplicated(hla_all),]\n",
    "duplicated_ids <- pull(dulicated, patient_id)"
   ]
  },
  {
   "cell_type": "code",
   "execution_count": 28,
   "id": "0fe61b82-c489-4d8d-8bc1-9f10e76a92a4",
   "metadata": {},
   "outputs": [
    {
     "data": {
      "text/html": [
       "<style>\n",
       ".list-inline {list-style: none; margin:0; padding: 0}\n",
       ".list-inline>li {display: inline-block}\n",
       ".list-inline>li:not(:last-child)::after {content: \"\\00b7\"; padding: 0 .5ex}\n",
       "</style>\n",
       "<ol class=list-inline><li>'H711'</li><li>'I7'</li><li>'I95'</li><li>'I161'</li><li>'I229'</li><li>'I314'</li><li>'I347'</li><li>'I398'</li><li>'I436'</li><li>'I536'</li><li>'I551'</li><li>'I556'</li><li>'I633'</li><li>'I644'</li><li>'I651'</li><li>'I738'</li><li>'I770'</li><li>'I800'</li><li>'I829'</li><li>'I901'</li><li>'I925'</li><li>'I929'</li><li>'I1003'</li><li>'I1057'</li><li>'I1072'</li><li>'I1104'</li><li>'I1108'</li><li>'I1154'</li><li>'I1232'</li><li>'I1277'</li><li>'I1292'</li><li>'I1365'</li><li>'I1390'</li></ol>\n"
      ],
      "text/latex": [
       "\\begin{enumerate*}\n",
       "\\item 'H711'\n",
       "\\item 'I7'\n",
       "\\item 'I95'\n",
       "\\item 'I161'\n",
       "\\item 'I229'\n",
       "\\item 'I314'\n",
       "\\item 'I347'\n",
       "\\item 'I398'\n",
       "\\item 'I436'\n",
       "\\item 'I536'\n",
       "\\item 'I551'\n",
       "\\item 'I556'\n",
       "\\item 'I633'\n",
       "\\item 'I644'\n",
       "\\item 'I651'\n",
       "\\item 'I738'\n",
       "\\item 'I770'\n",
       "\\item 'I800'\n",
       "\\item 'I829'\n",
       "\\item 'I901'\n",
       "\\item 'I925'\n",
       "\\item 'I929'\n",
       "\\item 'I1003'\n",
       "\\item 'I1057'\n",
       "\\item 'I1072'\n",
       "\\item 'I1104'\n",
       "\\item 'I1108'\n",
       "\\item 'I1154'\n",
       "\\item 'I1232'\n",
       "\\item 'I1277'\n",
       "\\item 'I1292'\n",
       "\\item 'I1365'\n",
       "\\item 'I1390'\n",
       "\\end{enumerate*}\n"
      ],
      "text/markdown": [
       "1. 'H711'\n",
       "2. 'I7'\n",
       "3. 'I95'\n",
       "4. 'I161'\n",
       "5. 'I229'\n",
       "6. 'I314'\n",
       "7. 'I347'\n",
       "8. 'I398'\n",
       "9. 'I436'\n",
       "10. 'I536'\n",
       "11. 'I551'\n",
       "12. 'I556'\n",
       "13. 'I633'\n",
       "14. 'I644'\n",
       "15. 'I651'\n",
       "16. 'I738'\n",
       "17. 'I770'\n",
       "18. 'I800'\n",
       "19. 'I829'\n",
       "20. 'I901'\n",
       "21. 'I925'\n",
       "22. 'I929'\n",
       "23. 'I1003'\n",
       "24. 'I1057'\n",
       "25. 'I1072'\n",
       "26. 'I1104'\n",
       "27. 'I1108'\n",
       "28. 'I1154'\n",
       "29. 'I1232'\n",
       "30. 'I1277'\n",
       "31. 'I1292'\n",
       "32. 'I1365'\n",
       "33. 'I1390'\n",
       "\n",
       "\n"
      ],
      "text/plain": [
       " [1] \"H711\"  \"I7\"    \"I95\"   \"I161\"  \"I229\"  \"I314\"  \"I347\"  \"I398\"  \"I436\" \n",
       "[10] \"I536\"  \"I551\"  \"I556\"  \"I633\"  \"I644\"  \"I651\"  \"I738\"  \"I770\"  \"I800\" \n",
       "[19] \"I829\"  \"I901\"  \"I925\"  \"I929\"  \"I1003\" \"I1057\" \"I1072\" \"I1104\" \"I1108\"\n",
       "[28] \"I1154\" \"I1232\" \"I1277\" \"I1292\" \"I1365\" \"I1390\""
      ]
     },
     "metadata": {},
     "output_type": "display_data"
    }
   ],
   "source": [
    "duplicated_ids"
   ]
  },
  {
   "cell_type": "markdown",
   "id": "6a1f25c1-bb6f-4801-b526-261a2c87bc0a",
   "metadata": {},
   "source": [
    "### HLA of IBD patients"
   ]
  },
  {
   "cell_type": "code",
   "execution_count": 173,
   "id": "f3dca80d-6e1a-4e8e-af1d-5ce0a1a70d19",
   "metadata": {},
   "outputs": [],
   "source": [
    "duplicated_ids <- unlist(duplicated_ids)"
   ]
  },
  {
   "cell_type": "code",
   "execution_count": 13,
   "id": "cac37105-62de-4971-a72e-a1c98e94f868",
   "metadata": {},
   "outputs": [],
   "source": [
    "hla_features <- hla  %>% \n",
    "    pivot_longer(cols = (- 'patient_id'), names_to = 'genes', values_to = 'allele') %>%     \n",
    "    separate(genes, into = c('gene', 'gene_copy'), sep = '\\\\.', remove = TRUE) %>%\n",
    "    mutate(allele = paste0(gene,'*', allele)) %>% \n",
    "    dplyr::select(-gene_copy) %>%\n",
    "    distinct() %>%\n",
    "    group_by(patient_id, gene) %>%\n",
    "    mutate(homo_hetero = ifelse((length(allele) == 1), 2, 1)) %>%\n",
    "    ungroup() %>%\n",
    "    filter(!grepl('00:00', allele))\n",
    "\n",
    "write_tsv(hla_features, '../data/hla/hla_features.tsv')"
   ]
  },
  {
   "cell_type": "code",
   "execution_count": 26,
   "id": "ce61f13a-1b87-40b2-9c3e-c911e912ba41",
   "metadata": {
    "scrolled": true
   },
   "outputs": [],
   "source": [
    "#------------uploading patients data--------\n",
    "\n",
    "hla_features <- hla_healthy  %>% \n",
    "    pivot_longer(cols = (- 'patient_id'), names_to = 'genes', values_to = 'allele') %>%     \n",
    "    separate(genes, into = c('gene', 'gene_copy'), sep = '\\\\.', remove = TRUE) %>%\n",
    "    mutate(allele = paste0(gene,'*', allele)) %>% \n",
    "    select(-gene_copy) %>%\n",
    "    distinct() %>%\n",
    "    group_by(patient_id, gene) %>%\n",
    "    mutate(homo_hetero = ifelse((length(allele) == 1), 2, 1)) %>%\n",
    "    ungroup()\n",
    "\n",
    "\n",
    "# Remove rows that contain the substring '00:00'\n",
    "hla_features <- hla_features %>% filter(!apply(., 1, contains_substring))\n",
    "\n",
    "write_tsv(hla_features, '../data/healthy_hla_features.tsv')"
   ]
  },
  {
   "cell_type": "code",
   "execution_count": 7,
   "id": "6ff5ca2e-8cf7-4829-9d7e-f175d0f9b199",
   "metadata": {},
   "outputs": [
    {
     "name": "stderr",
     "output_type": "stream",
     "text": [
      "\u001b[1mRows: \u001b[22m\u001b[34m18730\u001b[39m \u001b[1mColumns: \u001b[22m\u001b[34m4\u001b[39m\n",
      "\u001b[36m──\u001b[39m \u001b[1mColumn specification\u001b[22m \u001b[36m───────────────────────────────────────────────────────────────────────────────────────────────────────────────────────────────────────────────────────────────────────────────────────────────────────────────────────────────────────────\u001b[39m\n",
      "\u001b[1mDelimiter:\u001b[22m \"\\t\"\n",
      "\u001b[31mchr\u001b[39m (3): patient_id, gene, allele\n",
      "\u001b[32mdbl\u001b[39m (1): homo_hetero\n",
      "\n",
      "\u001b[36mℹ\u001b[39m Use `spec()` to retrieve the full column specification for this data.\n",
      "\u001b[36mℹ\u001b[39m Specify the column types or set `show_col_types = FALSE` to quiet this message.\n"
     ]
    }
   ],
   "source": [
    "ibd_hla_features <- read_tsv('../data/ibd_hla_features.tsv')"
   ]
  },
  {
   "cell_type": "code",
   "execution_count": 9,
   "id": "cdd70e4c-fffa-471a-bc0a-1324ff2b9291",
   "metadata": {
    "scrolled": true
   },
   "outputs": [
    {
     "name": "stderr",
     "output_type": "stream",
     "text": [
      "\u001b[1mRows: \u001b[22m\u001b[34m13590\u001b[39m \u001b[1mColumns: \u001b[22m\u001b[34m4\u001b[39m\n",
      "\u001b[36m──\u001b[39m \u001b[1mColumn specification\u001b[22m \u001b[36m───────────────────────────────────────────────────────────────────────────────────────────────────────────────────────────────────────────────────────────────────────────────────────────────────────────────────────────────────────────\u001b[39m\n",
      "\u001b[1mDelimiter:\u001b[22m \"\\t\"\n",
      "\u001b[31mchr\u001b[39m (3): patient_id, gene, allele\n",
      "\u001b[32mdbl\u001b[39m (1): homo_hetero\n",
      "\n",
      "\u001b[36mℹ\u001b[39m Use `spec()` to retrieve the full column specification for this data.\n",
      "\u001b[36mℹ\u001b[39m Specify the column types or set `show_col_types = FALSE` to quiet this message.\n"
     ]
    }
   ],
   "source": [
    "healthy_hla_features <- read_tsv('../data/healthy_hla_features.tsv')\n",
    "hla_features <- bind_rows(healthy_hla_features, ibd_hla_features)"
   ]
  },
  {
   "cell_type": "code",
   "execution_count": 12,
   "id": "b8b89165-f36a-48e9-8eeb-409270bda00a",
   "metadata": {},
   "outputs": [],
   "source": [
    "write_tsv(hla_features, '../data/hla_features_wo_duplicates_healthy_and_ibd.tsv')"
   ]
  },
  {
   "cell_type": "markdown",
   "id": "709314bc-a52a-46ae-958e-bb01b21d450b",
   "metadata": {},
   "source": [
    "### Visualisation of healthy and IBD data allele frequencies"
   ]
  },
  {
   "cell_type": "code",
   "execution_count": 5,
   "id": "9d054f5a-86d8-4c36-a9e6-20ccd470f4d4",
   "metadata": {},
   "outputs": [],
   "source": [
    "options(repr.plot.width=40, repr.plot.height=12)\n",
    "\n",
    "\n",
    "A <- ggplot(hla_frequencies %>% filter(gene == 'A') %>% mutate(allele=factor(allele, levels=allele)), aes(x=allele, y= freq)) +\n",
    "  geom_bar(stat = \"identity\", position = \"dodge2\") +\n",
    "  coord_flip() +\n",
    "  theme_light()\n",
    "B <- ggplot(hla_frequencies %>% filter(gene == 'B') %>% mutate(allele=factor(allele, levels=allele)), aes(x=allele, y= freq)) +\n",
    "  geom_bar(stat = \"identity\", position = \"dodge2\") +\n",
    "  coord_flip() +\n",
    "  theme_light()   \n",
    "C <- ggplot(hla_frequencies %>% filter(gene == 'C') %>% mutate(allele=factor(allele, levels=allele)), aes(x=allele, y= freq)) +\n",
    "  geom_bar(stat = \"identity\", position = \"dodge2\") +\n",
    "  coord_flip() +\n",
    "  theme_light()\n",
    "\n",
    "save_plot(paste0('../plots/class_I_TRB.jpg'),\n",
    "  plot_grid(A, B, C, labels=c(\"A\", \"B\", \"C\"), ncol = 3, nrow = 1))\n"
   ]
  },
  {
   "cell_type": "markdown",
   "id": "f5a85b34-4c47-445d-a454-4c370b6c3d2a",
   "metadata": {},
   "source": [
    "### the same but with facet_wrap()"
   ]
  },
  {
   "cell_type": "code",
   "execution_count": 7,
   "id": "217d5fde-cbb3-4b1a-a18f-47bffb14af87",
   "metadata": {},
   "outputs": [],
   "source": [
    "hla_plot <- ggplot(hla_frequencies %>% filter(!gene %in% c(\"A\", \"B\", \"C\")) %>% mutate(allele=factor(allele, levels=allele)), aes(x=allele, y= freq)) +\n",
    "  geom_bar(stat = \"identity\", position = \"dodge2\") +\n",
    "  coord_flip() +\n",
    "  theme_light() +\n",
    "  facet_wrap(~gene, scales = 'free')\n",
    "save_plot('../plots/hla_II_DeWitt.jpg', hla_plot, ncol = 2, nrow = 3, base_height = 5)\n",
    "\n"
   ]
  },
  {
   "cell_type": "markdown",
   "id": "396991d8-2ce3-484f-b26f-7746769fcc31",
   "metadata": {},
   "source": [
    "### Visualisation HLA freq in healthy and IBD dataset comparing with the population"
   ]
  },
  {
   "cell_type": "code",
   "execution_count": 8,
   "id": "5043d3c7-a21a-48a8-879a-e8b2df81543f",
   "metadata": {},
   "outputs": [
    {
     "ename": "ERROR",
     "evalue": "Error in eval(expr, envir, enclos): object 'hla_frequencies_both' not found\n",
     "output_type": "error",
     "traceback": [
      "Error in eval(expr, envir, enclos): object 'hla_frequencies_both' not found\nTraceback:\n",
      "1. ggplot(hla_frequencies_both, aes(x = factor(allele, level = unique(allele)), \n .     y = freq, fill = dataset))"
     ]
    }
   ],
   "source": [
    "hla_plot <- ggplot(hla_frequencies_both, \n",
    "                   aes(x=factor(allele, level = unique(allele)), y= freq, fill = dataset)) +\n",
    "  geom_bar(stat = \"identity\", position = \"dodge2\") +\n",
    "  labs(x= \"allele\") +\n",
    "  coord_flip() +\n",
    "  theme_light() +\n",
    "  facet_wrap(~gene, scales = 'free')\n",
    "save_plot('../plots/hlas_both.jpg', hla_plot, ncol = 3, nrow = 3)"
   ]
  },
  {
   "cell_type": "code",
   "execution_count": 9,
   "id": "8dabc23d-2d75-47f1-8d61-85c6862d24d4",
   "metadata": {},
   "outputs": [
    {
     "ename": "ERROR",
     "evalue": "Error in eval(expr, envir, enclos): object 'hlas_variation_with_gene_col' not found\n",
     "output_type": "error",
     "traceback": [
      "Error in eval(expr, envir, enclos): object 'hlas_variation_with_gene_col' not found\nTraceback:\n",
      "1. ggplot(hlas_variation_with_gene_col %>% filter(gene %in% c(\"A\", \n .     \"B\", \"C\")), aes(x = position, y = n_variat, fill = allele))",
      "2. hlas_variation_with_gene_col %>% filter(gene %in% c(\"A\", \"B\", \n .     \"C\"))",
      "3. filter(., gene %in% c(\"A\", \"B\", \"C\"))"
     ]
    }
   ],
   "source": [
    "hla_plot <- ggplot(hlas_variation_with_gene_col %>% filter(gene %in% c(\"A\", \"B\", \"C\")), aes(x=position, y= n_variat, fill = allele)) +\n",
    "  geom_bar(stat = \"identity\", position = \"stack\") +\n",
    "  scale_fill_discrete(guide = 'none') +\n",
    "  ggtitle(\"HLA allele variations position-wise\") +\n",
    "  xlab(\"\") +\n",
    "  theme(axis.text.x = element_text(angle = 90, vjust = 0.5, hjust=1))\n",
    "   \n",
    "\n",
    "ggsave(paste0('../plots/',gene_name,'variations_aa_DeWitt.jpg'),hla_plot)\n",
    "\n",
    "\n"
   ]
  },
  {
   "cell_type": "markdown",
   "id": "6728254d-51c7-4016-a78c-2d25c8bfee1d",
   "metadata": {},
   "source": []
  },
  {
   "cell_type": "markdown",
   "id": "8cbddf45-c7a6-4451-b7b3-186415b60291",
   "metadata": {},
   "source": [
    "### Sankey plot of HLA"
   ]
  },
  {
   "cell_type": "code",
   "execution_count": 39,
   "id": "ea489173-f6d8-49e4-a7f4-67cf1a77e8f0",
   "metadata": {},
   "outputs": [
    {
     "data": {
      "text/html": [
       "<table class=\"dataframe\">\n",
       "<caption>A data.frame: 6 × 10</caption>\n",
       "<thead>\n",
       "\t<tr><th></th><th scope=col>site</th><th scope=col>gene</th><th scope=col>allele</th><th scope=col>aa</th><th scope=col>ref_aa</th><th scope=col>change</th><th scope=col>variat</th><th scope=col>n_variat</th><th scope=col>patient_id</th><th scope=col>homo_hetero</th></tr>\n",
       "\t<tr><th></th><th scope=col>&lt;dbl&gt;</th><th scope=col>&lt;chr&gt;</th><th scope=col>&lt;chr&gt;</th><th scope=col>&lt;chr&gt;</th><th scope=col>&lt;chr&gt;</th><th scope=col>&lt;int&gt;</th><th scope=col>&lt;chr&gt;</th><th scope=col>&lt;int&gt;</th><th scope=col>&lt;int&gt;</th><th scope=col>&lt;int&gt;</th></tr>\n",
       "</thead>\n",
       "<tbody>\n",
       "\t<tr><th scope=row>1</th><td>114</td><td>A</td><td>A*03:01</td><td>R</td><td>R</td><td>0</td><td>R H Q E</td><td>3</td><td> 2</td><td>1</td></tr>\n",
       "\t<tr><th scope=row>2</th><td>114</td><td>A</td><td>A*03:01</td><td>R</td><td>R</td><td>0</td><td>R H Q E</td><td>3</td><td> 3</td><td>1</td></tr>\n",
       "\t<tr><th scope=row>3</th><td>114</td><td>A</td><td>A*03:01</td><td>R</td><td>R</td><td>0</td><td>R H Q E</td><td>3</td><td> 7</td><td>1</td></tr>\n",
       "\t<tr><th scope=row>4</th><td>114</td><td>A</td><td>A*03:01</td><td>R</td><td>R</td><td>0</td><td>R H Q E</td><td>3</td><td>12</td><td>1</td></tr>\n",
       "\t<tr><th scope=row>5</th><td>114</td><td>A</td><td>A*03:01</td><td>R</td><td>R</td><td>0</td><td>R H Q E</td><td>3</td><td>19</td><td>2</td></tr>\n",
       "\t<tr><th scope=row>6</th><td>114</td><td>A</td><td>A*03:01</td><td>R</td><td>R</td><td>0</td><td>R H Q E</td><td>3</td><td>22</td><td>1</td></tr>\n",
       "</tbody>\n",
       "</table>\n"
      ],
      "text/latex": [
       "A data.frame: 6 × 10\n",
       "\\begin{tabular}{r|llllllllll}\n",
       "  & site & gene & allele & aa & ref\\_aa & change & variat & n\\_variat & patient\\_id & homo\\_hetero\\\\\n",
       "  & <dbl> & <chr> & <chr> & <chr> & <chr> & <int> & <chr> & <int> & <int> & <int>\\\\\n",
       "\\hline\n",
       "\t1 & 114 & A & A*03:01 & R & R & 0 & R H Q E & 3 &  2 & 1\\\\\n",
       "\t2 & 114 & A & A*03:01 & R & R & 0 & R H Q E & 3 &  3 & 1\\\\\n",
       "\t3 & 114 & A & A*03:01 & R & R & 0 & R H Q E & 3 &  7 & 1\\\\\n",
       "\t4 & 114 & A & A*03:01 & R & R & 0 & R H Q E & 3 & 12 & 1\\\\\n",
       "\t5 & 114 & A & A*03:01 & R & R & 0 & R H Q E & 3 & 19 & 2\\\\\n",
       "\t6 & 114 & A & A*03:01 & R & R & 0 & R H Q E & 3 & 22 & 1\\\\\n",
       "\\end{tabular}\n"
      ],
      "text/markdown": [
       "\n",
       "A data.frame: 6 × 10\n",
       "\n",
       "| <!--/--> | site &lt;dbl&gt; | gene &lt;chr&gt; | allele &lt;chr&gt; | aa &lt;chr&gt; | ref_aa &lt;chr&gt; | change &lt;int&gt; | variat &lt;chr&gt; | n_variat &lt;int&gt; | patient_id &lt;int&gt; | homo_hetero &lt;int&gt; |\n",
       "|---|---|---|---|---|---|---|---|---|---|---|\n",
       "| 1 | 114 | A | A*03:01 | R | R | 0 | R H Q E | 3 |  2 | 1 |\n",
       "| 2 | 114 | A | A*03:01 | R | R | 0 | R H Q E | 3 |  3 | 1 |\n",
       "| 3 | 114 | A | A*03:01 | R | R | 0 | R H Q E | 3 |  7 | 1 |\n",
       "| 4 | 114 | A | A*03:01 | R | R | 0 | R H Q E | 3 | 12 | 1 |\n",
       "| 5 | 114 | A | A*03:01 | R | R | 0 | R H Q E | 3 | 19 | 2 |\n",
       "| 6 | 114 | A | A*03:01 | R | R | 0 | R H Q E | 3 | 22 | 1 |\n",
       "\n"
      ],
      "text/plain": [
       "  site gene allele  aa ref_aa change variat  n_variat patient_id homo_hetero\n",
       "1 114  A    A*03:01 R  R      0      R H Q E 3         2         1          \n",
       "2 114  A    A*03:01 R  R      0      R H Q E 3         3         1          \n",
       "3 114  A    A*03:01 R  R      0      R H Q E 3         7         1          \n",
       "4 114  A    A*03:01 R  R      0      R H Q E 3        12         1          \n",
       "5 114  A    A*03:01 R  R      0      R H Q E 3        19         2          \n",
       "6 114  A    A*03:01 R  R      0      R H Q E 3        22         1          "
      ]
     },
     "metadata": {},
     "output_type": "display_data"
    }
   ],
   "source": [
    "head(hla_patients_site_variation) "
   ]
  },
  {
   "cell_type": "code",
   "execution_count": 40,
   "id": "fa8b577d-8ef8-4652-8795-8f028db9b201",
   "metadata": {},
   "outputs": [
    {
     "data": {
      "image/png": "[encoded data removed]",
      "text/plain": [
       "plot without title"
      ]
     },
     "metadata": {
      "image/png": {
       "height": 420,
       "width": 420
      }
     },
     "output_type": "display_data"
    }
   ],
   "source": [
    "\n",
    "hla_for_sankey <- hla_patients_site_variation %>% \n",
    "    select(gene, site, aa) %>%\n",
    "    filter((gene %in% c('A', 'B', 'C'))) %>%\n",
    "    group_by(gene, site, aa) %>% \n",
    "    count() %>% \n",
    "    mutate(list_n = list(seq(n))) %>% \n",
    "    select(c(gene, site, aa, list_n))  %>% \n",
    "    unnest(list_n) %>% \n",
    "    ungroup() %>%\n",
    "    arrange(site)\n",
    "\n",
    "hla_for_sankey_long <- hla_for_sankey %>% select(gene, site, aa) %>% make_long(gene, site, aa)\n",
    "\n",
    "pl <- ggplot(hla_for_sankey_long, aes(x = x, \n",
    "           next_x = next_x, \n",
    "           node = node, \n",
    "           next_node = next_node, \n",
    "           label = node,\n",
    "           fill = factor(node)))\n",
    "pl <- pl + geom_sankey(flow.alpha = 0.5\n",
    "                      , node.color = \"black\"\n",
    "                      ,show.legend = FALSE)\n",
    "pl <- pl + geom_sankey_label(size = 3, color = \"black\", fill= \"white\", hjust = -0.5)\n",
    "pl <- pl + theme_bw()\n",
    "pl <- pl + theme(legend.position = \"none\")\n",
    "pl <- pl + theme(axis.title = element_blank()\n",
    "                  , axis.text.y = element_blank()\n",
    "                  , axis.ticks = element_blank()  \n",
    "                  , panel.grid = element_blank())\n",
    "pl <- pl + scale_fill_viridis_d(option = \"plasma\")\n",
    "pl <- pl + labs(title = \"HLA summary for all patients\", \n",
    "                subtitle = \"Usage of AA for each HLA gene per site for all patients\", \n",
    "                #caption = \"Evgeniya Lokes\",\n",
    "                fill = 'Nodes')\n",
    "\n",
    "pl\n",
    "ggsave('../plots/trb_hla_i_sankey.jpg',pl, width = 5, height = 5)"
   ]
  },
  {
   "cell_type": "code",
   "execution_count": 41,
   "id": "f1563985-90f3-4cf7-9a67-94b2190b2da0",
   "metadata": {},
   "outputs": [
    {
     "data": {
      "image/png": "[encoded data removed]",
      "text/plain": [
       "plot without title"
      ]
     },
     "metadata": {
      "image/png": {
       "height": 420,
       "width": 420
      }
     },
     "output_type": "display_data"
    }
   ],
   "source": [
    "hla_for_sankey <- hla_patients_site_variation %>% \n",
    "    select(gene, site, aa) %>%\n",
    "    filter(!(gene %in% c('A', 'B', 'C'))) %>%\n",
    "    group_by(gene, site, aa) %>% \n",
    "    count() %>% \n",
    "    mutate(list_n = list(seq(n))) %>% \n",
    "    select(c(gene, site, aa, list_n))  %>% \n",
    "    unnest(list_n) %>% \n",
    "    ungroup() %>%\n",
    "    arrange(site)\n",
    "\n",
    "hla_for_sankey_long <- hla_for_sankey %>% select(gene, site, aa) %>% make_long(gene, site, aa)\n",
    "\n",
    "pl <- ggplot(hla_for_sankey_long, aes(x = x, \n",
    "           next_x = next_x, \n",
    "           node = node, \n",
    "           next_node = next_node, \n",
    "           label = node,\n",
    "           fill = factor(node)))\n",
    "pl <- pl + geom_sankey(flow.alpha = 0.5\n",
    "                      , node.color = \"black\"\n",
    "                      ,show.legend = FALSE)\n",
    "pl <- pl + geom_sankey_label(size = 3, color = \"black\", fill= \"white\", hjust = -0.5)\n",
    "pl <- pl + theme_bw()\n",
    "pl <- pl + theme(legend.position = \"none\")\n",
    "pl <- pl + theme(axis.title = element_blank()\n",
    "                  , axis.text.y = element_blank()\n",
    "                  , axis.ticks = element_blank()  \n",
    "                  , panel.grid = element_blank())\n",
    "pl <- pl + scale_fill_viridis_d(option = \"plasma\")\n",
    "pl <- pl + labs(title = \"HLA summary for all patients\", \n",
    "                subtitle = \"Usage of AA for each HLA gene per site for all patients\", \n",
    "                #caption = \"Evgeniya Lokes\",\n",
    "                fill = 'Nodes')\n",
    "\n",
    "pl\n",
    "ggsave('../plots/trb_hla_ii_sankey.jpg',pl, width = 5, height = 5)"
   ]
  }
 ],
 "metadata": {
  "kernelspec": {
   "display_name": "R",
   "language": "R",
   "name": "ir"
  },
  "language_info": {
   "codemirror_mode": "r",
   "file_extension": ".r",
   "mimetype": "text/x-r-source",
   "name": "R",
   "pygments_lexer": "r",
   "version": "4.3.3"
  }
 },
 "nbformat": 4,
 "nbformat_minor": 5
}
