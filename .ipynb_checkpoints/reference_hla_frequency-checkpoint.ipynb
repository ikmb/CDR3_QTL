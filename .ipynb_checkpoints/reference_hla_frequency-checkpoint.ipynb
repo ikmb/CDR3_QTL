{
 "cells": [
  {
   "cell_type": "code",
   "execution_count": 9,
   "id": "d2032080-ef52-427c-b595-429f0e3af188",
   "metadata": {},
   "outputs": [],
   "source": [
    "library(readr)\n",
    "library(dplyr)\n",
    "library(tidyr)\n",
    "library(ggplot2)\n",
    "library(stringr)\n",
    "library(cowplot)\n",
    "library(ggExtra)"
   ]
  },
  {
   "cell_type": "code",
   "execution_count": null,
   "id": "763d6889-90de-4d74-a770-4c3d04849d72",
   "metadata": {},
   "outputs": [],
   "source": []
  },
  {
   "cell_type": "markdown",
   "id": "019f77ea-cd59-4490-9837-e562dc5c26f4",
   "metadata": {},
   "source": [
    "### Reading public dataset with HLA frequencies in different populations, filtering only European Caucasian. Keeping only those which found as well in TCellData"
   ]
  },
  {
   "cell_type": "code",
   "execution_count": 5,
   "id": "aaff4104-35e4-4805-882a-8ee0106cea6a",
   "metadata": {},
   "outputs": [
    {
     "ename": "ERROR",
     "evalue": "Error in read.table(\"data/hla/afnd.tsv\", sep = \"\\t\", header = T) %>% filter(grepl(\"Europ\", : could not find function \"%>%\"\n",
     "output_type": "error",
     "traceback": [
      "Error in read.table(\"data/hla/afnd.tsv\", sep = \"\\t\", header = T) %>% filter(grepl(\"Europ\", : could not find function \"%>%\"\nTraceback:\n"
     ]
    }
   ],
   "source": [
    "alleles_DeWitt <- read.csv('hla_frequencies_DeWitt.tsv', sep = '\\t')$allele\n",
    "hla_NMDP <- read.table('data/hla/afnd.tsv', sep= '\\t', header = T) %>%\n",
    "  filter(grepl('Europ',population)) %>%\n",
    "  filter(grepl('Caucas',population)) %>%\n",
    "  mutate(alleles_over_2n = as.numeric(alleles_over_2n)) %>%\n",
    "  arrange(desc(alleles_over_2n)) %>%\n",
    "  filter(allele %in% unique(hla_frequencies_DeWitt$allele)) \n",
    "\n",
    "hla_NMDP_frequencies <- hla_NMDP %>%\n",
    "  group_by(allele) %>%\n",
    "  mutate(freq = mean(alleles_over_2n), dataset = 'NMDP') %>%\n",
    "  select(gene, allele, freq, population, dataset) %>%\n",
    "  distinct() %>%\n",
    "  arrange(desc(freq))\n",
    "\n",
    "write_tsv(hla_NMDP_frequencies, 'hla_NMDP_frequencies.tsv')"
   ]
  },
  {
   "cell_type": "code",
   "execution_count": null,
   "id": "7c32ce53-234b-4c73-9df1-824f15c7ab09",
   "metadata": {},
   "outputs": [],
   "source": [
    "head(hla_NMDP)\n",
    "head(hla_NMDP_frequencies)"
   ]
  },
  {
   "cell_type": "code",
   "execution_count": null,
   "id": "1f1569ea-fc82-43fb-90e1-fd274e0f00c3",
   "metadata": {},
   "outputs": [],
   "source": [
    "hla_frequencies_both <- rbind(hla_NMDP_frequencies, hla_frequencies_DeWitt %>% select(gene,allele, freq, dataset))\n",
    "hla_genes <- unique(hla_frequencies_both$gene)"
   ]
  },
  {
   "cell_type": "code",
   "execution_count": 3,
   "id": "eb2a7125-2f10-44e5-b69f-62837b8df75d",
   "metadata": {},
   "outputs": [],
   "source": [
    "head(hla_frequencies_both)"
   ]
  },
  {
   "cell_type": "code",
   "execution_count": null,
   "id": "936c2265-e625-4118-b0fb-2d5c7cffb4b0",
   "metadata": {},
   "outputs": [],
   "source": []
  },
  {
   "cell_type": "code",
   "execution_count": null,
   "id": "d53d86e5-c73d-49a8-a4ef-cfa498732aac",
   "metadata": {},
   "outputs": [],
   "source": []
  },
  {
   "cell_type": "code",
   "execution_count": null,
   "id": "b4f3f884-bfac-42c4-80ff-4168ecf34813",
   "metadata": {},
   "outputs": [],
   "source": []
  },
  {
   "cell_type": "code",
   "execution_count": null,
   "id": "509420a2-7470-4660-9254-72bfe502d421",
   "metadata": {},
   "outputs": [],
   "source": []
  },
  {
   "cell_type": "code",
   "execution_count": null,
   "id": "7480d1e8-41dc-4c12-8a41-c740c6a8c255",
   "metadata": {},
   "outputs": [],
   "source": []
  }
 ],
 "metadata": {
  "kernelspec": {
   "display_name": "R",
   "language": "R",
   "name": "ir"
  },
  "language_info": {
   "codemirror_mode": "r",
   "file_extension": ".r",
   "mimetype": "text/x-r-source",
   "name": "R",
   "pygments_lexer": "r",
   "version": "4.3.3"
  }
 },
 "nbformat": 4,
 "nbformat_minor": 5
}
