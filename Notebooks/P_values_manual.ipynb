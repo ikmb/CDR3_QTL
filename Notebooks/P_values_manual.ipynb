{
 "cells": [
  {
   "cell_type": "code",
   "execution_count": 2,
   "id": "82a21194-b20a-4347-b6fb-12628ba797ab",
   "metadata": {
    "scrolled": true
   },
   "outputs": [
    {
     "name": "stderr",
     "output_type": "stream",
     "text": [
      "\n",
      "Attaching package: ‘dplyr’\n",
      "\n",
      "\n",
      "The following objects are masked from ‘package:data.table’:\n",
      "\n",
      "    between, first, last\n",
      "\n",
      "\n",
      "The following objects are masked from ‘package:stats’:\n",
      "\n",
      "    filter, lag\n",
      "\n",
      "\n",
      "The following objects are masked from ‘package:base’:\n",
      "\n",
      "    intersect, setdiff, setequal, union\n",
      "\n",
      "\n",
      "\n",
      "Attaching package: ‘tidyr’\n",
      "\n",
      "\n",
      "The following object is masked from ‘package:magrittr’:\n",
      "\n",
      "    extract\n",
      "\n",
      "\n",
      "Registered S3 methods overwritten by 'ggtern':\n",
      "  method           from   \n",
      "  grid.draw.ggplot ggplot2\n",
      "  plot.ggplot      ggplot2\n",
      "  print.ggplot     ggplot2\n",
      "\n",
      "--\n",
      "Remember to cite, run citation(package = 'ggtern') for further info.\n",
      "--\n",
      "\n",
      "\n",
      "Attaching package: ‘ggtern’\n",
      "\n",
      "\n",
      "The following objects are masked from ‘package:ggplot2’:\n",
      "\n",
      "    aes, annotate, ggplot, ggplot_build, ggplot_gtable, ggplotGrob,\n",
      "    ggsave, layer_data, theme_bw, theme_classic, theme_dark,\n",
      "    theme_gray, theme_light, theme_linedraw, theme_minimal, theme_void\n",
      "\n",
      "\n",
      "Loading required package: viridisLite\n",
      "\n",
      "\n",
      "Attaching package: ‘purrr’\n",
      "\n",
      "\n",
      "The following object is masked from ‘package:jsonlite’:\n",
      "\n",
      "    flatten\n",
      "\n",
      "\n",
      "The following object is masked from ‘package:data.table’:\n",
      "\n",
      "    transpose\n",
      "\n",
      "\n",
      "The following object is masked from ‘package:magrittr’:\n",
      "\n",
      "    set_names\n",
      "\n",
      "\n",
      "corrplot 0.92 loaded\n",
      "\n",
      "Loading required package: lattice\n",
      "\n",
      "\n",
      "Attaching package: ‘caret’\n",
      "\n",
      "\n",
      "The following object is masked from ‘package:purrr’:\n",
      "\n",
      "    lift\n",
      "\n",
      "\n",
      "\n",
      "Attaching package: ‘reshape2’\n",
      "\n",
      "\n",
      "The following object is masked from ‘package:tidyr’:\n",
      "\n",
      "    smiths\n",
      "\n",
      "\n",
      "The following objects are masked from ‘package:data.table’:\n",
      "\n",
      "    dcast, melt\n",
      "\n",
      "\n",
      "\n",
      "---------------------\n",
      "Welcome to dendextend version 1.17.1\n",
      "Type citation('dendextend') for how to cite the package.\n",
      "\n",
      "Type browseVignettes(package = 'dendextend') for the package vignette.\n",
      "The github page is: https://github.com/talgalili/dendextend/\n",
      "\n",
      "Suggestions and bug-reports can be submitted at: https://github.com/talgalili/dendextend/issues\n",
      "You may ask questions at stackoverflow, use the r and dendextend tags: \n",
      "\t https://stackoverflow.com/questions/tagged/dendextend\n",
      "\n",
      "\tTo suppress this message use:  suppressPackageStartupMessages(library(dendextend))\n",
      "---------------------\n",
      "\n",
      "\n",
      "\n",
      "Attaching package: ‘dendextend’\n",
      "\n",
      "\n",
      "The following object is masked from ‘package:data.table’:\n",
      "\n",
      "    set\n",
      "\n",
      "\n",
      "The following object is masked from ‘package:stats’:\n",
      "\n",
      "    cutree\n",
      "\n",
      "\n",
      "Registered S3 method overwritten by 'GGally':\n",
      "  method from   \n",
      "  +.gg   ggplot2\n",
      "\n",
      "Registered S3 methods overwritten by 'fmsb':\n",
      "  method    from\n",
      "  print.roc pROC\n",
      "  plot.roc  pROC\n",
      "\n",
      "\n",
      "Attaching package: ‘patchwork’\n",
      "\n",
      "\n",
      "The following object is masked from ‘package:cowplot’:\n",
      "\n",
      "    align_plots\n",
      "\n",
      "\n",
      "Loading required package: Matrix\n",
      "\n",
      "\n",
      "Attaching package: ‘Matrix’\n",
      "\n",
      "\n",
      "The following objects are masked from ‘package:tidyr’:\n",
      "\n",
      "    expand, pack, unpack\n",
      "\n",
      "\n",
      "Loading required package: arm\n",
      "\n",
      "Loading required package: MASS\n",
      "\n",
      "\n",
      "Attaching package: ‘MASS’\n",
      "\n",
      "\n",
      "The following object is masked from ‘package:patchwork’:\n",
      "\n",
      "    area\n",
      "\n",
      "\n",
      "The following object is masked from ‘package:dplyr’:\n",
      "\n",
      "    select\n",
      "\n",
      "\n",
      "\n",
      "arm (Version 1.14-4, built: 2024-4-1)\n",
      "\n",
      "\n",
      "Working directory is /work_beegfs/sukmb667/projects/cdr3-qtl/healthy_and_ibd/scripts\n",
      "\n",
      "\n",
      "\n",
      "Attaching package: ‘arm’\n",
      "\n",
      "\n",
      "The following object is masked from ‘package:corrplot’:\n",
      "\n",
      "    corrplot\n",
      "\n",
      "\n",
      "\n",
      "Attaching package: ‘bestNormalize’\n",
      "\n",
      "\n",
      "The following object is masked from ‘package:MASS’:\n",
      "\n",
      "    boxcox\n",
      "\n",
      "\n",
      "Loading required package: parsnip\n",
      "\n",
      "\n",
      "Attaching package: ‘gghighlight’\n",
      "\n",
      "\n",
      "The following object is masked from ‘package:ggtern’:\n",
      "\n",
      "    aes\n",
      "\n",
      "\n",
      "Welcome! Want to learn more? See two factoextra-related books at https://goo.gl/ve3WBa\n",
      "\n",
      "\n",
      "Attaching package: ‘UpSetR’\n",
      "\n",
      "\n",
      "The following object is masked from ‘package:lattice’:\n",
      "\n",
      "    histogram\n",
      "\n",
      "\n",
      "Loading required package: grid\n",
      "\n",
      "========================================\n",
      "ComplexHeatmap version 2.18.0\n",
      "Bioconductor page: http://bioconductor.org/packages/ComplexHeatmap/\n",
      "Github page: https://github.com/jokergoo/ComplexHeatmap\n",
      "Documentation: http://jokergoo.github.io/ComplexHeatmap-reference\n",
      "\n",
      "If you use it in published research, please cite either one:\n",
      "- Gu, Z. Complex Heatmap Visualization. iMeta 2022.\n",
      "- Gu, Z. Complex heatmaps reveal patterns and correlations in multidimensional \n",
      "    genomic data. Bioinformatics 2016.\n",
      "\n",
      "\n",
      "The new InteractiveComplexHeatmap package can directly export static \n",
      "complex heatmaps into an interactive Shiny app with zero effort. Have a try!\n",
      "\n",
      "This message can be suppressed by:\n",
      "  suppressPackageStartupMessages(library(ComplexHeatmap))\n",
      "========================================\n",
      "\n",
      "\n",
      "\n",
      "Attaching package: ‘ComplexHeatmap’\n",
      "\n",
      "\n",
      "The following object is masked from ‘package:merTools’:\n",
      "\n",
      "    draw\n",
      "\n",
      "\n",
      "========================================\n",
      "circlize version 0.4.16\n",
      "CRAN page: https://cran.r-project.org/package=circlize\n",
      "Github page: https://github.com/jokergoo/circlize\n",
      "Documentation: https://jokergoo.github.io/circlize_book/book/\n",
      "\n",
      "If you use it in published research, please cite:\n",
      "Gu, Z. circlize implements and enhances circular visualization\n",
      "  in R. Bioinformatics 2014.\n",
      "\n",
      "This message can be suppressed by:\n",
      "  suppressPackageStartupMessages(library(circlize))\n",
      "========================================\n",
      "\n",
      "\n"
     ]
    }
   ],
   "source": [
    "source('libraries.R')"
   ]
  },
  {
   "cell_type": "code",
   "execution_count": 112,
   "id": "256c0b21-d119-4fe6-bd87-3e44dcf2d8d1",
   "metadata": {},
   "outputs": [],
   "source": [
    "cdr3_hla_matrix <- fread('../cdr3_hla_pairs_9PCs/DRB1:13:12:P113_matrix.tsv')"
   ]
  },
  {
   "cell_type": "code",
   "execution_count": 111,
   "id": "241cf020-32ba-4c4d-8716-ca8e8aa5cc60",
   "metadata": {},
   "outputs": [
    {
     "data": {
      "text/html": [
       "<table class=\"dataframe\">\n",
       "<caption>A data.table: 6 × 36</caption>\n",
       "<thead>\n",
       "\t<tr><th scope=col>patient_id</th><th scope=col>allele_R</th><th scope=col>allele_Y</th><th scope=col>allele_S</th><th scope=col>allele_G</th><th scope=col>allele_H</th><th scope=col>allele_F</th><th scope=col>pair</th><th scope=col>L</th><th scope=col>F</th><th scope=col>⋯</th><th scope=col>N</th><th scope=col>PC1</th><th scope=col>PC2</th><th scope=col>PC3</th><th scope=col>PC4</th><th scope=col>PC5</th><th scope=col>PC6</th><th scope=col>PC7</th><th scope=col>PC8</th><th scope=col>PC9</th></tr>\n",
       "\t<tr><th scope=col>&lt;chr&gt;</th><th scope=col>&lt;fct&gt;</th><th scope=col>&lt;fct&gt;</th><th scope=col>&lt;fct&gt;</th><th scope=col>&lt;fct&gt;</th><th scope=col>&lt;fct&gt;</th><th scope=col>&lt;fct&gt;</th><th scope=col>&lt;chr&gt;</th><th scope=col>&lt;dbl&gt;</th><th scope=col>&lt;dbl&gt;</th><th scope=col>⋯</th><th scope=col>&lt;dbl&gt;</th><th scope=col>&lt;dbl&gt;</th><th scope=col>&lt;dbl&gt;</th><th scope=col>&lt;dbl&gt;</th><th scope=col>&lt;dbl&gt;</th><th scope=col>&lt;dbl&gt;</th><th scope=col>&lt;dbl&gt;</th><th scope=col>&lt;dbl&gt;</th><th scope=col>&lt;dbl&gt;</th><th scope=col>&lt;dbl&gt;</th></tr>\n",
       "</thead>\n",
       "<tbody>\n",
       "\t<tr><td>H0  </td><td>2</td><td>0</td><td>0</td><td>0</td><td>0</td><td>0</td><td>DRB1:13:12:P113</td><td>2.26662553</td><td> 1.4837426</td><td>⋯</td><td> 0.3799881</td><td>-0.028780271</td><td> 0.040238904</td><td>-0.0071729478</td><td> 0.033242921</td><td>-0.010985428</td><td> 0.001170305</td><td>-0.0053977252</td><td> 0.0032817939</td><td>-0.0097599940</td></tr>\n",
       "\t<tr><td>H1  </td><td>1</td><td>1</td><td>0</td><td>0</td><td>0</td><td>0</td><td>DRB1:13:12:P113</td><td>0.95465882</td><td>-0.2794275</td><td>⋯</td><td> 0.4728554</td><td>-0.020513447</td><td> 0.013880925</td><td>-0.0007512883</td><td>-0.009227345</td><td> 0.029113552</td><td> 0.007404630</td><td>-0.0370105065</td><td>-0.0074489374</td><td> 0.0137528756</td></tr>\n",
       "\t<tr><td>H10 </td><td>0</td><td>0</td><td>2</td><td>0</td><td>0</td><td>0</td><td>DRB1:13:12:P113</td><td>0.25644576</td><td>-1.0793381</td><td>⋯</td><td> 1.4273260</td><td>-0.021797512</td><td>-0.014022404</td><td> 0.0125275207</td><td> 0.008571864</td><td>-0.009477230</td><td>-0.041021895</td><td>-0.0001910232</td><td>-0.0004914357</td><td>-0.0071156440</td></tr>\n",
       "\t<tr><td>H100</td><td>0</td><td>0</td><td>2</td><td>0</td><td>0</td><td>0</td><td>DRB1:13:12:P113</td><td>0.03195778</td><td> 1.0009366</td><td>⋯</td><td>-1.3108562</td><td>-0.004942368</td><td>-0.002447521</td><td>-0.0306362403</td><td> 0.003272312</td><td>-0.020144411</td><td>-0.033990572</td><td>-0.0070075715</td><td> 0.0020702732</td><td>-0.0053175130</td></tr>\n",
       "\t<tr><td>H101</td><td>1</td><td>0</td><td>1</td><td>0</td><td>0</td><td>0</td><td>DRB1:13:12:P113</td><td>0.20421001</td><td>-0.1670564</td><td>⋯</td><td>-0.8888392</td><td>-0.027056046</td><td>-0.009474266</td><td> 0.0148949435</td><td>-0.021221340</td><td>-0.004339928</td><td> 0.015587497</td><td>-0.0359386456</td><td>-0.0061768543</td><td>-0.0007301164</td></tr>\n",
       "\t<tr><td>H102</td><td>0</td><td>0</td><td>1</td><td>1</td><td>0</td><td>0</td><td>DRB1:13:12:P113</td><td>0.57922856</td><td>-0.8869050</td><td>⋯</td><td> 0.1683790</td><td>-0.026334089</td><td>-0.015815421</td><td> 0.0198324257</td><td> 0.009153323</td><td>-0.006428599</td><td> 0.017137351</td><td>-0.0401447019</td><td>-0.0076326677</td><td> 0.0015133883</td></tr>\n",
       "</tbody>\n",
       "</table>\n"
      ],
      "text/latex": [
       "A data.table: 6 × 36\n",
       "\\begin{tabular}{lllllllllllllllllllll}\n",
       " patient\\_id & allele\\_R & allele\\_Y & allele\\_S & allele\\_G & allele\\_H & allele\\_F & pair & L & F & ⋯ & N & PC1 & PC2 & PC3 & PC4 & PC5 & PC6 & PC7 & PC8 & PC9\\\\\n",
       " <chr> & <fct> & <fct> & <fct> & <fct> & <fct> & <fct> & <chr> & <dbl> & <dbl> & ⋯ & <dbl> & <dbl> & <dbl> & <dbl> & <dbl> & <dbl> & <dbl> & <dbl> & <dbl> & <dbl>\\\\\n",
       "\\hline\n",
       "\t H0   & 2 & 0 & 0 & 0 & 0 & 0 & DRB1:13:12:P113 & 2.26662553 &  1.4837426 & ⋯ &  0.3799881 & -0.028780271 &  0.040238904 & -0.0071729478 &  0.033242921 & -0.010985428 &  0.001170305 & -0.0053977252 &  0.0032817939 & -0.0097599940\\\\\n",
       "\t H1   & 1 & 1 & 0 & 0 & 0 & 0 & DRB1:13:12:P113 & 0.95465882 & -0.2794275 & ⋯ &  0.4728554 & -0.020513447 &  0.013880925 & -0.0007512883 & -0.009227345 &  0.029113552 &  0.007404630 & -0.0370105065 & -0.0074489374 &  0.0137528756\\\\\n",
       "\t H10  & 0 & 0 & 2 & 0 & 0 & 0 & DRB1:13:12:P113 & 0.25644576 & -1.0793381 & ⋯ &  1.4273260 & -0.021797512 & -0.014022404 &  0.0125275207 &  0.008571864 & -0.009477230 & -0.041021895 & -0.0001910232 & -0.0004914357 & -0.0071156440\\\\\n",
       "\t H100 & 0 & 0 & 2 & 0 & 0 & 0 & DRB1:13:12:P113 & 0.03195778 &  1.0009366 & ⋯ & -1.3108562 & -0.004942368 & -0.002447521 & -0.0306362403 &  0.003272312 & -0.020144411 & -0.033990572 & -0.0070075715 &  0.0020702732 & -0.0053175130\\\\\n",
       "\t H101 & 1 & 0 & 1 & 0 & 0 & 0 & DRB1:13:12:P113 & 0.20421001 & -0.1670564 & ⋯ & -0.8888392 & -0.027056046 & -0.009474266 &  0.0148949435 & -0.021221340 & -0.004339928 &  0.015587497 & -0.0359386456 & -0.0061768543 & -0.0007301164\\\\\n",
       "\t H102 & 0 & 0 & 1 & 1 & 0 & 0 & DRB1:13:12:P113 & 0.57922856 & -0.8869050 & ⋯ &  0.1683790 & -0.026334089 & -0.015815421 &  0.0198324257 &  0.009153323 & -0.006428599 &  0.017137351 & -0.0401447019 & -0.0076326677 &  0.0015133883\\\\\n",
       "\\end{tabular}\n"
      ],
      "text/markdown": [
       "\n",
       "A data.table: 6 × 36\n",
       "\n",
       "| patient_id &lt;chr&gt; | allele_R &lt;fct&gt; | allele_Y &lt;fct&gt; | allele_S &lt;fct&gt; | allele_G &lt;fct&gt; | allele_H &lt;fct&gt; | allele_F &lt;fct&gt; | pair &lt;chr&gt; | L &lt;dbl&gt; | F &lt;dbl&gt; | ⋯ ⋯ | N &lt;dbl&gt; | PC1 &lt;dbl&gt; | PC2 &lt;dbl&gt; | PC3 &lt;dbl&gt; | PC4 &lt;dbl&gt; | PC5 &lt;dbl&gt; | PC6 &lt;dbl&gt; | PC7 &lt;dbl&gt; | PC8 &lt;dbl&gt; | PC9 &lt;dbl&gt; |\n",
       "|---|---|---|---|---|---|---|---|---|---|---|---|---|---|---|---|---|---|---|---|---|\n",
       "| H0   | 2 | 0 | 0 | 0 | 0 | 0 | DRB1:13:12:P113 | 2.26662553 |  1.4837426 | ⋯ |  0.3799881 | -0.028780271 |  0.040238904 | -0.0071729478 |  0.033242921 | -0.010985428 |  0.001170305 | -0.0053977252 |  0.0032817939 | -0.0097599940 |\n",
       "| H1   | 1 | 1 | 0 | 0 | 0 | 0 | DRB1:13:12:P113 | 0.95465882 | -0.2794275 | ⋯ |  0.4728554 | -0.020513447 |  0.013880925 | -0.0007512883 | -0.009227345 |  0.029113552 |  0.007404630 | -0.0370105065 | -0.0074489374 |  0.0137528756 |\n",
       "| H10  | 0 | 0 | 2 | 0 | 0 | 0 | DRB1:13:12:P113 | 0.25644576 | -1.0793381 | ⋯ |  1.4273260 | -0.021797512 | -0.014022404 |  0.0125275207 |  0.008571864 | -0.009477230 | -0.041021895 | -0.0001910232 | -0.0004914357 | -0.0071156440 |\n",
       "| H100 | 0 | 0 | 2 | 0 | 0 | 0 | DRB1:13:12:P113 | 0.03195778 |  1.0009366 | ⋯ | -1.3108562 | -0.004942368 | -0.002447521 | -0.0306362403 |  0.003272312 | -0.020144411 | -0.033990572 | -0.0070075715 |  0.0020702732 | -0.0053175130 |\n",
       "| H101 | 1 | 0 | 1 | 0 | 0 | 0 | DRB1:13:12:P113 | 0.20421001 | -0.1670564 | ⋯ | -0.8888392 | -0.027056046 | -0.009474266 |  0.0148949435 | -0.021221340 | -0.004339928 |  0.015587497 | -0.0359386456 | -0.0061768543 | -0.0007301164 |\n",
       "| H102 | 0 | 0 | 1 | 1 | 0 | 0 | DRB1:13:12:P113 | 0.57922856 | -0.8869050 | ⋯ |  0.1683790 | -0.026334089 | -0.015815421 |  0.0198324257 |  0.009153323 | -0.006428599 |  0.017137351 | -0.0401447019 | -0.0076326677 |  0.0015133883 |\n",
       "\n"
      ],
      "text/plain": [
       "  patient_id allele_R allele_Y allele_S allele_G allele_H allele_F\n",
       "1 H0         2        0        0        0        0        0       \n",
       "2 H1         1        1        0        0        0        0       \n",
       "3 H10        0        0        2        0        0        0       \n",
       "4 H100       0        0        2        0        0        0       \n",
       "5 H101       1        0        1        0        0        0       \n",
       "6 H102       0        0        1        1        0        0       \n",
       "  pair            L          F          ⋯ N          PC1          PC2         \n",
       "1 DRB1:13:12:P113 2.26662553  1.4837426 ⋯  0.3799881 -0.028780271  0.040238904\n",
       "2 DRB1:13:12:P113 0.95465882 -0.2794275 ⋯  0.4728554 -0.020513447  0.013880925\n",
       "3 DRB1:13:12:P113 0.25644576 -1.0793381 ⋯  1.4273260 -0.021797512 -0.014022404\n",
       "4 DRB1:13:12:P113 0.03195778  1.0009366 ⋯ -1.3108562 -0.004942368 -0.002447521\n",
       "5 DRB1:13:12:P113 0.20421001 -0.1670564 ⋯ -0.8888392 -0.027056046 -0.009474266\n",
       "6 DRB1:13:12:P113 0.57922856 -0.8869050 ⋯  0.1683790 -0.026334089 -0.015815421\n",
       "  PC3           PC4          PC5          PC6          PC7          \n",
       "1 -0.0071729478  0.033242921 -0.010985428  0.001170305 -0.0053977252\n",
       "2 -0.0007512883 -0.009227345  0.029113552  0.007404630 -0.0370105065\n",
       "3  0.0125275207  0.008571864 -0.009477230 -0.041021895 -0.0001910232\n",
       "4 -0.0306362403  0.003272312 -0.020144411 -0.033990572 -0.0070075715\n",
       "5  0.0148949435 -0.021221340 -0.004339928  0.015587497 -0.0359386456\n",
       "6  0.0198324257  0.009153323 -0.006428599  0.017137351 -0.0401447019\n",
       "  PC8           PC9          \n",
       "1  0.0032817939 -0.0097599940\n",
       "2 -0.0074489374  0.0137528756\n",
       "3 -0.0004914357 -0.0071156440\n",
       "4  0.0020702732 -0.0053175130\n",
       "5 -0.0061768543 -0.0007301164\n",
       "6 -0.0076326677  0.0015133883"
      ]
     },
     "metadata": {},
     "output_type": "display_data"
    }
   ],
   "source": [
    "head(cdr3_hla_matrix)"
   ]
  },
  {
   "cell_type": "markdown",
   "id": "20d4932f-af5e-4a16-a5e2-a0a86be9c297",
   "metadata": {},
   "source": [
    "### without setting alleles as factors"
   ]
  },
  {
   "cell_type": "code",
   "execution_count": 44,
   "id": "d2ca1e2a-86a7-4c0f-b433-78c50943cbba",
   "metadata": {},
   "outputs": [
    {
     "data": {
      "text/html": [
       "<table class=\"dataframe\">\n",
       "<caption>A anova: 2 × 8</caption>\n",
       "<thead>\n",
       "\t<tr><th></th><th scope=col>Res.Df</th><th scope=col>Df</th><th scope=col>Gen.var.</th><th scope=col>Pillai</th><th scope=col>approx F</th><th scope=col>num Df</th><th scope=col>den Df</th><th scope=col>Pr(&gt;F)</th></tr>\n",
       "\t<tr><th></th><th scope=col>&lt;dbl&gt;</th><th scope=col>&lt;dbl&gt;</th><th scope=col>&lt;dbl&gt;</th><th scope=col>&lt;dbl&gt;</th><th scope=col>&lt;dbl&gt;</th><th scope=col>&lt;dbl&gt;</th><th scope=col>&lt;dbl&gt;</th><th scope=col>&lt;dbl&gt;</th></tr>\n",
       "</thead>\n",
       "<tbody>\n",
       "\t<tr><th scope=row>1</th><td>1883</td><td>NA</td><td>0.6441223</td><td>       NA</td><td>      NA</td><td>NA</td><td>  NA</td><td>           NA</td></tr>\n",
       "\t<tr><th scope=row>2</th><td>1888</td><td> 5</td><td>0.6702969</td><td>0.7105947</td><td>16.29598</td><td>95</td><td>9345</td><td>5.297502e-239</td></tr>\n",
       "</tbody>\n",
       "</table>\n"
      ],
      "text/latex": [
       "A anova: 2 × 8\n",
       "\\begin{tabular}{r|llllllll}\n",
       "  & Res.Df & Df & Gen.var. & Pillai & approx F & num Df & den Df & Pr(>F)\\\\\n",
       "  & <dbl> & <dbl> & <dbl> & <dbl> & <dbl> & <dbl> & <dbl> & <dbl>\\\\\n",
       "\\hline\n",
       "\t1 & 1883 & NA & 0.6441223 &        NA &       NA & NA &   NA &            NA\\\\\n",
       "\t2 & 1888 &  5 & 0.6702969 & 0.7105947 & 16.29598 & 95 & 9345 & 5.297502e-239\\\\\n",
       "\\end{tabular}\n"
      ],
      "text/markdown": [
       "\n",
       "A anova: 2 × 8\n",
       "\n",
       "| <!--/--> | Res.Df &lt;dbl&gt; | Df &lt;dbl&gt; | Gen.var. &lt;dbl&gt; | Pillai &lt;dbl&gt; | approx F &lt;dbl&gt; | num Df &lt;dbl&gt; | den Df &lt;dbl&gt; | Pr(&gt;F) &lt;dbl&gt; |\n",
       "|---|---|---|---|---|---|---|---|---|\n",
       "| 1 | 1883 | NA | 0.6441223 |        NA |       NA | NA |   NA |            NA |\n",
       "| 2 | 1888 |  5 | 0.6702969 | 0.7105947 | 16.29598 | 95 | 9345 | 5.297502e-239 |\n",
       "\n"
      ],
      "text/plain": [
       "  Res.Df Df Gen.var.  Pillai    approx F num Df den Df Pr(>F)       \n",
       "1 1883   NA 0.6441223        NA       NA NA       NA              NA\n",
       "2 1888    5 0.6702969 0.7105947 16.29598 95     9345   5.297502e-239"
      ]
     },
     "metadata": {},
     "output_type": "display_data"
    }
   ],
   "source": [
    "anova(mod1, mod0)"
   ]
  },
  {
   "cell_type": "markdown",
   "id": "d334a586-b62b-43d1-8299-80706d62e2c4",
   "metadata": {
    "scrolled": true
   },
   "source": [
    "### removing the reference"
   ]
  },
  {
   "cell_type": "code",
   "execution_count": 113,
   "id": "e14d2d43-ad5a-41f2-b64b-db1becc5ae0a",
   "metadata": {},
   "outputs": [
    {
     "data": {
      "text/html": [
       "<table class=\"dataframe\">\n",
       "<caption>A anova: 2 × 8</caption>\n",
       "<thead>\n",
       "\t<tr><th></th><th scope=col>Res.Df</th><th scope=col>Df</th><th scope=col>Gen.var.</th><th scope=col>Pillai</th><th scope=col>approx F</th><th scope=col>num Df</th><th scope=col>den Df</th><th scope=col>Pr(&gt;F)</th></tr>\n",
       "\t<tr><th></th><th scope=col>&lt;dbl&gt;</th><th scope=col>&lt;dbl&gt;</th><th scope=col>&lt;dbl&gt;</th><th scope=col>&lt;dbl&gt;</th><th scope=col>&lt;dbl&gt;</th><th scope=col>&lt;dbl&gt;</th><th scope=col>&lt;dbl&gt;</th><th scope=col>&lt;dbl&gt;</th></tr>\n",
       "</thead>\n",
       "<tbody>\n",
       "\t<tr><th scope=row>1</th><td>1883</td><td>NA</td><td>0.6441223</td><td>       NA</td><td>      NA</td><td>NA</td><td>  NA</td><td>           NA</td></tr>\n",
       "\t<tr><th scope=row>2</th><td>1888</td><td> 5</td><td>0.6702969</td><td>0.7105947</td><td>16.29598</td><td>95</td><td>9345</td><td>5.297502e-239</td></tr>\n",
       "</tbody>\n",
       "</table>\n"
      ],
      "text/latex": [
       "A anova: 2 × 8\n",
       "\\begin{tabular}{r|llllllll}\n",
       "  & Res.Df & Df & Gen.var. & Pillai & approx F & num Df & den Df & Pr(>F)\\\\\n",
       "  & <dbl> & <dbl> & <dbl> & <dbl> & <dbl> & <dbl> & <dbl> & <dbl>\\\\\n",
       "\\hline\n",
       "\t1 & 1883 & NA & 0.6441223 &        NA &       NA & NA &   NA &            NA\\\\\n",
       "\t2 & 1888 &  5 & 0.6702969 & 0.7105947 & 16.29598 & 95 & 9345 & 5.297502e-239\\\\\n",
       "\\end{tabular}\n"
      ],
      "text/markdown": [
       "\n",
       "A anova: 2 × 8\n",
       "\n",
       "| <!--/--> | Res.Df &lt;dbl&gt; | Df &lt;dbl&gt; | Gen.var. &lt;dbl&gt; | Pillai &lt;dbl&gt; | approx F &lt;dbl&gt; | num Df &lt;dbl&gt; | den Df &lt;dbl&gt; | Pr(&gt;F) &lt;dbl&gt; |\n",
       "|---|---|---|---|---|---|---|---|---|\n",
       "| 1 | 1883 | NA | 0.6441223 |        NA |       NA | NA |   NA |            NA |\n",
       "| 2 | 1888 |  5 | 0.6702969 | 0.7105947 | 16.29598 | 95 | 9345 | 5.297502e-239 |\n",
       "\n"
      ],
      "text/plain": [
       "  Res.Df Df Gen.var.  Pillai    approx F num Df den Df Pr(>F)       \n",
       "1 1883   NA 0.6441223        NA       NA NA       NA              NA\n",
       "2 1888    5 0.6702969 0.7105947 16.29598 95     9345   5.297502e-239"
      ]
     },
     "metadata": {},
     "output_type": "display_data"
    }
   ],
   "source": [
    "#cdr3_hla_matrix <- cdr3_hla_matrix %>%\n",
    "  #mutate(across(contains(\"allele\"), as.factor))\n",
    "#cdr3_hla_matrix$S <- as.factor(cdr3_hla_matrix$S)\n",
    "#cdr3_hla_matrix$S <- relevel(cdr3_hla_matrix$S, ref = 2)\n",
    "amino_acids <-c('A','C','D','E','F','G','H','I','K','L','M','N','P','Q','R','S','T','V','W','Y') \n",
    "\n",
    "hla_alleles <- colnames(cdr3_hla_matrix %>% dplyr::select(contains('allele')))\n",
    "aa_in_matrix <- paste0(colnames(cdr3_hla_matrix)[colnames(cdr3_hla_matrix) %in% amino_acids], collapse = ',')\n",
    "Y <- paste0('cbind(',aa_in_matrix,') ~')\n",
    "X <- paste0(hla_alleles[-3], collapse = '+')\n",
    "PCs <- paste0('PC', seq(1,9), collapse = '+')\n",
    "\n",
    "formula_full <- as.formula(str_c(paste0(Y,X),PCs, sep   = '+'))\n",
    "formula_null <- as.formula(str_c(Y,PCs))\n",
    "    \n",
    "\n",
    "mod1 <- lm(formula_full, data = cdr3_hla_matrix)\n",
    "mod0 <- lm(formula_null, data = cdr3_hla_matrix)\n",
    "anova(mod1, mod0)"
   ]
  },
  {
   "cell_type": "code",
   "execution_count": 115,
   "id": "6b022ff7-3535-48c4-85b9-56235bcd8cf5",
   "metadata": {},
   "outputs": [
    {
     "data": {
      "text/html": [
       "1883"
      ],
      "text/latex": [
       "1883"
      ],
      "text/markdown": [
       "1883"
      ],
      "text/plain": [
       "[1] 1883"
      ]
     },
     "metadata": {},
     "output_type": "display_data"
    },
    {
     "data": {
      "text/html": [
       "1888"
      ],
      "text/latex": [
       "1888"
      ],
      "text/markdown": [
       "1888"
      ],
      "text/plain": [
       "[1] 1888"
      ]
     },
     "metadata": {},
     "output_type": "display_data"
    },
    {
     "data": {
      "text/html": [
       "<style>\n",
       ".list-inline {list-style: none; margin:0; padding: 0}\n",
       ".list-inline>li {display: inline-block}\n",
       ".list-inline>li:not(:last-child)::after {content: \"\\00b7\"; padding: 0 .5ex}\n",
       "</style>\n",
       "<ol class=list-inline><li>1898</li><li>19</li></ol>\n"
      ],
      "text/latex": [
       "\\begin{enumerate*}\n",
       "\\item 1898\n",
       "\\item 19\n",
       "\\end{enumerate*}\n"
      ],
      "text/markdown": [
       "1. 1898\n",
       "2. 19\n",
       "\n",
       "\n"
      ],
      "text/plain": [
       "[1] 1898   19"
      ]
     },
     "metadata": {},
     "output_type": "display_data"
    },
    {
     "data": {
      "text/html": [
       "<table class=\"dataframe\">\n",
       "<caption>A matrix: 6 × 19 of type dbl</caption>\n",
       "<thead>\n",
       "\t<tr><th scope=col>A</th><th scope=col>D</th><th scope=col>E</th><th scope=col>F</th><th scope=col>G</th><th scope=col>H</th><th scope=col>I</th><th scope=col>K</th><th scope=col>L</th><th scope=col>M</th><th scope=col>N</th><th scope=col>P</th><th scope=col>Q</th><th scope=col>R</th><th scope=col>S</th><th scope=col>T</th><th scope=col>V</th><th scope=col>W</th><th scope=col>Y</th></tr>\n",
       "</thead>\n",
       "<tbody>\n",
       "\t<tr><td> 1.0793381</td><td>-1.9136009</td><td>-2.1746466</td><td> 1.4837426</td><td>-1.3327244</td><td>-0.2470226</td><td> 1.2044702</td><td> 0.8451575</td><td>2.26662553</td><td> 1.9631024</td><td> 0.3799881</td><td> 1.29863658</td><td>-0.6909544</td><td> 0.07898476</td><td>-1.0472046</td><td> 1.2044702</td><td> 2.0639564</td><td>0.2685949</td><td>-0.89466210</td></tr>\n",
       "\t<tr><td> 1.0700443</td><td>-1.1779570</td><td>-0.8677414</td><td>-0.2794275</td><td>-0.1512067</td><td>-1.2346481</td><td> 0.4963223</td><td> 0.2998285</td><td>0.95465882</td><td>-0.3383364</td><td> 0.4728554</td><td> 0.10780305</td><td> 0.7415225</td><td>-0.20953956</td><td> 0.8266619</td><td> 0.1564855</td><td> 0.5066749</td><td>0.9923645</td><td>-1.19642780</td></tr>\n",
       "\t<tr><td> 0.3799881</td><td>-0.2002167</td><td> 0.4366973</td><td>-1.0793381</td><td> 0.6388926</td><td>-0.6485190</td><td> 0.5260473</td><td> 1.8450077</td><td>0.25644576</td><td>-0.1863859</td><td> 1.4273260</td><td>-0.70928479</td><td>-0.2148751</td><td>-0.63410152</td><td> 0.2042100</td><td>-1.2430762</td><td> 0.4670296</td><td>0.0750606</td><td>-1.38526012</td></tr>\n",
       "\t<tr><td> 1.1102079</td><td> 0.0515378</td><td> 0.6909544</td><td> 1.0009366</td><td>-1.5807124</td><td>-1.3886725</td><td> 0.1657340</td><td> 2.0980571</td><td>0.03195778</td><td> 0.3887080</td><td>-1.3108562</td><td>-1.08637007</td><td>-0.3940442</td><td>-0.07113760</td><td>-0.2916536</td><td> 0.5155919</td><td> 1.1991000</td><td>1.2402571</td><td> 1.77146848</td></tr>\n",
       "\t<tr><td>-0.6420948</td><td>-0.1856012</td><td>-0.5962795</td><td>-0.1670564</td><td>-0.4295352</td><td> 0.1988863</td><td> 1.7590796</td><td> 0.8248279</td><td>0.20421001</td><td> 0.9896166</td><td>-0.8888392</td><td> 0.14593206</td><td> 0.3176105</td><td>-0.72276691</td><td> 0.5730700</td><td> 1.2866078</td><td> 0.8451575</td><td>0.2699473</td><td> 0.03065296</td></tr>\n",
       "\t<tr><td> 1.5410318</td><td>-0.6469104</td><td>-0.4919018</td><td>-0.8869050</td><td> 1.5672102</td><td>-0.4904304</td><td>-0.3827933</td><td>-1.4493407</td><td>0.57922856</td><td>-0.2915412</td><td> 0.1683790</td><td>-0.04370384</td><td> 0.3437832</td><td>-0.99878672</td><td>-1.5583651</td><td> 0.9222473</td><td>-1.2487444</td><td>0.7025919</td><td> 0.28349814</td></tr>\n",
       "</tbody>\n",
       "</table>\n"
      ],
      "text/latex": [
       "A matrix: 6 × 19 of type dbl\n",
       "\\begin{tabular}{lllllllllllllllllll}\n",
       " A & D & E & F & G & H & I & K & L & M & N & P & Q & R & S & T & V & W & Y\\\\\n",
       "\\hline\n",
       "\t  1.0793381 & -1.9136009 & -2.1746466 &  1.4837426 & -1.3327244 & -0.2470226 &  1.2044702 &  0.8451575 & 2.26662553 &  1.9631024 &  0.3799881 &  1.29863658 & -0.6909544 &  0.07898476 & -1.0472046 &  1.2044702 &  2.0639564 & 0.2685949 & -0.89466210\\\\\n",
       "\t  1.0700443 & -1.1779570 & -0.8677414 & -0.2794275 & -0.1512067 & -1.2346481 &  0.4963223 &  0.2998285 & 0.95465882 & -0.3383364 &  0.4728554 &  0.10780305 &  0.7415225 & -0.20953956 &  0.8266619 &  0.1564855 &  0.5066749 & 0.9923645 & -1.19642780\\\\\n",
       "\t  0.3799881 & -0.2002167 &  0.4366973 & -1.0793381 &  0.6388926 & -0.6485190 &  0.5260473 &  1.8450077 & 0.25644576 & -0.1863859 &  1.4273260 & -0.70928479 & -0.2148751 & -0.63410152 &  0.2042100 & -1.2430762 &  0.4670296 & 0.0750606 & -1.38526012\\\\\n",
       "\t  1.1102079 &  0.0515378 &  0.6909544 &  1.0009366 & -1.5807124 & -1.3886725 &  0.1657340 &  2.0980571 & 0.03195778 &  0.3887080 & -1.3108562 & -1.08637007 & -0.3940442 & -0.07113760 & -0.2916536 &  0.5155919 &  1.1991000 & 1.2402571 &  1.77146848\\\\\n",
       "\t -0.6420948 & -0.1856012 & -0.5962795 & -0.1670564 & -0.4295352 &  0.1988863 &  1.7590796 &  0.8248279 & 0.20421001 &  0.9896166 & -0.8888392 &  0.14593206 &  0.3176105 & -0.72276691 &  0.5730700 &  1.2866078 &  0.8451575 & 0.2699473 &  0.03065296\\\\\n",
       "\t  1.5410318 & -0.6469104 & -0.4919018 & -0.8869050 &  1.5672102 & -0.4904304 & -0.3827933 & -1.4493407 & 0.57922856 & -0.2915412 &  0.1683790 & -0.04370384 &  0.3437832 & -0.99878672 & -1.5583651 &  0.9222473 & -1.2487444 & 0.7025919 &  0.28349814\\\\\n",
       "\\end{tabular}\n"
      ],
      "text/markdown": [
       "\n",
       "A matrix: 6 × 19 of type dbl\n",
       "\n",
       "| A | D | E | F | G | H | I | K | L | M | N | P | Q | R | S | T | V | W | Y |\n",
       "|---|---|---|---|---|---|---|---|---|---|---|---|---|---|---|---|---|---|---|\n",
       "|  1.0793381 | -1.9136009 | -2.1746466 |  1.4837426 | -1.3327244 | -0.2470226 |  1.2044702 |  0.8451575 | 2.26662553 |  1.9631024 |  0.3799881 |  1.29863658 | -0.6909544 |  0.07898476 | -1.0472046 |  1.2044702 |  2.0639564 | 0.2685949 | -0.89466210 |\n",
       "|  1.0700443 | -1.1779570 | -0.8677414 | -0.2794275 | -0.1512067 | -1.2346481 |  0.4963223 |  0.2998285 | 0.95465882 | -0.3383364 |  0.4728554 |  0.10780305 |  0.7415225 | -0.20953956 |  0.8266619 |  0.1564855 |  0.5066749 | 0.9923645 | -1.19642780 |\n",
       "|  0.3799881 | -0.2002167 |  0.4366973 | -1.0793381 |  0.6388926 | -0.6485190 |  0.5260473 |  1.8450077 | 0.25644576 | -0.1863859 |  1.4273260 | -0.70928479 | -0.2148751 | -0.63410152 |  0.2042100 | -1.2430762 |  0.4670296 | 0.0750606 | -1.38526012 |\n",
       "|  1.1102079 |  0.0515378 |  0.6909544 |  1.0009366 | -1.5807124 | -1.3886725 |  0.1657340 |  2.0980571 | 0.03195778 |  0.3887080 | -1.3108562 | -1.08637007 | -0.3940442 | -0.07113760 | -0.2916536 |  0.5155919 |  1.1991000 | 1.2402571 |  1.77146848 |\n",
       "| -0.6420948 | -0.1856012 | -0.5962795 | -0.1670564 | -0.4295352 |  0.1988863 |  1.7590796 |  0.8248279 | 0.20421001 |  0.9896166 | -0.8888392 |  0.14593206 |  0.3176105 | -0.72276691 |  0.5730700 |  1.2866078 |  0.8451575 | 0.2699473 |  0.03065296 |\n",
       "|  1.5410318 | -0.6469104 | -0.4919018 | -0.8869050 |  1.5672102 | -0.4904304 | -0.3827933 | -1.4493407 | 0.57922856 | -0.2915412 |  0.1683790 | -0.04370384 |  0.3437832 | -0.99878672 | -1.5583651 |  0.9222473 | -1.2487444 | 0.7025919 |  0.28349814 |\n",
       "\n"
      ],
      "text/plain": [
       "     A          D          E          F          G          H         \n",
       "[1,]  1.0793381 -1.9136009 -2.1746466  1.4837426 -1.3327244 -0.2470226\n",
       "[2,]  1.0700443 -1.1779570 -0.8677414 -0.2794275 -0.1512067 -1.2346481\n",
       "[3,]  0.3799881 -0.2002167  0.4366973 -1.0793381  0.6388926 -0.6485190\n",
       "[4,]  1.1102079  0.0515378  0.6909544  1.0009366 -1.5807124 -1.3886725\n",
       "[5,] -0.6420948 -0.1856012 -0.5962795 -0.1670564 -0.4295352  0.1988863\n",
       "[6,]  1.5410318 -0.6469104 -0.4919018 -0.8869050  1.5672102 -0.4904304\n",
       "     I          K          L          M          N          P          \n",
       "[1,]  1.2044702  0.8451575 2.26662553  1.9631024  0.3799881  1.29863658\n",
       "[2,]  0.4963223  0.2998285 0.95465882 -0.3383364  0.4728554  0.10780305\n",
       "[3,]  0.5260473  1.8450077 0.25644576 -0.1863859  1.4273260 -0.70928479\n",
       "[4,]  0.1657340  2.0980571 0.03195778  0.3887080 -1.3108562 -1.08637007\n",
       "[5,]  1.7590796  0.8248279 0.20421001  0.9896166 -0.8888392  0.14593206\n",
       "[6,] -0.3827933 -1.4493407 0.57922856 -0.2915412  0.1683790 -0.04370384\n",
       "     Q          R           S          T          V          W        \n",
       "[1,] -0.6909544  0.07898476 -1.0472046  1.2044702  2.0639564 0.2685949\n",
       "[2,]  0.7415225 -0.20953956  0.8266619  0.1564855  0.5066749 0.9923645\n",
       "[3,] -0.2148751 -0.63410152  0.2042100 -1.2430762  0.4670296 0.0750606\n",
       "[4,] -0.3940442 -0.07113760 -0.2916536  0.5155919  1.1991000 1.2402571\n",
       "[5,]  0.3176105 -0.72276691  0.5730700  1.2866078  0.8451575 0.2699473\n",
       "[6,]  0.3437832 -0.99878672 -1.5583651  0.9222473 -1.2487444 0.7025919\n",
       "     Y          \n",
       "[1,] -0.89466210\n",
       "[2,] -1.19642780\n",
       "[3,] -1.38526012\n",
       "[4,]  1.77146848\n",
       "[5,]  0.03065296\n",
       "[6,]  0.28349814"
      ]
     },
     "metadata": {},
     "output_type": "display_data"
    },
    {
     "data": {
      "text/html": [
       "<style>\n",
       ".list-inline {list-style: none; margin:0; padding: 0}\n",
       ".list-inline>li {display: inline-block}\n",
       ".list-inline>li:not(:last-child)::after {content: \"\\00b7\"; padding: 0 .5ex}\n",
       "</style>\n",
       "<ol class=list-inline><li>1898</li><li>19</li></ol>\n"
      ],
      "text/latex": [
       "\\begin{enumerate*}\n",
       "\\item 1898\n",
       "\\item 19\n",
       "\\end{enumerate*}\n"
      ],
      "text/markdown": [
       "1. 1898\n",
       "2. 19\n",
       "\n",
       "\n"
      ],
      "text/plain": [
       "[1] 1898   19"
      ]
     },
     "metadata": {},
     "output_type": "display_data"
    },
    {
     "data": {
      "text/html": [
       "<style>\n",
       ".list-inline {list-style: none; margin:0; padding: 0}\n",
       ".list-inline>li {display: inline-block}\n",
       ".list-inline>li:not(:last-child)::after {content: \"\\00b7\"; padding: 0 .5ex}\n",
       "</style>\n",
       "<ol class=list-inline><li>1898</li><li>19</li></ol>\n"
      ],
      "text/latex": [
       "\\begin{enumerate*}\n",
       "\\item 1898\n",
       "\\item 19\n",
       "\\end{enumerate*}\n"
      ],
      "text/markdown": [
       "1. 1898\n",
       "2. 19\n",
       "\n",
       "\n"
      ],
      "text/plain": [
       "[1] 1898   19"
      ]
     },
     "metadata": {},
     "output_type": "display_data"
    },
    {
     "data": {
      "text/html": [
       "<style>\n",
       ".list-inline {list-style: none; margin:0; padding: 0}\n",
       ".list-inline>li {display: inline-block}\n",
       ".list-inline>li:not(:last-child)::after {content: \"\\00b7\"; padding: 0 .5ex}\n",
       "</style>\n",
       "<ol class=list-inline><li>19</li><li>19</li></ol>\n"
      ],
      "text/latex": [
       "\\begin{enumerate*}\n",
       "\\item 19\n",
       "\\item 19\n",
       "\\end{enumerate*}\n"
      ],
      "text/markdown": [
       "1. 19\n",
       "2. 19\n",
       "\n",
       "\n"
      ],
      "text/plain": [
       "[1] 19 19"
      ]
     },
     "metadata": {},
     "output_type": "display_data"
    },
    {
     "data": {
      "text/html": [
       "<style>\n",
       ".list-inline {list-style: none; margin:0; padding: 0}\n",
       ".list-inline>li {display: inline-block}\n",
       ".list-inline>li:not(:last-child)::after {content: \"\\00b7\"; padding: 0 .5ex}\n",
       "</style>\n",
       "<ol class=list-inline><li>19</li><li>19</li></ol>\n"
      ],
      "text/latex": [
       "\\begin{enumerate*}\n",
       "\\item 19\n",
       "\\item 19\n",
       "\\end{enumerate*}\n"
      ],
      "text/markdown": [
       "1. 19\n",
       "2. 19\n",
       "\n",
       "\n"
      ],
      "text/plain": [
       "[1] 19 19"
      ]
     },
     "metadata": {},
     "output_type": "display_data"
    },
    {
     "data": {
      "text/html": [
       "0.710594748728906"
      ],
      "text/latex": [
       "0.710594748728906"
      ],
      "text/markdown": [
       "0.710594748728906"
      ],
      "text/plain": [
       "[1] 0.7105947"
      ]
     },
     "metadata": {},
     "output_type": "display_data"
    },
    {
     "data": {
      "text/html": [
       "13.222182805442"
      ],
      "text/latex": [
       "13.222182805442"
      ],
      "text/markdown": [
       "13.222182805442"
      ],
      "text/plain": [
       "[1] 13.22218"
      ]
     },
     "metadata": {},
     "output_type": "display_data"
    },
    {
     "data": {
      "text/html": [
       "11220"
      ],
      "text/latex": [
       "11220"
      ],
      "text/markdown": [
       "11220"
      ],
      "text/plain": [
       "[1] 11220"
      ]
     },
     "metadata": {},
     "output_type": "display_data"
    },
    {
     "data": {
      "text/html": [
       "114"
      ],
      "text/latex": [
       "114"
      ],
      "text/markdown": [
       "114"
      ],
      "text/plain": [
       "[1] 114"
      ]
     },
     "metadata": {},
     "output_type": "display_data"
    },
    {
     "data": {
      "text/html": [
       "1.7575104661174e-224"
      ],
      "text/latex": [
       "1.7575104661174e-224"
      ],
      "text/markdown": [
       "1.7575104661174e-224"
      ],
      "text/plain": [
       "[1] 1.75751e-224"
      ]
     },
     "metadata": {},
     "output_type": "display_data"
    }
   ],
   "source": [
    "DF_full <- df.residual(mod1)\n",
    "DF_null <- df.residual(mod0)\n",
    "DF_full\n",
    "DF_null\n",
    "#response variable matrix\n",
    "Y <- cdr3_hla_matrix %>% dplyr::select(any_of(amino_acids)) %>% mutate(across(everything(), as.numeric))\n",
    "Y <- as.matrix(Y)\n",
    "dim(Y)\n",
    "head(Y)\n",
    "mod1_fitted_ordered <- mod1$fitted.values[, colnames(Y)]\n",
    "\n",
    "# Step 3: Subtract the values element-wise\n",
    "Res_full <- Y - mod1_fitted_ordered\n",
    "\n",
    "# Step 4: Check the dimensions of the result\n",
    "dim(Res_full)\n",
    "mod0_fitted_ordered <- mod0$fitted.values[, colnames(Y)]\n",
    "\n",
    "# Step 3: Subtract the values element-wise\n",
    "Res_null <- Y - mod0_fitted_ordered\n",
    "\n",
    "# Step 4: Check the dimensions of the result\n",
    "dim(Res_null)\n",
    "\n",
    "Emat <- crossprod(Res_full)\n",
    "Hmat <- crossprod(Res_null) - crossprod(Res_full)\n",
    "dim(Emat)\n",
    "dim(Hmat)\n",
    "\n",
    "Pillai <- sum(diag( Hmat %*% solve( Hmat + Emat ) ))\n",
    "Pillai\n",
    "\n",
    "p=19 #DF of Y matrix (N of amino acids)\n",
    "q=6 #DF of X (dose1-dose5)\n",
    "s=min(p,q)\n",
    "v=DF_full\n",
    "m=(abs(p-q)-1)/2\n",
    "n=(v-p-1)/2\n",
    "appF <- (2*n + s + 1)/(2*m + s + 1) * ( Pillai / (s - Pillai) )\n",
    "appF #the identical value as R function (see above)\n",
    "\n",
    "numDF <- s*(2*n + s + 1)\n",
    "numDF #the identical value as R function (see above)\n",
    "\n",
    "dnomDF <- s*(2*m + s + 1)\n",
    "dnomDF #the identical value as R function (see above)\n",
    "\n",
    "#obtained the same P value!!\n",
    "pf(appF, dnomDF,numDF, lower.tail = FALSE) #the identical value as R function (see above)"
   ]
  },
  {
   "cell_type": "code",
   "execution_count": 25,
   "id": "50cf252e-de62-4dab-953e-a20a46c9222d",
   "metadata": {
    "scrolled": true
   },
   "outputs": [
    {
     "data": {
      "text/html": [
       "3796"
      ],
      "text/latex": [
       "3796"
      ],
      "text/markdown": [
       "3796"
      ],
      "text/plain": [
       "[1] 3796"
      ]
     },
     "metadata": {},
     "output_type": "display_data"
    }
   ],
   "source": [
    "df_long <- cdr3_hla_matrix %>%\n",
    "  pivot_longer(cols = starts_with(\"allele_\"), \n",
    "               names_to = \"allele_type\", \n",
    "               values_to = \"allele_value\")\n",
    "sum(df_long$allele_value)"
   ]
  },
  {
   "cell_type": "code",
   "execution_count": 21,
   "id": "abf1c0c4-2c49-4839-81cb-b3808a980468",
   "metadata": {
    "scrolled": true
   },
   "outputs": [
    {
     "data": {
      "text/html": [
       "<table class=\"dataframe\">\n",
       "<caption>A grouped_df: 1898 × 31</caption>\n",
       "<thead>\n",
       "\t<tr><th scope=col>patient_id</th><th scope=col>pair</th><th scope=col>L</th><th scope=col>F</th><th scope=col>G</th><th scope=col>S</th><th scope=col>Y</th><th scope=col>A</th><th scope=col>P</th><th scope=col>R</th><th scope=col>⋯</th><th scope=col>PC1</th><th scope=col>PC2</th><th scope=col>PC3</th><th scope=col>PC4</th><th scope=col>PC5</th><th scope=col>PC6</th><th scope=col>PC7</th><th scope=col>PC8</th><th scope=col>PC9</th><th scope=col>HLA</th></tr>\n",
       "\t<tr><th scope=col>&lt;chr&gt;</th><th scope=col>&lt;chr&gt;</th><th scope=col>&lt;dbl&gt;</th><th scope=col>&lt;dbl&gt;</th><th scope=col>&lt;dbl&gt;</th><th scope=col>&lt;dbl&gt;</th><th scope=col>&lt;dbl&gt;</th><th scope=col>&lt;dbl&gt;</th><th scope=col>&lt;dbl&gt;</th><th scope=col>&lt;dbl&gt;</th><th scope=col>⋯</th><th scope=col>&lt;dbl&gt;</th><th scope=col>&lt;dbl&gt;</th><th scope=col>&lt;dbl&gt;</th><th scope=col>&lt;dbl&gt;</th><th scope=col>&lt;dbl&gt;</th><th scope=col>&lt;dbl&gt;</th><th scope=col>&lt;dbl&gt;</th><th scope=col>&lt;dbl&gt;</th><th scope=col>&lt;dbl&gt;</th><th scope=col>&lt;chr&gt;</th></tr>\n",
       "</thead>\n",
       "<tbody>\n",
       "\t<tr><td>H0  </td><td>DRB1:13:12:P113</td><td> 2.26662553</td><td> 1.48374263</td><td>-1.33272438</td><td>-1.04720465</td><td>-0.894662105</td><td> 1.07933808</td><td> 1.29863658</td><td> 0.07898476</td><td>⋯</td><td>-0.028780271</td><td> 0.040238904</td><td>-0.0071729478</td><td> 0.033242921</td><td>-0.010985428</td><td> 0.001170305</td><td>-0.0053977252</td><td> 0.0032817939</td><td>-0.0097599940</td><td>allele_Rallele_R</td></tr>\n",
       "\t<tr><td>H1  </td><td>DRB1:13:12:P113</td><td> 0.95465882</td><td>-0.27942752</td><td>-0.15120666</td><td> 0.82666190</td><td>-1.196427804</td><td> 1.07004428</td><td> 0.10780305</td><td>-0.20953956</td><td>⋯</td><td>-0.020513447</td><td> 0.013880925</td><td>-0.0007512883</td><td>-0.009227345</td><td> 0.029113552</td><td> 0.007404630</td><td>-0.0370105065</td><td>-0.0074489374</td><td> 0.0137528756</td><td>allele_Rallele_Y</td></tr>\n",
       "\t<tr><td>H10 </td><td>DRB1:13:12:P113</td><td> 0.25644576</td><td>-1.07933808</td><td> 0.63889257</td><td> 0.20421001</td><td>-1.385260115</td><td> 0.37998815</td><td>-0.70928479</td><td>-0.63410152</td><td>⋯</td><td>-0.021797512</td><td>-0.014022404</td><td> 0.0125275207</td><td> 0.008571864</td><td>-0.009477230</td><td>-0.041021895</td><td>-0.0001910232</td><td>-0.0004914357</td><td>-0.0071156440</td><td>allele_Sallele_S</td></tr>\n",
       "\t<tr><td>H100</td><td>DRB1:13:12:P113</td><td> 0.03195778</td><td> 1.00093664</td><td>-1.58071241</td><td>-0.29165357</td><td> 1.771468476</td><td> 1.11020785</td><td>-1.08637007</td><td>-0.07113760</td><td>⋯</td><td>-0.004942368</td><td>-0.002447521</td><td>-0.0306362403</td><td> 0.003272312</td><td>-0.020144411</td><td>-0.033990572</td><td>-0.0070075715</td><td> 0.0020702732</td><td>-0.0053175130</td><td>allele_Sallele_S</td></tr>\n",
       "\t<tr><td>H101</td><td>DRB1:13:12:P113</td><td> 0.20421001</td><td>-0.16705636</td><td>-0.42953515</td><td> 0.57307001</td><td> 0.030652960</td><td>-0.64209477</td><td> 0.14593206</td><td>-0.72276691</td><td>⋯</td><td>-0.027056046</td><td>-0.009474266</td><td> 0.0148949435</td><td>-0.021221340</td><td>-0.004339928</td><td> 0.015587497</td><td>-0.0359386456</td><td>-0.0061768543</td><td>-0.0007301164</td><td>allele_Rallele_S</td></tr>\n",
       "\t<tr><td>H102</td><td>DRB1:13:12:P113</td><td> 0.57922856</td><td>-0.88690496</td><td> 1.56721024</td><td>-1.55836511</td><td> 0.283498143</td><td> 1.54103177</td><td>-0.04370384</td><td>-0.99878672</td><td>⋯</td><td>-0.026334089</td><td>-0.015815421</td><td> 0.0198324257</td><td> 0.009153323</td><td>-0.006428599</td><td> 0.017137351</td><td>-0.0401447019</td><td>-0.0076326677</td><td> 0.0015133883</td><td>allele_Sallele_G</td></tr>\n",
       "\t<tr><td>H103</td><td>DRB1:13:12:P113</td><td>-0.72276691</td><td>-0.54561911</td><td> 0.94646279</td><td>-0.34239992</td><td>-0.942388532</td><td>-0.55776755</td><td> 0.84143540</td><td>-0.30802341</td><td>⋯</td><td>-0.023841642</td><td> 0.023411343</td><td> 0.0111188053</td><td> 0.025952859</td><td> 0.029771182</td><td>-0.003477018</td><td>-0.0042996923</td><td>-0.0179570482</td><td>-0.0004667786</td><td>allele_Yallele_H</td></tr>\n",
       "\t<tr><td>H104</td><td>DRB1:13:12:P113</td><td> 0.44676212</td><td> 1.33590084</td><td>-0.80123281</td><td>-0.37298833</td><td> 0.475774313</td><td> 0.09469417</td><td>-1.81711993</td><td> 0.84143540</td><td>⋯</td><td>-0.031151461</td><td> 0.041885793</td><td>-0.0095821616</td><td> 0.031837422</td><td>-0.016874565</td><td>-0.001633081</td><td>-0.0033757865</td><td>-0.0140596194</td><td> 0.0207020647</td><td>allele_Sallele_S</td></tr>\n",
       "\t<tr><td>H105</td><td>DRB1:13:12:P113</td><td>-0.81025442</td><td>-1.54103177</td><td>-0.58540916</td><td>-0.83957871</td><td> 0.360434310</td><td>-0.30802341</td><td>-0.18162211</td><td> 0.39404423</td><td>⋯</td><td>-0.018733767</td><td> 0.017177212</td><td>-0.0244145564</td><td> 0.012371418</td><td>-0.025487335</td><td> 0.008786448</td><td>-0.0312218685</td><td>-0.0214745960</td><td> 0.0501780332</td><td>allele_Rallele_S</td></tr>\n",
       "\t<tr><td>H106</td><td>DRB1:13:12:P113</td><td> 1.51999606</td><td>-0.42382129</td><td> 1.23185814</td><td>-0.54108422</td><td> 1.817119933</td><td>-0.12881681</td><td>-0.18029641</td><td>-0.79585103</td><td>⋯</td><td>-0.021027381</td><td> 0.010608030</td><td>-0.0337549498</td><td> 0.015030587</td><td> 0.007780790</td><td>-0.038809197</td><td> 0.0005171268</td><td>-0.0202935044</td><td>-0.0201234071</td><td>allele_Yallele_S</td></tr>\n",
       "\t<tr><td>H107</td><td>DRB1:13:12:P113</td><td> 0.92025376</td><td> 1.90552579</td><td>-0.67285337</td><td> 0.37159057</td><td>-0.566933114</td><td> 1.51176706</td><td>-0.64209477</td><td>-0.99023278</td><td>⋯</td><td>-0.014485738</td><td>-0.044398293</td><td>-0.0020457379</td><td> 0.013474322</td><td> 0.052428473</td><td> 0.013235421</td><td>-0.0017188954</td><td> 0.0131618427</td><td>-0.0031924663</td><td>allele_Yallele_G</td></tr>\n",
       "\t<tr><td>H108</td><td>DRB1:13:12:P113</td><td> 0.20953956</td><td>-0.03326265</td><td>-0.62297850</td><td>-0.32310185</td><td>-0.169701954</td><td>-0.42096955</td><td> 0.20287854</td><td> 0.16573400</td><td>⋯</td><td>-0.009062120</td><td>-0.007400295</td><td>-0.0136101758</td><td>-0.037264161</td><td>-0.010869506</td><td>-0.064237970</td><td> 0.0108188410</td><td>-0.0217747702</td><td>-0.0284660246</td><td>allele_Gallele_H</td></tr>\n",
       "\t<tr><td>H109</td><td>DRB1:13:12:P113</td><td> 0.34793684</td><td> 0.45108945</td><td>-1.46823816</td><td>-0.03456757</td><td> 0.685995540</td><td> 0.23493912</td><td>-1.40598207</td><td> 0.70593441</td><td>⋯</td><td>-0.014460066</td><td> 0.010826559</td><td> 0.0049987079</td><td> 0.004247617</td><td>-0.009451403</td><td>-0.038182036</td><td>-0.0043423633</td><td>-0.0203019292</td><td>-0.0101325325</td><td>allele_Sallele_H</td></tr>\n",
       "\t<tr><td>H11 </td><td>DRB1:13:12:P113</td><td> 0.06198809</td><td> 0.98810559</td><td>-0.45687242</td><td>-1.25445294</td><td> 0.004564635</td><td>-0.78693223</td><td> 0.63250774</td><td> 1.14971774</td><td>⋯</td><td>-0.024464380</td><td>-0.011885441</td><td> 0.0042098307</td><td> 0.007631218</td><td> 0.037332111</td><td> 0.018841082</td><td> 0.0115663290</td><td>-0.0398190066</td><td>-0.0373932979</td><td>allele_Yallele_F</td></tr>\n",
       "\t<tr><td>H110</td><td>DRB1:13:12:P113</td><td> 0.04892615</td><td>-0.79406222</td><td> 1.71771794</td><td>-1.05627439</td><td> 1.159879636</td><td>-1.71204347</td><td>-1.18846210</td><td> 0.15384553</td><td>⋯</td><td>-0.012273326</td><td>-0.035989444</td><td>-0.0030807273</td><td> 0.006803924</td><td> 0.035510082</td><td> 0.012047062</td><td>-0.0319399701</td><td>-0.0080545948</td><td> 0.0058784984</td><td>allele_Yallele_F</td></tr>\n",
       "\t<tr><td>H111</td><td>DRB1:13:12:P113</td><td>-0.10911492</td><td>-0.47869727</td><td> 0.60878962</td><td>-0.55929188</td><td>-0.361826364</td><td>-0.66307257</td><td>-1.08402012</td><td>-0.67776795</td><td>⋯</td><td>-0.006687682</td><td> 0.001490794</td><td>-0.0382776914</td><td> 0.001991865</td><td>-0.016589093</td><td>-0.033322885</td><td> 0.0058257786</td><td>-0.0165095181</td><td>-0.0056081127</td><td>allele_Sallele_G</td></tr>\n",
       "\t<tr><td>H112</td><td>DRB1:13:12:P113</td><td> 0.48602267</td><td>-1.35524915</td><td> 1.20716833</td><td>-0.64851900</td><td> 2.021924201</td><td>-1.23464810</td><td>-0.01499860</td><td>-2.07505681</td><td>⋯</td><td>-0.022423670</td><td>-0.011532601</td><td> 0.0142453115</td><td> 0.014022921</td><td> 0.011605667</td><td> 0.003729956</td><td>-0.0051209895</td><td> 0.0073503241</td><td>-0.0005158788</td><td>allele_Sallele_S</td></tr>\n",
       "\t<tr><td>H113</td><td>DRB1:13:12:P113</td><td>-0.68929959</td><td> 0.47431436</td><td> 1.09821096</td><td>-0.25240452</td><td> 0.958780976</td><td> 0.28757347</td><td>-1.47594605</td><td> 0.87728292</td><td>⋯</td><td>-0.030032434</td><td>-0.004310435</td><td>-0.0189287960</td><td> 0.033221868</td><td>-0.018785053</td><td> 0.012890811</td><td>-0.0153629603</td><td> 0.0321646308</td><td>-0.0235156126</td><td>allele_Sallele_S</td></tr>\n",
       "\t<tr><td>H114</td><td>DRB1:13:12:P113</td><td> 0.77454999</td><td>-0.42239499</td><td> 0.12618717</td><td> 0.83587397</td><td>-1.317040104</td><td> 0.96291949</td><td> 0.42096955</td><td>-1.11020785</td><td>⋯</td><td>-0.030775752</td><td>-0.010167778</td><td> 0.0184566695</td><td>-0.010267238</td><td>-0.012774290</td><td> 0.008994173</td><td>-0.0326565966</td><td> 0.0072047272</td><td> 0.0359367253</td><td>allele_Rallele_H</td></tr>\n",
       "\t<tr><td>H115</td><td>DRB1:13:12:P113</td><td> 0.90443492</td><td> 0.78338220</td><td>-1.67910206</td><td> 0.40110140</td><td> 0.910340284</td><td>-0.30939124</td><td> 0.03065296</td><td> 1.07700591</td><td>⋯</td><td>-0.032012652</td><td> 0.005348610</td><td> 0.0171945280</td><td> 0.018424914</td><td> 0.024817633</td><td> 0.009267644</td><td> 0.0126431288</td><td>-0.0333226318</td><td>-0.0334356944</td><td>allele_Yallele_F</td></tr>\n",
       "\t<tr><td>H116</td><td>DRB1:13:12:P113</td><td> 0.91826385</td><td> 0.41527630</td><td>-0.35487304</td><td> 0.23493912</td><td> 0.746682985</td><td> 0.84143540</td><td>-0.01108573</td><td>-0.18825549</td><td>⋯</td><td>-0.024327324</td><td>-0.011724336</td><td>-0.0269325057</td><td> 0.034587606</td><td> 0.064035821</td><td> 0.004655768</td><td>-0.0016626667</td><td>-0.0017319923</td><td>-0.0039494840</td><td>allele_Yallele_Y</td></tr>\n",
       "\t<tr><td>H117</td><td>DRB1:13:12:P113</td><td> 0.05153780</td><td> 0.19489715</td><td> 0.76752750</td><td>-1.97395292</td><td> 0.214875067</td><td>-0.94035726</td><td>-0.19622651</td><td> 1.15987964</td><td>⋯</td><td>-0.013045039</td><td>-0.028263827</td><td>-0.0298034756</td><td> 0.007118301</td><td>-0.023256533</td><td> 0.031869912</td><td> 0.0452764200</td><td> 0.0224166543</td><td> 0.0077569035</td><td>allele_Rallele_S</td></tr>\n",
       "\t<tr><td>H118</td><td>DRB1:13:12:P113</td><td> 0.89856093</td><td>-0.94850583</td><td>-0.39827615</td><td> 0.59472227</td><td>-0.684346321</td><td>-0.52904506</td><td>-0.27807168</td><td>-0.05676217</td><td>⋯</td><td>-0.017070334</td><td> 0.016549115</td><td> 0.0037452452</td><td>-0.012281863</td><td>-0.006565051</td><td> 0.013944748</td><td> 0.0299115687</td><td> 0.0261443199</td><td> 0.0229110909</td><td>allele_Rallele_S</td></tr>\n",
       "\t<tr><td>H119</td><td>DRB1:13:12:P113</td><td>-1.44562276</td><td>-0.06852288</td><td> 1.28362959</td><td> 1.63783166</td><td>-0.299828451</td><td>-0.34378316</td><td> 0.07113760</td><td>-0.26589175</td><td>⋯</td><td>-0.011492776</td><td>-0.028882628</td><td> 0.0039624749</td><td>-0.005063495</td><td>-0.016969784</td><td> 0.007305539</td><td>-0.0349177245</td><td>-0.0191994697</td><td> 0.0353536957</td><td>allele_Sallele_G</td></tr>\n",
       "\t<tr><td>H12 </td><td>DRB1:13:12:P113</td><td>-1.09821096</td><td> 1.17795703</td><td> 0.33135731</td><td> 1.07933808</td><td>-0.484555515</td><td>-1.39554619</td><td>-0.57460760</td><td> 0.02412962</td><td>⋯</td><td>-0.029145275</td><td>-0.009756240</td><td> 0.0122821267</td><td>-0.025170941</td><td>-0.012688121</td><td>-0.028652839</td><td> 0.0125018753</td><td>-0.0223808963</td><td>-0.0454544425</td><td>allele_Hallele_F</td></tr>\n",
       "\t<tr><td>H120</td><td>DRB1:13:12:P113</td><td>-0.77984202</td><td> 0.06590863</td><td>-0.70259193</td><td>-0.17367258</td><td> 0.159126515</td><td>-0.36043431</td><td>-0.53204760</td><td>-0.89466210</td><td>⋯</td><td>-0.024627994</td><td>-0.016173565</td><td>-0.0033433484</td><td> 0.022565085</td><td> 0.046481318</td><td> 0.006900947</td><td>-0.0037846685</td><td> 0.0013242265</td><td> 0.0018603097</td><td>allele_Yallele_S</td></tr>\n",
       "\t<tr><td>H121</td><td>DRB1:13:12:P113</td><td>-1.22079298</td><td>-0.98175069</td><td> 0.43526307</td><td>-1.08872604</td><td> 1.049463990</td><td>-1.53677003</td><td>-1.04495063</td><td> 1.47594605</td><td>⋯</td><td>-0.026748998</td><td>-0.009365023</td><td> 0.0067586961</td><td>-0.034894413</td><td>-0.013565247</td><td> 0.036294731</td><td> 0.0395841342</td><td>-0.0382159208</td><td>-0.0535677340</td><td>allele_Fallele_F</td></tr>\n",
       "\t<tr><td>H122</td><td>DRB1:13:12:P113</td><td>-0.69593039</td><td> 0.80663790</td><td> 0.22957979</td><td> 0.90051547</td><td>-0.065908627</td><td>-0.29982845</td><td>-0.43813238</td><td> 0.13539486</td><td>⋯</td><td>-0.027379080</td><td>-0.012432657</td><td> 0.0111285957</td><td>-0.020018112</td><td>-0.013528042</td><td> 0.014795201</td><td> 0.0175254827</td><td> 0.0029123108</td><td> 0.0065228977</td><td>allele_Sallele_S</td></tr>\n",
       "\t<tr><td>H123</td><td>DRB1:13:12:P113</td><td> 0.41101519</td><td>-1.18057109</td><td>-0.09338421</td><td>-0.14856884</td><td> 0.551683155</td><td>-1.02049830</td><td>-1.63783166</td><td> 1.71204347</td><td>⋯</td><td>-0.009371735</td><td>-0.008112305</td><td>-0.0562775749</td><td> 0.015681826</td><td> 0.027374625</td><td> 0.017191518</td><td>-0.0404720245</td><td>-0.0133560891</td><td> 0.0011018593</td><td>allele_Yallele_S</td></tr>\n",
       "\t<tr><td>H124</td><td>DRB1:13:12:P113</td><td> 0.10386854</td><td>-0.42096955</td><td>-0.47723528</td><td> 1.10059767</td><td> 0.415276304</td><td>-1.31085621</td><td>-1.86690631</td><td>-0.56234443</td><td>⋯</td><td>-0.026614685</td><td> 0.007795373</td><td> 0.0173070162</td><td>-0.042438793</td><td> 0.011828737</td><td> 0.000787294</td><td>-0.0050500292</td><td> 0.0632271762</td><td> 0.0011525514</td><td>allele_Rallele_S</td></tr>\n",
       "\t<tr><td>⋮</td><td>⋮</td><td>⋮</td><td>⋮</td><td>⋮</td><td>⋮</td><td>⋮</td><td>⋮</td><td>⋮</td><td>⋮</td><td>⋱</td><td>⋮</td><td>⋮</td><td>⋮</td><td>⋮</td><td>⋮</td><td>⋮</td><td>⋮</td><td>⋮</td><td>⋮</td><td>⋮</td></tr>\n",
       "\t<tr><td>I970</td><td>DRB1:13:12:P113</td><td>-0.22422704</td><td> 1.22630679</td><td>-0.13934448</td><td>-0.29982845</td><td> 1.3684353</td><td>-0.53957507</td><td> 0.48162433</td><td>-0.4568724</td><td>⋯</td><td>-0.0314449954</td><td>-0.0135062894</td><td>-0.017267002</td><td> 0.0211993269</td><td>-0.026280287</td><td>-3.845840e-02</td><td>-0.0050699433</td><td> 0.011169710</td><td>-0.015709580</td><td>allele_Sallele_S</td></tr>\n",
       "\t<tr><td>I972</td><td>DRB1:13:12:P113</td><td> 1.00309121</td><td>-1.85220886</td><td> 0.58231608</td><td>-0.50519267</td><td>-0.5638727</td><td>-0.02021612</td><td>-0.57307001</td><td>-1.1497177</td><td>⋯</td><td>-0.0172389831</td><td> 0.0137901023</td><td> 0.004356287</td><td>-0.0116809134</td><td>-0.009128329</td><td>-3.367018e-02</td><td>-0.0035981408</td><td>-0.004265424</td><td>-0.001120610</td><td>allele_Rallele_S</td></tr>\n",
       "\t<tr><td>I973</td><td>DRB1:13:12:P113</td><td>-1.21259119</td><td>-1.62793824</td><td>-0.14461404</td><td> 0.25240452</td><td> 0.2329286</td><td> 0.68599554</td><td> 0.31761046</td><td> 1.5076907</td><td>⋯</td><td>-0.0155894782</td><td>-0.0409187627</td><td>-0.006274061</td><td>-0.0065695090</td><td>-0.025151414</td><td>-2.407127e-02</td><td> 0.0396854637</td><td>-0.003758311</td><td> 0.036875888</td><td>allele_Sallele_G</td></tr>\n",
       "\t<tr><td>I974</td><td>DRB1:13:12:P113</td><td> 0.08945529</td><td> 1.18319324</td><td>-0.16309016</td><td> 0.52904506</td><td>-0.3286030</td><td>-0.33825412</td><td> 0.86964339</td><td> 0.9322707</td><td>⋯</td><td>-0.0216908127</td><td> 0.0168054906</td><td>-0.002515913</td><td>-0.0278126555</td><td>-0.014058149</td><td> 1.501099e-02</td><td> 0.0415204268</td><td>-0.025359950</td><td> 0.031558593</td><td>allele_Rallele_S</td></tr>\n",
       "\t<tr><td>I975</td><td>DRB1:13:12:P113</td><td> 0.79764239</td><td>-0.75706412</td><td>-1.21804994</td><td>-0.61508050</td><td>-0.5395751</td><td> 0.68105345</td><td> 0.31349820</td><td> 1.1701627</td><td>⋯</td><td>-0.0109860518</td><td> 0.0051666905</td><td>-0.024694974</td><td>-0.0654643542</td><td> 0.025297898</td><td>-2.347610e-02</td><td>-0.0009528766</td><td> 0.029581159</td><td>-0.011613975</td><td>allele_Sallele_S</td></tr>\n",
       "\t<tr><td>I976</td><td>DRB1:13:12:P113</td><td>-0.58850785</td><td>-0.50667491</td><td>-0.71769584</td><td> 1.45307881</td><td>-0.7588022</td><td>-0.40392985</td><td>-1.25445294</td><td> 1.3990079</td><td>⋯</td><td>-0.0191944587</td><td> 0.0146545709</td><td>-0.008501125</td><td>-0.0350395952</td><td> 0.027433421</td><td>-3.424234e-02</td><td> 0.0063528965</td><td>-0.014215089</td><td>-0.008405460</td><td>allele_Yallele_S</td></tr>\n",
       "\t<tr><td>I977</td><td>DRB1:13:12:P113</td><td> 0.08683678</td><td>-0.06721570</td><td>-0.08814596</td><td> 1.43824622</td><td>-0.3884126</td><td> 0.18029641</td><td> 0.19356814</td><td>-1.0183055</td><td>⋯</td><td>-0.0057625802</td><td>-0.0047885600</td><td>-0.038428498</td><td> 0.0169892013</td><td> 0.041949975</td><td> 2.331499e-03</td><td>-0.0041503119</td><td>-0.008529043</td><td> 0.002238608</td><td>allele_Yallele_S</td></tr>\n",
       "\t<tr><td>I978</td><td>DRB1:13:12:P113</td><td> 1.48374263</td><td>-1.69534282</td><td> 1.41302531</td><td> 0.21220656</td><td>-0.7176958</td><td> 0.36043431</td><td>-1.19642780</td><td>-2.2338298</td><td>⋯</td><td>-0.0235905585</td><td> 0.0187046538</td><td>-0.054400761</td><td> 0.0249319674</td><td>-0.036073381</td><td> 1.553872e-02</td><td>-0.0396875138</td><td> 0.001166159</td><td> 0.019558795</td><td>allele_Sallele_S</td></tr>\n",
       "\t<tr><td>I979</td><td>DRB1:13:12:P113</td><td> 0.23225862</td><td>-1.59917611</td><td> 0.25779376</td><td> 0.44964607</td><td>-0.8303383</td><td> 0.08421887</td><td> 1.12481845</td><td>-0.2429908</td><td>⋯</td><td>-0.0151015856</td><td>-0.0409883205</td><td>-0.007567995</td><td>-0.0168516539</td><td>-0.022570399</td><td>-1.337178e-02</td><td> 0.0450429326</td><td>-0.018608108</td><td>-0.025322821</td><td>allele_Rallele_F</td></tr>\n",
       "\t<tr><td>I98 </td><td>DRB1:13:12:P113</td><td> 0.51708209</td><td> 0.72446140</td><td>-0.64049285</td><td> 0.26454089</td><td> 0.1763212</td><td>-0.47577431</td><td> 0.16970195</td><td>-0.9044349</td><td>⋯</td><td>-0.0230521439</td><td>-0.0116342694</td><td> 0.003356429</td><td> 0.0208330237</td><td> 0.052031809</td><td> 2.285700e-03</td><td> 0.0014421170</td><td>-0.020136379</td><td> 0.024753195</td><td>allele_Yallele_H</td></tr>\n",
       "\t<tr><td>I980</td><td>DRB1:13:12:P113</td><td> 0.15912651</td><td>-0.47723528</td><td>-0.59161220</td><td> 1.46441671</td><td>-2.1222239</td><td> 0.07898476</td><td>-0.41243473</td><td> 0.3382541</td><td>⋯</td><td>-0.0153686232</td><td>-0.0319419166</td><td>-0.029353633</td><td> 0.0126003501</td><td> 0.004632893</td><td> 2.212677e-02</td><td>-0.0339269293</td><td> 0.008247850</td><td>-0.005637941</td><td>allele_Rallele_H</td></tr>\n",
       "\t<tr><td>I982</td><td>DRB1:13:12:P113</td><td> 1.84500769</td><td> 1.84500769</td><td>-1.46441671</td><td>-0.63410152</td><td> 1.6279382</td><td>-0.60722067</td><td> 1.81036416</td><td> 1.4273260</td><td>⋯</td><td>-0.0080699046</td><td>-0.0165381219</td><td>-0.023742809</td><td> 0.0027542560</td><td> 0.035188115</td><td> 1.852236e-02</td><td> 0.0522529136</td><td>-0.022476688</td><td> 0.029522510</td><td>allele_Yallele_Y</td></tr>\n",
       "\t<tr><td>I983</td><td>DRB1:13:12:P113</td><td> 0.59939818</td><td>-1.39554619</td><td> 0.48455552</td><td>-0.42239499</td><td>-0.8084448</td><td> 0.80303190</td><td> 0.16309016</td><td>-0.7143254</td><td>⋯</td><td>-0.0042951177</td><td>-0.0001343792</td><td>-0.039854263</td><td> 0.0123682692</td><td> 0.008657832</td><td> 7.803393e-03</td><td>-0.0091750507</td><td> 0.011631717</td><td>-0.003206414</td><td>allele_Sallele_S</td></tr>\n",
       "\t<tr><td>I984</td><td>DRB1:13:12:P113</td><td>-0.52380204</td><td>-1.27770700</td><td>-0.57614655</td><td> 0.88304633</td><td>-0.4067615</td><td>-0.04370384</td><td>-0.75706412</td><td> 1.1248185</td><td>⋯</td><td>-0.0318955597</td><td> 0.0070716805</td><td> 0.028248998</td><td> 0.0233120809</td><td>-0.008692658</td><td> 6.489871e-05</td><td> 0.0039930235</td><td>-0.002174767</td><td> 0.021512297</td><td>allele_Sallele_F</td></tr>\n",
       "\t<tr><td>I985</td><td>DRB1:13:12:P113</td><td> 0.94850583</td><td> 0.68105345</td><td> 0.44820363</td><td>-1.11992168</td><td> 1.1371800</td><td>-0.48749087</td><td> 0.35487304</td><td>-0.2015474</td><td>⋯</td><td>-0.0268686219</td><td>-0.0157467354</td><td> 0.014699326</td><td> 0.0028008872</td><td>-0.018534860</td><td>-3.230513e-02</td><td> 0.0121653419</td><td>-0.020692769</td><td>-0.040596726</td><td>allele_Hallele_F</td></tr>\n",
       "\t<tr><td>I986</td><td>DRB1:13:12:P113</td><td> 0.38139033</td><td>-1.72344827</td><td> 0.39122686</td><td> 0.07113760</td><td>-0.9222473</td><td>-0.42810538</td><td>-0.30255784</td><td> 0.3286030</td><td>⋯</td><td>-0.0276509421</td><td>-0.0340248199</td><td> 0.020688841</td><td> 0.0091481925</td><td>-0.018701565</td><td>-2.908857e-02</td><td> 0.0007886939</td><td> 0.001421668</td><td> 0.005549198</td><td>allele_Sallele_G</td></tr>\n",
       "\t<tr><td>I987</td><td>DRB1:13:12:P113</td><td> 0.83772490</td><td> 0.97543519</td><td>-0.29301469</td><td> 0.06068145</td><td>-0.2889330</td><td> 0.97543519</td><td> 1.86690631</td><td>-0.3465516</td><td>⋯</td><td>-0.0219677284</td><td> 0.0170758486</td><td>-0.020863219</td><td> 0.0140002508</td><td>-0.027357134</td><td> 8.141566e-03</td><td>-0.0342146325</td><td>-0.023889711</td><td> 0.020054171</td><td>allele_Sallele_H</td></tr>\n",
       "\t<tr><td>I988</td><td>DRB1:13:12:P113</td><td> 2.16097604</td><td> 0.53505495</td><td>-2.40598261</td><td>-0.98386458</td><td>-0.3176105</td><td> 0.27807168</td><td> 1.46441671</td><td> 0.9546588</td><td>⋯</td><td>-0.0333336045</td><td> 0.0159416717</td><td> 0.025632210</td><td>-0.0066075109</td><td> 0.001903312</td><td> 5.320158e-03</td><td> 0.0059378232</td><td>-0.001815550</td><td>-0.024799721</td><td>allele_Sallele_G</td></tr>\n",
       "\t<tr><td>I989</td><td>DRB1:13:12:P113</td><td>-0.61036008</td><td> 0.38700663</td><td> 0.71769584</td><td>-1.82395968</td><td> 1.4720812</td><td> 1.08402012</td><td> 0.46121969</td><td> 2.2839830</td><td>⋯</td><td>-0.0131409474</td><td> 0.0120151766</td><td> 0.008707146</td><td> 0.0024927388</td><td>-0.009357990</td><td> 8.890599e-03</td><td>-0.0308048467</td><td>-0.021304329</td><td> 0.012577791</td><td>allele_Rallele_R</td></tr>\n",
       "\t<tr><td>I99 </td><td>DRB1:13:12:P113</td><td>-0.63809305</td><td> 0.27671635</td><td> 0.56387267</td><td>-0.18029641</td><td>-0.1235584</td><td>-1.53253601</td><td>-0.32172810</td><td> 1.0095830</td><td>⋯</td><td>-0.0256875265</td><td>-0.0101996211</td><td> 0.006000543</td><td>-0.0121110533</td><td>-0.019520432</td><td> 3.329722e-02</td><td> 0.0472007809</td><td>-0.053468525</td><td>-0.025931551</td><td>allele_Fallele_F</td></tr>\n",
       "\t<tr><td>I990</td><td>DRB1:13:12:P113</td><td>-0.04762045</td><td>-0.09338421</td><td> 0.81569917</td><td> 0.10911492</td><td> 0.7432405</td><td> 0.26724309</td><td> 0.65820591</td><td>-1.3077830</td><td>⋯</td><td> 0.0002043111</td><td>-0.0023538222</td><td>-0.010979951</td><td> 0.0019295142</td><td> 0.011540298</td><td> 9.919356e-03</td><td>-0.0021174063</td><td> 0.002970211</td><td> 0.002232743</td><td>allele_Rallele_S</td></tr>\n",
       "\t<tr><td>I991</td><td>DRB1:13:12:P113</td><td>-0.36182636</td><td> 0.02412962</td><td> 1.67910206</td><td> 0.34655162</td><td> 1.2044702</td><td> 0.64851900</td><td>-0.46557568</td><td>-1.1471957</td><td>⋯</td><td>-0.0288395743</td><td>-0.0097608023</td><td> 0.017935904</td><td>-0.0103243074</td><td>-0.012776428</td><td> 8.904422e-03</td><td>-0.0327008605</td><td> 0.007125617</td><td> 0.033204542</td><td>allele_Gallele_H</td></tr>\n",
       "\t<tr><td>I992</td><td>DRB1:13:12:P113</td><td> 0.50815827</td><td>-0.33549348</td><td> 0.41527630</td><td> 0.13144735</td><td>-1.1029907</td><td> 0.67285337</td><td> 0.54410624</td><td>-0.2618406</td><td>⋯</td><td>-0.0224641049</td><td>-0.0098034820</td><td> 0.016809169</td><td> 0.0053230738</td><td>-0.012970858</td><td> 1.027619e-02</td><td>-0.0304203389</td><td>-0.025060760</td><td> 0.024686616</td><td>allele_Rallele_F</td></tr>\n",
       "\t<tr><td>I993</td><td>DRB1:13:12:P113</td><td> 0.75706412</td><td> 1.33272438</td><td>-0.40676153</td><td>-0.48749087</td><td> 0.1353949</td><td> 0.21087287</td><td> 0.70259193</td><td>-1.1727529</td><td>⋯</td><td>-0.0151342104</td><td> 0.0124274364</td><td> 0.001118354</td><td> 0.0022569137</td><td>-0.011847507</td><td> 8.241402e-03</td><td> 0.0287462906</td><td>-0.028837144</td><td> 0.054589647</td><td>allele_Gallele_G</td></tr>\n",
       "\t<tr><td>I994</td><td>DRB1:13:12:P113</td><td> 2.28398302</td><td>-0.50075258</td><td>-2.00218025</td><td>-0.49337424</td><td>-1.5945091</td><td> 2.18873612</td><td> 2.43024908</td><td>-0.3327354</td><td>⋯</td><td>-0.0243013020</td><td> 0.0346950619</td><td> 0.020557477</td><td> 0.0157583943</td><td>-0.001704034</td><td> 1.068944e-03</td><td> 0.0045700781</td><td>-0.021362165</td><td>-0.013635255</td><td>allele_Rallele_R</td></tr>\n",
       "\t<tr><td>I995</td><td>DRB1:13:12:P113</td><td>-1.30778298</td><td> 0.29029300</td><td> 0.83587397</td><td> 1.06543187</td><td>-0.0397879</td><td>-0.54410624</td><td> 2.23382976</td><td> 0.3618264</td><td>⋯</td><td>-0.0152564223</td><td> 0.0111088319</td><td> 0.005882725</td><td> 0.0010329898</td><td>-0.009267594</td><td> 4.735645e-03</td><td>-0.0372712970</td><td>-0.022960925</td><td> 0.013950796</td><td>allele_Sallele_F</td></tr>\n",
       "\t<tr><td>I996</td><td>DRB1:13:12:P113</td><td>-1.39900790</td><td>-0.56387267</td><td> 0.67612794</td><td> 0.74668299</td><td> 0.1222443</td><td> 1.42013935</td><td> 0.10649136</td><td> 0.5776869</td><td>⋯</td><td>-0.0229690960</td><td>-0.0111106698</td><td> 0.015055627</td><td>-0.0005467249</td><td>-0.014009592</td><td> 2.366375e-02</td><td>-0.0247778399</td><td>-0.031648570</td><td>-0.028074345</td><td>allele_Hallele_F</td></tr>\n",
       "\t<tr><td>I997</td><td>DRB1:13:12:P113</td><td> 0.23091900</td><td>-1.95597362</td><td> 1.22630679</td><td>-2.32091627</td><td>-1.0009366</td><td> 0.04370384</td><td> 0.91034028</td><td> 1.5036392</td><td>⋯</td><td>-0.0142753612</td><td>-0.0248935114</td><td>-0.007179424</td><td>-0.0261156389</td><td>-0.017419659</td><td> 3.112580e-02</td><td> 0.0570768618</td><td> 0.005629706</td><td> 0.025494709</td><td>allele_Sallele_F</td></tr>\n",
       "\t<tr><td>I998</td><td>DRB1:13:12:P113</td><td> 1.04495063</td><td>-1.31704010</td><td>-1.80369001</td><td> 1.61339034</td><td> 1.7064236</td><td>-1.85950737</td><td>-0.02673882</td><td> 0.7588022</td><td>⋯</td><td>-0.0198780871</td><td>-0.0297285423</td><td>-0.003961742</td><td>-0.0543551048</td><td>-0.006149638</td><td> 3.109768e-02</td><td>-0.0030260698</td><td> 0.027173791</td><td> 0.021149097</td><td>allele_Sallele_G</td></tr>\n",
       "\t<tr><td>I999</td><td>DRB1:13:12:P113</td><td>-1.02710623</td><td>-1.98318728</td><td> 2.82809285</td><td>-2.61798948</td><td>-3.4700862</td><td> 2.48356980</td><td> 3.16312106</td><td>-0.7076086</td><td>⋯</td><td>-0.0341850144</td><td>-0.0054376781</td><td>-0.019715693</td><td> 0.0038352918</td><td>-0.025877144</td><td> 1.868841e-02</td><td> 0.0278059568</td><td> 0.049461065</td><td> 0.037331032</td><td>allele_Rallele_S</td></tr>\n",
       "</tbody>\n",
       "</table>\n"
      ],
      "text/latex": [
       "A grouped\\_df: 1898 × 31\n",
       "\\begin{tabular}{lllllllllllllllllllll}\n",
       " patient\\_id & pair & L & F & G & S & Y & A & P & R & ⋯ & PC1 & PC2 & PC3 & PC4 & PC5 & PC6 & PC7 & PC8 & PC9 & HLA\\\\\n",
       " <chr> & <chr> & <dbl> & <dbl> & <dbl> & <dbl> & <dbl> & <dbl> & <dbl> & <dbl> & ⋯ & <dbl> & <dbl> & <dbl> & <dbl> & <dbl> & <dbl> & <dbl> & <dbl> & <dbl> & <chr>\\\\\n",
       "\\hline\n",
       "\t H0   & DRB1:13:12:P113 &  2.26662553 &  1.48374263 & -1.33272438 & -1.04720465 & -0.894662105 &  1.07933808 &  1.29863658 &  0.07898476 & ⋯ & -0.028780271 &  0.040238904 & -0.0071729478 &  0.033242921 & -0.010985428 &  0.001170305 & -0.0053977252 &  0.0032817939 & -0.0097599940 & allele\\_Rallele\\_R\\\\\n",
       "\t H1   & DRB1:13:12:P113 &  0.95465882 & -0.27942752 & -0.15120666 &  0.82666190 & -1.196427804 &  1.07004428 &  0.10780305 & -0.20953956 & ⋯ & -0.020513447 &  0.013880925 & -0.0007512883 & -0.009227345 &  0.029113552 &  0.007404630 & -0.0370105065 & -0.0074489374 &  0.0137528756 & allele\\_Rallele\\_Y\\\\\n",
       "\t H10  & DRB1:13:12:P113 &  0.25644576 & -1.07933808 &  0.63889257 &  0.20421001 & -1.385260115 &  0.37998815 & -0.70928479 & -0.63410152 & ⋯ & -0.021797512 & -0.014022404 &  0.0125275207 &  0.008571864 & -0.009477230 & -0.041021895 & -0.0001910232 & -0.0004914357 & -0.0071156440 & allele\\_Sallele\\_S\\\\\n",
       "\t H100 & DRB1:13:12:P113 &  0.03195778 &  1.00093664 & -1.58071241 & -0.29165357 &  1.771468476 &  1.11020785 & -1.08637007 & -0.07113760 & ⋯ & -0.004942368 & -0.002447521 & -0.0306362403 &  0.003272312 & -0.020144411 & -0.033990572 & -0.0070075715 &  0.0020702732 & -0.0053175130 & allele\\_Sallele\\_S\\\\\n",
       "\t H101 & DRB1:13:12:P113 &  0.20421001 & -0.16705636 & -0.42953515 &  0.57307001 &  0.030652960 & -0.64209477 &  0.14593206 & -0.72276691 & ⋯ & -0.027056046 & -0.009474266 &  0.0148949435 & -0.021221340 & -0.004339928 &  0.015587497 & -0.0359386456 & -0.0061768543 & -0.0007301164 & allele\\_Rallele\\_S\\\\\n",
       "\t H102 & DRB1:13:12:P113 &  0.57922856 & -0.88690496 &  1.56721024 & -1.55836511 &  0.283498143 &  1.54103177 & -0.04370384 & -0.99878672 & ⋯ & -0.026334089 & -0.015815421 &  0.0198324257 &  0.009153323 & -0.006428599 &  0.017137351 & -0.0401447019 & -0.0076326677 &  0.0015133883 & allele\\_Sallele\\_G\\\\\n",
       "\t H103 & DRB1:13:12:P113 & -0.72276691 & -0.54561911 &  0.94646279 & -0.34239992 & -0.942388532 & -0.55776755 &  0.84143540 & -0.30802341 & ⋯ & -0.023841642 &  0.023411343 &  0.0111188053 &  0.025952859 &  0.029771182 & -0.003477018 & -0.0042996923 & -0.0179570482 & -0.0004667786 & allele\\_Yallele\\_H\\\\\n",
       "\t H104 & DRB1:13:12:P113 &  0.44676212 &  1.33590084 & -0.80123281 & -0.37298833 &  0.475774313 &  0.09469417 & -1.81711993 &  0.84143540 & ⋯ & -0.031151461 &  0.041885793 & -0.0095821616 &  0.031837422 & -0.016874565 & -0.001633081 & -0.0033757865 & -0.0140596194 &  0.0207020647 & allele\\_Sallele\\_S\\\\\n",
       "\t H105 & DRB1:13:12:P113 & -0.81025442 & -1.54103177 & -0.58540916 & -0.83957871 &  0.360434310 & -0.30802341 & -0.18162211 &  0.39404423 & ⋯ & -0.018733767 &  0.017177212 & -0.0244145564 &  0.012371418 & -0.025487335 &  0.008786448 & -0.0312218685 & -0.0214745960 &  0.0501780332 & allele\\_Rallele\\_S\\\\\n",
       "\t H106 & DRB1:13:12:P113 &  1.51999606 & -0.42382129 &  1.23185814 & -0.54108422 &  1.817119933 & -0.12881681 & -0.18029641 & -0.79585103 & ⋯ & -0.021027381 &  0.010608030 & -0.0337549498 &  0.015030587 &  0.007780790 & -0.038809197 &  0.0005171268 & -0.0202935044 & -0.0201234071 & allele\\_Yallele\\_S\\\\\n",
       "\t H107 & DRB1:13:12:P113 &  0.92025376 &  1.90552579 & -0.67285337 &  0.37159057 & -0.566933114 &  1.51176706 & -0.64209477 & -0.99023278 & ⋯ & -0.014485738 & -0.044398293 & -0.0020457379 &  0.013474322 &  0.052428473 &  0.013235421 & -0.0017188954 &  0.0131618427 & -0.0031924663 & allele\\_Yallele\\_G\\\\\n",
       "\t H108 & DRB1:13:12:P113 &  0.20953956 & -0.03326265 & -0.62297850 & -0.32310185 & -0.169701954 & -0.42096955 &  0.20287854 &  0.16573400 & ⋯ & -0.009062120 & -0.007400295 & -0.0136101758 & -0.037264161 & -0.010869506 & -0.064237970 &  0.0108188410 & -0.0217747702 & -0.0284660246 & allele\\_Gallele\\_H\\\\\n",
       "\t H109 & DRB1:13:12:P113 &  0.34793684 &  0.45108945 & -1.46823816 & -0.03456757 &  0.685995540 &  0.23493912 & -1.40598207 &  0.70593441 & ⋯ & -0.014460066 &  0.010826559 &  0.0049987079 &  0.004247617 & -0.009451403 & -0.038182036 & -0.0043423633 & -0.0203019292 & -0.0101325325 & allele\\_Sallele\\_H\\\\\n",
       "\t H11  & DRB1:13:12:P113 &  0.06198809 &  0.98810559 & -0.45687242 & -1.25445294 &  0.004564635 & -0.78693223 &  0.63250774 &  1.14971774 & ⋯ & -0.024464380 & -0.011885441 &  0.0042098307 &  0.007631218 &  0.037332111 &  0.018841082 &  0.0115663290 & -0.0398190066 & -0.0373932979 & allele\\_Yallele\\_F\\\\\n",
       "\t H110 & DRB1:13:12:P113 &  0.04892615 & -0.79406222 &  1.71771794 & -1.05627439 &  1.159879636 & -1.71204347 & -1.18846210 &  0.15384553 & ⋯ & -0.012273326 & -0.035989444 & -0.0030807273 &  0.006803924 &  0.035510082 &  0.012047062 & -0.0319399701 & -0.0080545948 &  0.0058784984 & allele\\_Yallele\\_F\\\\\n",
       "\t H111 & DRB1:13:12:P113 & -0.10911492 & -0.47869727 &  0.60878962 & -0.55929188 & -0.361826364 & -0.66307257 & -1.08402012 & -0.67776795 & ⋯ & -0.006687682 &  0.001490794 & -0.0382776914 &  0.001991865 & -0.016589093 & -0.033322885 &  0.0058257786 & -0.0165095181 & -0.0056081127 & allele\\_Sallele\\_G\\\\\n",
       "\t H112 & DRB1:13:12:P113 &  0.48602267 & -1.35524915 &  1.20716833 & -0.64851900 &  2.021924201 & -1.23464810 & -0.01499860 & -2.07505681 & ⋯ & -0.022423670 & -0.011532601 &  0.0142453115 &  0.014022921 &  0.011605667 &  0.003729956 & -0.0051209895 &  0.0073503241 & -0.0005158788 & allele\\_Sallele\\_S\\\\\n",
       "\t H113 & DRB1:13:12:P113 & -0.68929959 &  0.47431436 &  1.09821096 & -0.25240452 &  0.958780976 &  0.28757347 & -1.47594605 &  0.87728292 & ⋯ & -0.030032434 & -0.004310435 & -0.0189287960 &  0.033221868 & -0.018785053 &  0.012890811 & -0.0153629603 &  0.0321646308 & -0.0235156126 & allele\\_Sallele\\_S\\\\\n",
       "\t H114 & DRB1:13:12:P113 &  0.77454999 & -0.42239499 &  0.12618717 &  0.83587397 & -1.317040104 &  0.96291949 &  0.42096955 & -1.11020785 & ⋯ & -0.030775752 & -0.010167778 &  0.0184566695 & -0.010267238 & -0.012774290 &  0.008994173 & -0.0326565966 &  0.0072047272 &  0.0359367253 & allele\\_Rallele\\_H\\\\\n",
       "\t H115 & DRB1:13:12:P113 &  0.90443492 &  0.78338220 & -1.67910206 &  0.40110140 &  0.910340284 & -0.30939124 &  0.03065296 &  1.07700591 & ⋯ & -0.032012652 &  0.005348610 &  0.0171945280 &  0.018424914 &  0.024817633 &  0.009267644 &  0.0126431288 & -0.0333226318 & -0.0334356944 & allele\\_Yallele\\_F\\\\\n",
       "\t H116 & DRB1:13:12:P113 &  0.91826385 &  0.41527630 & -0.35487304 &  0.23493912 &  0.746682985 &  0.84143540 & -0.01108573 & -0.18825549 & ⋯ & -0.024327324 & -0.011724336 & -0.0269325057 &  0.034587606 &  0.064035821 &  0.004655768 & -0.0016626667 & -0.0017319923 & -0.0039494840 & allele\\_Yallele\\_Y\\\\\n",
       "\t H117 & DRB1:13:12:P113 &  0.05153780 &  0.19489715 &  0.76752750 & -1.97395292 &  0.214875067 & -0.94035726 & -0.19622651 &  1.15987964 & ⋯ & -0.013045039 & -0.028263827 & -0.0298034756 &  0.007118301 & -0.023256533 &  0.031869912 &  0.0452764200 &  0.0224166543 &  0.0077569035 & allele\\_Rallele\\_S\\\\\n",
       "\t H118 & DRB1:13:12:P113 &  0.89856093 & -0.94850583 & -0.39827615 &  0.59472227 & -0.684346321 & -0.52904506 & -0.27807168 & -0.05676217 & ⋯ & -0.017070334 &  0.016549115 &  0.0037452452 & -0.012281863 & -0.006565051 &  0.013944748 &  0.0299115687 &  0.0261443199 &  0.0229110909 & allele\\_Rallele\\_S\\\\\n",
       "\t H119 & DRB1:13:12:P113 & -1.44562276 & -0.06852288 &  1.28362959 &  1.63783166 & -0.299828451 & -0.34378316 &  0.07113760 & -0.26589175 & ⋯ & -0.011492776 & -0.028882628 &  0.0039624749 & -0.005063495 & -0.016969784 &  0.007305539 & -0.0349177245 & -0.0191994697 &  0.0353536957 & allele\\_Sallele\\_G\\\\\n",
       "\t H12  & DRB1:13:12:P113 & -1.09821096 &  1.17795703 &  0.33135731 &  1.07933808 & -0.484555515 & -1.39554619 & -0.57460760 &  0.02412962 & ⋯ & -0.029145275 & -0.009756240 &  0.0122821267 & -0.025170941 & -0.012688121 & -0.028652839 &  0.0125018753 & -0.0223808963 & -0.0454544425 & allele\\_Hallele\\_F\\\\\n",
       "\t H120 & DRB1:13:12:P113 & -0.77984202 &  0.06590863 & -0.70259193 & -0.17367258 &  0.159126515 & -0.36043431 & -0.53204760 & -0.89466210 & ⋯ & -0.024627994 & -0.016173565 & -0.0033433484 &  0.022565085 &  0.046481318 &  0.006900947 & -0.0037846685 &  0.0013242265 &  0.0018603097 & allele\\_Yallele\\_S\\\\\n",
       "\t H121 & DRB1:13:12:P113 & -1.22079298 & -0.98175069 &  0.43526307 & -1.08872604 &  1.049463990 & -1.53677003 & -1.04495063 &  1.47594605 & ⋯ & -0.026748998 & -0.009365023 &  0.0067586961 & -0.034894413 & -0.013565247 &  0.036294731 &  0.0395841342 & -0.0382159208 & -0.0535677340 & allele\\_Fallele\\_F\\\\\n",
       "\t H122 & DRB1:13:12:P113 & -0.69593039 &  0.80663790 &  0.22957979 &  0.90051547 & -0.065908627 & -0.29982845 & -0.43813238 &  0.13539486 & ⋯ & -0.027379080 & -0.012432657 &  0.0111285957 & -0.020018112 & -0.013528042 &  0.014795201 &  0.0175254827 &  0.0029123108 &  0.0065228977 & allele\\_Sallele\\_S\\\\\n",
       "\t H123 & DRB1:13:12:P113 &  0.41101519 & -1.18057109 & -0.09338421 & -0.14856884 &  0.551683155 & -1.02049830 & -1.63783166 &  1.71204347 & ⋯ & -0.009371735 & -0.008112305 & -0.0562775749 &  0.015681826 &  0.027374625 &  0.017191518 & -0.0404720245 & -0.0133560891 &  0.0011018593 & allele\\_Yallele\\_S\\\\\n",
       "\t H124 & DRB1:13:12:P113 &  0.10386854 & -0.42096955 & -0.47723528 &  1.10059767 &  0.415276304 & -1.31085621 & -1.86690631 & -0.56234443 & ⋯ & -0.026614685 &  0.007795373 &  0.0173070162 & -0.042438793 &  0.011828737 &  0.000787294 & -0.0050500292 &  0.0632271762 &  0.0011525514 & allele\\_Rallele\\_S\\\\\n",
       "\t ⋮ & ⋮ & ⋮ & ⋮ & ⋮ & ⋮ & ⋮ & ⋮ & ⋮ & ⋮ & ⋱ & ⋮ & ⋮ & ⋮ & ⋮ & ⋮ & ⋮ & ⋮ & ⋮ & ⋮ & ⋮\\\\\n",
       "\t I970 & DRB1:13:12:P113 & -0.22422704 &  1.22630679 & -0.13934448 & -0.29982845 &  1.3684353 & -0.53957507 &  0.48162433 & -0.4568724 & ⋯ & -0.0314449954 & -0.0135062894 & -0.017267002 &  0.0211993269 & -0.026280287 & -3.845840e-02 & -0.0050699433 &  0.011169710 & -0.015709580 & allele\\_Sallele\\_S\\\\\n",
       "\t I972 & DRB1:13:12:P113 &  1.00309121 & -1.85220886 &  0.58231608 & -0.50519267 & -0.5638727 & -0.02021612 & -0.57307001 & -1.1497177 & ⋯ & -0.0172389831 &  0.0137901023 &  0.004356287 & -0.0116809134 & -0.009128329 & -3.367018e-02 & -0.0035981408 & -0.004265424 & -0.001120610 & allele\\_Rallele\\_S\\\\\n",
       "\t I973 & DRB1:13:12:P113 & -1.21259119 & -1.62793824 & -0.14461404 &  0.25240452 &  0.2329286 &  0.68599554 &  0.31761046 &  1.5076907 & ⋯ & -0.0155894782 & -0.0409187627 & -0.006274061 & -0.0065695090 & -0.025151414 & -2.407127e-02 &  0.0396854637 & -0.003758311 &  0.036875888 & allele\\_Sallele\\_G\\\\\n",
       "\t I974 & DRB1:13:12:P113 &  0.08945529 &  1.18319324 & -0.16309016 &  0.52904506 & -0.3286030 & -0.33825412 &  0.86964339 &  0.9322707 & ⋯ & -0.0216908127 &  0.0168054906 & -0.002515913 & -0.0278126555 & -0.014058149 &  1.501099e-02 &  0.0415204268 & -0.025359950 &  0.031558593 & allele\\_Rallele\\_S\\\\\n",
       "\t I975 & DRB1:13:12:P113 &  0.79764239 & -0.75706412 & -1.21804994 & -0.61508050 & -0.5395751 &  0.68105345 &  0.31349820 &  1.1701627 & ⋯ & -0.0109860518 &  0.0051666905 & -0.024694974 & -0.0654643542 &  0.025297898 & -2.347610e-02 & -0.0009528766 &  0.029581159 & -0.011613975 & allele\\_Sallele\\_S\\\\\n",
       "\t I976 & DRB1:13:12:P113 & -0.58850785 & -0.50667491 & -0.71769584 &  1.45307881 & -0.7588022 & -0.40392985 & -1.25445294 &  1.3990079 & ⋯ & -0.0191944587 &  0.0146545709 & -0.008501125 & -0.0350395952 &  0.027433421 & -3.424234e-02 &  0.0063528965 & -0.014215089 & -0.008405460 & allele\\_Yallele\\_S\\\\\n",
       "\t I977 & DRB1:13:12:P113 &  0.08683678 & -0.06721570 & -0.08814596 &  1.43824622 & -0.3884126 &  0.18029641 &  0.19356814 & -1.0183055 & ⋯ & -0.0057625802 & -0.0047885600 & -0.038428498 &  0.0169892013 &  0.041949975 &  2.331499e-03 & -0.0041503119 & -0.008529043 &  0.002238608 & allele\\_Yallele\\_S\\\\\n",
       "\t I978 & DRB1:13:12:P113 &  1.48374263 & -1.69534282 &  1.41302531 &  0.21220656 & -0.7176958 &  0.36043431 & -1.19642780 & -2.2338298 & ⋯ & -0.0235905585 &  0.0187046538 & -0.054400761 &  0.0249319674 & -0.036073381 &  1.553872e-02 & -0.0396875138 &  0.001166159 &  0.019558795 & allele\\_Sallele\\_S\\\\\n",
       "\t I979 & DRB1:13:12:P113 &  0.23225862 & -1.59917611 &  0.25779376 &  0.44964607 & -0.8303383 &  0.08421887 &  1.12481845 & -0.2429908 & ⋯ & -0.0151015856 & -0.0409883205 & -0.007567995 & -0.0168516539 & -0.022570399 & -1.337178e-02 &  0.0450429326 & -0.018608108 & -0.025322821 & allele\\_Rallele\\_F\\\\\n",
       "\t I98  & DRB1:13:12:P113 &  0.51708209 &  0.72446140 & -0.64049285 &  0.26454089 &  0.1763212 & -0.47577431 &  0.16970195 & -0.9044349 & ⋯ & -0.0230521439 & -0.0116342694 &  0.003356429 &  0.0208330237 &  0.052031809 &  2.285700e-03 &  0.0014421170 & -0.020136379 &  0.024753195 & allele\\_Yallele\\_H\\\\\n",
       "\t I980 & DRB1:13:12:P113 &  0.15912651 & -0.47723528 & -0.59161220 &  1.46441671 & -2.1222239 &  0.07898476 & -0.41243473 &  0.3382541 & ⋯ & -0.0153686232 & -0.0319419166 & -0.029353633 &  0.0126003501 &  0.004632893 &  2.212677e-02 & -0.0339269293 &  0.008247850 & -0.005637941 & allele\\_Rallele\\_H\\\\\n",
       "\t I982 & DRB1:13:12:P113 &  1.84500769 &  1.84500769 & -1.46441671 & -0.63410152 &  1.6279382 & -0.60722067 &  1.81036416 &  1.4273260 & ⋯ & -0.0080699046 & -0.0165381219 & -0.023742809 &  0.0027542560 &  0.035188115 &  1.852236e-02 &  0.0522529136 & -0.022476688 &  0.029522510 & allele\\_Yallele\\_Y\\\\\n",
       "\t I983 & DRB1:13:12:P113 &  0.59939818 & -1.39554619 &  0.48455552 & -0.42239499 & -0.8084448 &  0.80303190 &  0.16309016 & -0.7143254 & ⋯ & -0.0042951177 & -0.0001343792 & -0.039854263 &  0.0123682692 &  0.008657832 &  7.803393e-03 & -0.0091750507 &  0.011631717 & -0.003206414 & allele\\_Sallele\\_S\\\\\n",
       "\t I984 & DRB1:13:12:P113 & -0.52380204 & -1.27770700 & -0.57614655 &  0.88304633 & -0.4067615 & -0.04370384 & -0.75706412 &  1.1248185 & ⋯ & -0.0318955597 &  0.0070716805 &  0.028248998 &  0.0233120809 & -0.008692658 &  6.489871e-05 &  0.0039930235 & -0.002174767 &  0.021512297 & allele\\_Sallele\\_F\\\\\n",
       "\t I985 & DRB1:13:12:P113 &  0.94850583 &  0.68105345 &  0.44820363 & -1.11992168 &  1.1371800 & -0.48749087 &  0.35487304 & -0.2015474 & ⋯ & -0.0268686219 & -0.0157467354 &  0.014699326 &  0.0028008872 & -0.018534860 & -3.230513e-02 &  0.0121653419 & -0.020692769 & -0.040596726 & allele\\_Hallele\\_F\\\\\n",
       "\t I986 & DRB1:13:12:P113 &  0.38139033 & -1.72344827 &  0.39122686 &  0.07113760 & -0.9222473 & -0.42810538 & -0.30255784 &  0.3286030 & ⋯ & -0.0276509421 & -0.0340248199 &  0.020688841 &  0.0091481925 & -0.018701565 & -2.908857e-02 &  0.0007886939 &  0.001421668 &  0.005549198 & allele\\_Sallele\\_G\\\\\n",
       "\t I987 & DRB1:13:12:P113 &  0.83772490 &  0.97543519 & -0.29301469 &  0.06068145 & -0.2889330 &  0.97543519 &  1.86690631 & -0.3465516 & ⋯ & -0.0219677284 &  0.0170758486 & -0.020863219 &  0.0140002508 & -0.027357134 &  8.141566e-03 & -0.0342146325 & -0.023889711 &  0.020054171 & allele\\_Sallele\\_H\\\\\n",
       "\t I988 & DRB1:13:12:P113 &  2.16097604 &  0.53505495 & -2.40598261 & -0.98386458 & -0.3176105 &  0.27807168 &  1.46441671 &  0.9546588 & ⋯ & -0.0333336045 &  0.0159416717 &  0.025632210 & -0.0066075109 &  0.001903312 &  5.320158e-03 &  0.0059378232 & -0.001815550 & -0.024799721 & allele\\_Sallele\\_G\\\\\n",
       "\t I989 & DRB1:13:12:P113 & -0.61036008 &  0.38700663 &  0.71769584 & -1.82395968 &  1.4720812 &  1.08402012 &  0.46121969 &  2.2839830 & ⋯ & -0.0131409474 &  0.0120151766 &  0.008707146 &  0.0024927388 & -0.009357990 &  8.890599e-03 & -0.0308048467 & -0.021304329 &  0.012577791 & allele\\_Rallele\\_R\\\\\n",
       "\t I99  & DRB1:13:12:P113 & -0.63809305 &  0.27671635 &  0.56387267 & -0.18029641 & -0.1235584 & -1.53253601 & -0.32172810 &  1.0095830 & ⋯ & -0.0256875265 & -0.0101996211 &  0.006000543 & -0.0121110533 & -0.019520432 &  3.329722e-02 &  0.0472007809 & -0.053468525 & -0.025931551 & allele\\_Fallele\\_F\\\\\n",
       "\t I990 & DRB1:13:12:P113 & -0.04762045 & -0.09338421 &  0.81569917 &  0.10911492 &  0.7432405 &  0.26724309 &  0.65820591 & -1.3077830 & ⋯ &  0.0002043111 & -0.0023538222 & -0.010979951 &  0.0019295142 &  0.011540298 &  9.919356e-03 & -0.0021174063 &  0.002970211 &  0.002232743 & allele\\_Rallele\\_S\\\\\n",
       "\t I991 & DRB1:13:12:P113 & -0.36182636 &  0.02412962 &  1.67910206 &  0.34655162 &  1.2044702 &  0.64851900 & -0.46557568 & -1.1471957 & ⋯ & -0.0288395743 & -0.0097608023 &  0.017935904 & -0.0103243074 & -0.012776428 &  8.904422e-03 & -0.0327008605 &  0.007125617 &  0.033204542 & allele\\_Gallele\\_H\\\\\n",
       "\t I992 & DRB1:13:12:P113 &  0.50815827 & -0.33549348 &  0.41527630 &  0.13144735 & -1.1029907 &  0.67285337 &  0.54410624 & -0.2618406 & ⋯ & -0.0224641049 & -0.0098034820 &  0.016809169 &  0.0053230738 & -0.012970858 &  1.027619e-02 & -0.0304203389 & -0.025060760 &  0.024686616 & allele\\_Rallele\\_F\\\\\n",
       "\t I993 & DRB1:13:12:P113 &  0.75706412 &  1.33272438 & -0.40676153 & -0.48749087 &  0.1353949 &  0.21087287 &  0.70259193 & -1.1727529 & ⋯ & -0.0151342104 &  0.0124274364 &  0.001118354 &  0.0022569137 & -0.011847507 &  8.241402e-03 &  0.0287462906 & -0.028837144 &  0.054589647 & allele\\_Gallele\\_G\\\\\n",
       "\t I994 & DRB1:13:12:P113 &  2.28398302 & -0.50075258 & -2.00218025 & -0.49337424 & -1.5945091 &  2.18873612 &  2.43024908 & -0.3327354 & ⋯ & -0.0243013020 &  0.0346950619 &  0.020557477 &  0.0157583943 & -0.001704034 &  1.068944e-03 &  0.0045700781 & -0.021362165 & -0.013635255 & allele\\_Rallele\\_R\\\\\n",
       "\t I995 & DRB1:13:12:P113 & -1.30778298 &  0.29029300 &  0.83587397 &  1.06543187 & -0.0397879 & -0.54410624 &  2.23382976 &  0.3618264 & ⋯ & -0.0152564223 &  0.0111088319 &  0.005882725 &  0.0010329898 & -0.009267594 &  4.735645e-03 & -0.0372712970 & -0.022960925 &  0.013950796 & allele\\_Sallele\\_F\\\\\n",
       "\t I996 & DRB1:13:12:P113 & -1.39900790 & -0.56387267 &  0.67612794 &  0.74668299 &  0.1222443 &  1.42013935 &  0.10649136 &  0.5776869 & ⋯ & -0.0229690960 & -0.0111106698 &  0.015055627 & -0.0005467249 & -0.014009592 &  2.366375e-02 & -0.0247778399 & -0.031648570 & -0.028074345 & allele\\_Hallele\\_F\\\\\n",
       "\t I997 & DRB1:13:12:P113 &  0.23091900 & -1.95597362 &  1.22630679 & -2.32091627 & -1.0009366 &  0.04370384 &  0.91034028 &  1.5036392 & ⋯ & -0.0142753612 & -0.0248935114 & -0.007179424 & -0.0261156389 & -0.017419659 &  3.112580e-02 &  0.0570768618 &  0.005629706 &  0.025494709 & allele\\_Sallele\\_F\\\\\n",
       "\t I998 & DRB1:13:12:P113 &  1.04495063 & -1.31704010 & -1.80369001 &  1.61339034 &  1.7064236 & -1.85950737 & -0.02673882 &  0.7588022 & ⋯ & -0.0198780871 & -0.0297285423 & -0.003961742 & -0.0543551048 & -0.006149638 &  3.109768e-02 & -0.0030260698 &  0.027173791 &  0.021149097 & allele\\_Sallele\\_G\\\\\n",
       "\t I999 & DRB1:13:12:P113 & -1.02710623 & -1.98318728 &  2.82809285 & -2.61798948 & -3.4700862 &  2.48356980 &  3.16312106 & -0.7076086 & ⋯ & -0.0341850144 & -0.0054376781 & -0.019715693 &  0.0038352918 & -0.025877144 &  1.868841e-02 &  0.0278059568 &  0.049461065 &  0.037331032 & allele\\_Rallele\\_S\\\\\n",
       "\\end{tabular}\n"
      ],
      "text/markdown": [
       "\n",
       "A grouped_df: 1898 × 31\n",
       "\n",
       "| patient_id &lt;chr&gt; | pair &lt;chr&gt; | L &lt;dbl&gt; | F &lt;dbl&gt; | G &lt;dbl&gt; | S &lt;dbl&gt; | Y &lt;dbl&gt; | A &lt;dbl&gt; | P &lt;dbl&gt; | R &lt;dbl&gt; | ⋯ ⋯ | PC1 &lt;dbl&gt; | PC2 &lt;dbl&gt; | PC3 &lt;dbl&gt; | PC4 &lt;dbl&gt; | PC5 &lt;dbl&gt; | PC6 &lt;dbl&gt; | PC7 &lt;dbl&gt; | PC8 &lt;dbl&gt; | PC9 &lt;dbl&gt; | HLA &lt;chr&gt; |\n",
       "|---|---|---|---|---|---|---|---|---|---|---|---|---|---|---|---|---|---|---|---|---|\n",
       "| H0   | DRB1:13:12:P113 |  2.26662553 |  1.48374263 | -1.33272438 | -1.04720465 | -0.894662105 |  1.07933808 |  1.29863658 |  0.07898476 | ⋯ | -0.028780271 |  0.040238904 | -0.0071729478 |  0.033242921 | -0.010985428 |  0.001170305 | -0.0053977252 |  0.0032817939 | -0.0097599940 | allele_Rallele_R |\n",
       "| H1   | DRB1:13:12:P113 |  0.95465882 | -0.27942752 | -0.15120666 |  0.82666190 | -1.196427804 |  1.07004428 |  0.10780305 | -0.20953956 | ⋯ | -0.020513447 |  0.013880925 | -0.0007512883 | -0.009227345 |  0.029113552 |  0.007404630 | -0.0370105065 | -0.0074489374 |  0.0137528756 | allele_Rallele_Y |\n",
       "| H10  | DRB1:13:12:P113 |  0.25644576 | -1.07933808 |  0.63889257 |  0.20421001 | -1.385260115 |  0.37998815 | -0.70928479 | -0.63410152 | ⋯ | -0.021797512 | -0.014022404 |  0.0125275207 |  0.008571864 | -0.009477230 | -0.041021895 | -0.0001910232 | -0.0004914357 | -0.0071156440 | allele_Sallele_S |\n",
       "| H100 | DRB1:13:12:P113 |  0.03195778 |  1.00093664 | -1.58071241 | -0.29165357 |  1.771468476 |  1.11020785 | -1.08637007 | -0.07113760 | ⋯ | -0.004942368 | -0.002447521 | -0.0306362403 |  0.003272312 | -0.020144411 | -0.033990572 | -0.0070075715 |  0.0020702732 | -0.0053175130 | allele_Sallele_S |\n",
       "| H101 | DRB1:13:12:P113 |  0.20421001 | -0.16705636 | -0.42953515 |  0.57307001 |  0.030652960 | -0.64209477 |  0.14593206 | -0.72276691 | ⋯ | -0.027056046 | -0.009474266 |  0.0148949435 | -0.021221340 | -0.004339928 |  0.015587497 | -0.0359386456 | -0.0061768543 | -0.0007301164 | allele_Rallele_S |\n",
       "| H102 | DRB1:13:12:P113 |  0.57922856 | -0.88690496 |  1.56721024 | -1.55836511 |  0.283498143 |  1.54103177 | -0.04370384 | -0.99878672 | ⋯ | -0.026334089 | -0.015815421 |  0.0198324257 |  0.009153323 | -0.006428599 |  0.017137351 | -0.0401447019 | -0.0076326677 |  0.0015133883 | allele_Sallele_G |\n",
       "| H103 | DRB1:13:12:P113 | -0.72276691 | -0.54561911 |  0.94646279 | -0.34239992 | -0.942388532 | -0.55776755 |  0.84143540 | -0.30802341 | ⋯ | -0.023841642 |  0.023411343 |  0.0111188053 |  0.025952859 |  0.029771182 | -0.003477018 | -0.0042996923 | -0.0179570482 | -0.0004667786 | allele_Yallele_H |\n",
       "| H104 | DRB1:13:12:P113 |  0.44676212 |  1.33590084 | -0.80123281 | -0.37298833 |  0.475774313 |  0.09469417 | -1.81711993 |  0.84143540 | ⋯ | -0.031151461 |  0.041885793 | -0.0095821616 |  0.031837422 | -0.016874565 | -0.001633081 | -0.0033757865 | -0.0140596194 |  0.0207020647 | allele_Sallele_S |\n",
       "| H105 | DRB1:13:12:P113 | -0.81025442 | -1.54103177 | -0.58540916 | -0.83957871 |  0.360434310 | -0.30802341 | -0.18162211 |  0.39404423 | ⋯ | -0.018733767 |  0.017177212 | -0.0244145564 |  0.012371418 | -0.025487335 |  0.008786448 | -0.0312218685 | -0.0214745960 |  0.0501780332 | allele_Rallele_S |\n",
       "| H106 | DRB1:13:12:P113 |  1.51999606 | -0.42382129 |  1.23185814 | -0.54108422 |  1.817119933 | -0.12881681 | -0.18029641 | -0.79585103 | ⋯ | -0.021027381 |  0.010608030 | -0.0337549498 |  0.015030587 |  0.007780790 | -0.038809197 |  0.0005171268 | -0.0202935044 | -0.0201234071 | allele_Yallele_S |\n",
       "| H107 | DRB1:13:12:P113 |  0.92025376 |  1.90552579 | -0.67285337 |  0.37159057 | -0.566933114 |  1.51176706 | -0.64209477 | -0.99023278 | ⋯ | -0.014485738 | -0.044398293 | -0.0020457379 |  0.013474322 |  0.052428473 |  0.013235421 | -0.0017188954 |  0.0131618427 | -0.0031924663 | allele_Yallele_G |\n",
       "| H108 | DRB1:13:12:P113 |  0.20953956 | -0.03326265 | -0.62297850 | -0.32310185 | -0.169701954 | -0.42096955 |  0.20287854 |  0.16573400 | ⋯ | -0.009062120 | -0.007400295 | -0.0136101758 | -0.037264161 | -0.010869506 | -0.064237970 |  0.0108188410 | -0.0217747702 | -0.0284660246 | allele_Gallele_H |\n",
       "| H109 | DRB1:13:12:P113 |  0.34793684 |  0.45108945 | -1.46823816 | -0.03456757 |  0.685995540 |  0.23493912 | -1.40598207 |  0.70593441 | ⋯ | -0.014460066 |  0.010826559 |  0.0049987079 |  0.004247617 | -0.009451403 | -0.038182036 | -0.0043423633 | -0.0203019292 | -0.0101325325 | allele_Sallele_H |\n",
       "| H11  | DRB1:13:12:P113 |  0.06198809 |  0.98810559 | -0.45687242 | -1.25445294 |  0.004564635 | -0.78693223 |  0.63250774 |  1.14971774 | ⋯ | -0.024464380 | -0.011885441 |  0.0042098307 |  0.007631218 |  0.037332111 |  0.018841082 |  0.0115663290 | -0.0398190066 | -0.0373932979 | allele_Yallele_F |\n",
       "| H110 | DRB1:13:12:P113 |  0.04892615 | -0.79406222 |  1.71771794 | -1.05627439 |  1.159879636 | -1.71204347 | -1.18846210 |  0.15384553 | ⋯ | -0.012273326 | -0.035989444 | -0.0030807273 |  0.006803924 |  0.035510082 |  0.012047062 | -0.0319399701 | -0.0080545948 |  0.0058784984 | allele_Yallele_F |\n",
       "| H111 | DRB1:13:12:P113 | -0.10911492 | -0.47869727 |  0.60878962 | -0.55929188 | -0.361826364 | -0.66307257 | -1.08402012 | -0.67776795 | ⋯ | -0.006687682 |  0.001490794 | -0.0382776914 |  0.001991865 | -0.016589093 | -0.033322885 |  0.0058257786 | -0.0165095181 | -0.0056081127 | allele_Sallele_G |\n",
       "| H112 | DRB1:13:12:P113 |  0.48602267 | -1.35524915 |  1.20716833 | -0.64851900 |  2.021924201 | -1.23464810 | -0.01499860 | -2.07505681 | ⋯ | -0.022423670 | -0.011532601 |  0.0142453115 |  0.014022921 |  0.011605667 |  0.003729956 | -0.0051209895 |  0.0073503241 | -0.0005158788 | allele_Sallele_S |\n",
       "| H113 | DRB1:13:12:P113 | -0.68929959 |  0.47431436 |  1.09821096 | -0.25240452 |  0.958780976 |  0.28757347 | -1.47594605 |  0.87728292 | ⋯ | -0.030032434 | -0.004310435 | -0.0189287960 |  0.033221868 | -0.018785053 |  0.012890811 | -0.0153629603 |  0.0321646308 | -0.0235156126 | allele_Sallele_S |\n",
       "| H114 | DRB1:13:12:P113 |  0.77454999 | -0.42239499 |  0.12618717 |  0.83587397 | -1.317040104 |  0.96291949 |  0.42096955 | -1.11020785 | ⋯ | -0.030775752 | -0.010167778 |  0.0184566695 | -0.010267238 | -0.012774290 |  0.008994173 | -0.0326565966 |  0.0072047272 |  0.0359367253 | allele_Rallele_H |\n",
       "| H115 | DRB1:13:12:P113 |  0.90443492 |  0.78338220 | -1.67910206 |  0.40110140 |  0.910340284 | -0.30939124 |  0.03065296 |  1.07700591 | ⋯ | -0.032012652 |  0.005348610 |  0.0171945280 |  0.018424914 |  0.024817633 |  0.009267644 |  0.0126431288 | -0.0333226318 | -0.0334356944 | allele_Yallele_F |\n",
       "| H116 | DRB1:13:12:P113 |  0.91826385 |  0.41527630 | -0.35487304 |  0.23493912 |  0.746682985 |  0.84143540 | -0.01108573 | -0.18825549 | ⋯ | -0.024327324 | -0.011724336 | -0.0269325057 |  0.034587606 |  0.064035821 |  0.004655768 | -0.0016626667 | -0.0017319923 | -0.0039494840 | allele_Yallele_Y |\n",
       "| H117 | DRB1:13:12:P113 |  0.05153780 |  0.19489715 |  0.76752750 | -1.97395292 |  0.214875067 | -0.94035726 | -0.19622651 |  1.15987964 | ⋯ | -0.013045039 | -0.028263827 | -0.0298034756 |  0.007118301 | -0.023256533 |  0.031869912 |  0.0452764200 |  0.0224166543 |  0.0077569035 | allele_Rallele_S |\n",
       "| H118 | DRB1:13:12:P113 |  0.89856093 | -0.94850583 | -0.39827615 |  0.59472227 | -0.684346321 | -0.52904506 | -0.27807168 | -0.05676217 | ⋯ | -0.017070334 |  0.016549115 |  0.0037452452 | -0.012281863 | -0.006565051 |  0.013944748 |  0.0299115687 |  0.0261443199 |  0.0229110909 | allele_Rallele_S |\n",
       "| H119 | DRB1:13:12:P113 | -1.44562276 | -0.06852288 |  1.28362959 |  1.63783166 | -0.299828451 | -0.34378316 |  0.07113760 | -0.26589175 | ⋯ | -0.011492776 | -0.028882628 |  0.0039624749 | -0.005063495 | -0.016969784 |  0.007305539 | -0.0349177245 | -0.0191994697 |  0.0353536957 | allele_Sallele_G |\n",
       "| H12  | DRB1:13:12:P113 | -1.09821096 |  1.17795703 |  0.33135731 |  1.07933808 | -0.484555515 | -1.39554619 | -0.57460760 |  0.02412962 | ⋯ | -0.029145275 | -0.009756240 |  0.0122821267 | -0.025170941 | -0.012688121 | -0.028652839 |  0.0125018753 | -0.0223808963 | -0.0454544425 | allele_Hallele_F |\n",
       "| H120 | DRB1:13:12:P113 | -0.77984202 |  0.06590863 | -0.70259193 | -0.17367258 |  0.159126515 | -0.36043431 | -0.53204760 | -0.89466210 | ⋯ | -0.024627994 | -0.016173565 | -0.0033433484 |  0.022565085 |  0.046481318 |  0.006900947 | -0.0037846685 |  0.0013242265 |  0.0018603097 | allele_Yallele_S |\n",
       "| H121 | DRB1:13:12:P113 | -1.22079298 | -0.98175069 |  0.43526307 | -1.08872604 |  1.049463990 | -1.53677003 | -1.04495063 |  1.47594605 | ⋯ | -0.026748998 | -0.009365023 |  0.0067586961 | -0.034894413 | -0.013565247 |  0.036294731 |  0.0395841342 | -0.0382159208 | -0.0535677340 | allele_Fallele_F |\n",
       "| H122 | DRB1:13:12:P113 | -0.69593039 |  0.80663790 |  0.22957979 |  0.90051547 | -0.065908627 | -0.29982845 | -0.43813238 |  0.13539486 | ⋯ | -0.027379080 | -0.012432657 |  0.0111285957 | -0.020018112 | -0.013528042 |  0.014795201 |  0.0175254827 |  0.0029123108 |  0.0065228977 | allele_Sallele_S |\n",
       "| H123 | DRB1:13:12:P113 |  0.41101519 | -1.18057109 | -0.09338421 | -0.14856884 |  0.551683155 | -1.02049830 | -1.63783166 |  1.71204347 | ⋯ | -0.009371735 | -0.008112305 | -0.0562775749 |  0.015681826 |  0.027374625 |  0.017191518 | -0.0404720245 | -0.0133560891 |  0.0011018593 | allele_Yallele_S |\n",
       "| H124 | DRB1:13:12:P113 |  0.10386854 | -0.42096955 | -0.47723528 |  1.10059767 |  0.415276304 | -1.31085621 | -1.86690631 | -0.56234443 | ⋯ | -0.026614685 |  0.007795373 |  0.0173070162 | -0.042438793 |  0.011828737 |  0.000787294 | -0.0050500292 |  0.0632271762 |  0.0011525514 | allele_Rallele_S |\n",
       "| ⋮ | ⋮ | ⋮ | ⋮ | ⋮ | ⋮ | ⋮ | ⋮ | ⋮ | ⋮ | ⋱ | ⋮ | ⋮ | ⋮ | ⋮ | ⋮ | ⋮ | ⋮ | ⋮ | ⋮ | ⋮ |\n",
       "| I970 | DRB1:13:12:P113 | -0.22422704 |  1.22630679 | -0.13934448 | -0.29982845 |  1.3684353 | -0.53957507 |  0.48162433 | -0.4568724 | ⋯ | -0.0314449954 | -0.0135062894 | -0.017267002 |  0.0211993269 | -0.026280287 | -3.845840e-02 | -0.0050699433 |  0.011169710 | -0.015709580 | allele_Sallele_S |\n",
       "| I972 | DRB1:13:12:P113 |  1.00309121 | -1.85220886 |  0.58231608 | -0.50519267 | -0.5638727 | -0.02021612 | -0.57307001 | -1.1497177 | ⋯ | -0.0172389831 |  0.0137901023 |  0.004356287 | -0.0116809134 | -0.009128329 | -3.367018e-02 | -0.0035981408 | -0.004265424 | -0.001120610 | allele_Rallele_S |\n",
       "| I973 | DRB1:13:12:P113 | -1.21259119 | -1.62793824 | -0.14461404 |  0.25240452 |  0.2329286 |  0.68599554 |  0.31761046 |  1.5076907 | ⋯ | -0.0155894782 | -0.0409187627 | -0.006274061 | -0.0065695090 | -0.025151414 | -2.407127e-02 |  0.0396854637 | -0.003758311 |  0.036875888 | allele_Sallele_G |\n",
       "| I974 | DRB1:13:12:P113 |  0.08945529 |  1.18319324 | -0.16309016 |  0.52904506 | -0.3286030 | -0.33825412 |  0.86964339 |  0.9322707 | ⋯ | -0.0216908127 |  0.0168054906 | -0.002515913 | -0.0278126555 | -0.014058149 |  1.501099e-02 |  0.0415204268 | -0.025359950 |  0.031558593 | allele_Rallele_S |\n",
       "| I975 | DRB1:13:12:P113 |  0.79764239 | -0.75706412 | -1.21804994 | -0.61508050 | -0.5395751 |  0.68105345 |  0.31349820 |  1.1701627 | ⋯ | -0.0109860518 |  0.0051666905 | -0.024694974 | -0.0654643542 |  0.025297898 | -2.347610e-02 | -0.0009528766 |  0.029581159 | -0.011613975 | allele_Sallele_S |\n",
       "| I976 | DRB1:13:12:P113 | -0.58850785 | -0.50667491 | -0.71769584 |  1.45307881 | -0.7588022 | -0.40392985 | -1.25445294 |  1.3990079 | ⋯ | -0.0191944587 |  0.0146545709 | -0.008501125 | -0.0350395952 |  0.027433421 | -3.424234e-02 |  0.0063528965 | -0.014215089 | -0.008405460 | allele_Yallele_S |\n",
       "| I977 | DRB1:13:12:P113 |  0.08683678 | -0.06721570 | -0.08814596 |  1.43824622 | -0.3884126 |  0.18029641 |  0.19356814 | -1.0183055 | ⋯ | -0.0057625802 | -0.0047885600 | -0.038428498 |  0.0169892013 |  0.041949975 |  2.331499e-03 | -0.0041503119 | -0.008529043 |  0.002238608 | allele_Yallele_S |\n",
       "| I978 | DRB1:13:12:P113 |  1.48374263 | -1.69534282 |  1.41302531 |  0.21220656 | -0.7176958 |  0.36043431 | -1.19642780 | -2.2338298 | ⋯ | -0.0235905585 |  0.0187046538 | -0.054400761 |  0.0249319674 | -0.036073381 |  1.553872e-02 | -0.0396875138 |  0.001166159 |  0.019558795 | allele_Sallele_S |\n",
       "| I979 | DRB1:13:12:P113 |  0.23225862 | -1.59917611 |  0.25779376 |  0.44964607 | -0.8303383 |  0.08421887 |  1.12481845 | -0.2429908 | ⋯ | -0.0151015856 | -0.0409883205 | -0.007567995 | -0.0168516539 | -0.022570399 | -1.337178e-02 |  0.0450429326 | -0.018608108 | -0.025322821 | allele_Rallele_F |\n",
       "| I98  | DRB1:13:12:P113 |  0.51708209 |  0.72446140 | -0.64049285 |  0.26454089 |  0.1763212 | -0.47577431 |  0.16970195 | -0.9044349 | ⋯ | -0.0230521439 | -0.0116342694 |  0.003356429 |  0.0208330237 |  0.052031809 |  2.285700e-03 |  0.0014421170 | -0.020136379 |  0.024753195 | allele_Yallele_H |\n",
       "| I980 | DRB1:13:12:P113 |  0.15912651 | -0.47723528 | -0.59161220 |  1.46441671 | -2.1222239 |  0.07898476 | -0.41243473 |  0.3382541 | ⋯ | -0.0153686232 | -0.0319419166 | -0.029353633 |  0.0126003501 |  0.004632893 |  2.212677e-02 | -0.0339269293 |  0.008247850 | -0.005637941 | allele_Rallele_H |\n",
       "| I982 | DRB1:13:12:P113 |  1.84500769 |  1.84500769 | -1.46441671 | -0.63410152 |  1.6279382 | -0.60722067 |  1.81036416 |  1.4273260 | ⋯ | -0.0080699046 | -0.0165381219 | -0.023742809 |  0.0027542560 |  0.035188115 |  1.852236e-02 |  0.0522529136 | -0.022476688 |  0.029522510 | allele_Yallele_Y |\n",
       "| I983 | DRB1:13:12:P113 |  0.59939818 | -1.39554619 |  0.48455552 | -0.42239499 | -0.8084448 |  0.80303190 |  0.16309016 | -0.7143254 | ⋯ | -0.0042951177 | -0.0001343792 | -0.039854263 |  0.0123682692 |  0.008657832 |  7.803393e-03 | -0.0091750507 |  0.011631717 | -0.003206414 | allele_Sallele_S |\n",
       "| I984 | DRB1:13:12:P113 | -0.52380204 | -1.27770700 | -0.57614655 |  0.88304633 | -0.4067615 | -0.04370384 | -0.75706412 |  1.1248185 | ⋯ | -0.0318955597 |  0.0070716805 |  0.028248998 |  0.0233120809 | -0.008692658 |  6.489871e-05 |  0.0039930235 | -0.002174767 |  0.021512297 | allele_Sallele_F |\n",
       "| I985 | DRB1:13:12:P113 |  0.94850583 |  0.68105345 |  0.44820363 | -1.11992168 |  1.1371800 | -0.48749087 |  0.35487304 | -0.2015474 | ⋯ | -0.0268686219 | -0.0157467354 |  0.014699326 |  0.0028008872 | -0.018534860 | -3.230513e-02 |  0.0121653419 | -0.020692769 | -0.040596726 | allele_Hallele_F |\n",
       "| I986 | DRB1:13:12:P113 |  0.38139033 | -1.72344827 |  0.39122686 |  0.07113760 | -0.9222473 | -0.42810538 | -0.30255784 |  0.3286030 | ⋯ | -0.0276509421 | -0.0340248199 |  0.020688841 |  0.0091481925 | -0.018701565 | -2.908857e-02 |  0.0007886939 |  0.001421668 |  0.005549198 | allele_Sallele_G |\n",
       "| I987 | DRB1:13:12:P113 |  0.83772490 |  0.97543519 | -0.29301469 |  0.06068145 | -0.2889330 |  0.97543519 |  1.86690631 | -0.3465516 | ⋯ | -0.0219677284 |  0.0170758486 | -0.020863219 |  0.0140002508 | -0.027357134 |  8.141566e-03 | -0.0342146325 | -0.023889711 |  0.020054171 | allele_Sallele_H |\n",
       "| I988 | DRB1:13:12:P113 |  2.16097604 |  0.53505495 | -2.40598261 | -0.98386458 | -0.3176105 |  0.27807168 |  1.46441671 |  0.9546588 | ⋯ | -0.0333336045 |  0.0159416717 |  0.025632210 | -0.0066075109 |  0.001903312 |  5.320158e-03 |  0.0059378232 | -0.001815550 | -0.024799721 | allele_Sallele_G |\n",
       "| I989 | DRB1:13:12:P113 | -0.61036008 |  0.38700663 |  0.71769584 | -1.82395968 |  1.4720812 |  1.08402012 |  0.46121969 |  2.2839830 | ⋯ | -0.0131409474 |  0.0120151766 |  0.008707146 |  0.0024927388 | -0.009357990 |  8.890599e-03 | -0.0308048467 | -0.021304329 |  0.012577791 | allele_Rallele_R |\n",
       "| I99  | DRB1:13:12:P113 | -0.63809305 |  0.27671635 |  0.56387267 | -0.18029641 | -0.1235584 | -1.53253601 | -0.32172810 |  1.0095830 | ⋯ | -0.0256875265 | -0.0101996211 |  0.006000543 | -0.0121110533 | -0.019520432 |  3.329722e-02 |  0.0472007809 | -0.053468525 | -0.025931551 | allele_Fallele_F |\n",
       "| I990 | DRB1:13:12:P113 | -0.04762045 | -0.09338421 |  0.81569917 |  0.10911492 |  0.7432405 |  0.26724309 |  0.65820591 | -1.3077830 | ⋯ |  0.0002043111 | -0.0023538222 | -0.010979951 |  0.0019295142 |  0.011540298 |  9.919356e-03 | -0.0021174063 |  0.002970211 |  0.002232743 | allele_Rallele_S |\n",
       "| I991 | DRB1:13:12:P113 | -0.36182636 |  0.02412962 |  1.67910206 |  0.34655162 |  1.2044702 |  0.64851900 | -0.46557568 | -1.1471957 | ⋯ | -0.0288395743 | -0.0097608023 |  0.017935904 | -0.0103243074 | -0.012776428 |  8.904422e-03 | -0.0327008605 |  0.007125617 |  0.033204542 | allele_Gallele_H |\n",
       "| I992 | DRB1:13:12:P113 |  0.50815827 | -0.33549348 |  0.41527630 |  0.13144735 | -1.1029907 |  0.67285337 |  0.54410624 | -0.2618406 | ⋯ | -0.0224641049 | -0.0098034820 |  0.016809169 |  0.0053230738 | -0.012970858 |  1.027619e-02 | -0.0304203389 | -0.025060760 |  0.024686616 | allele_Rallele_F |\n",
       "| I993 | DRB1:13:12:P113 |  0.75706412 |  1.33272438 | -0.40676153 | -0.48749087 |  0.1353949 |  0.21087287 |  0.70259193 | -1.1727529 | ⋯ | -0.0151342104 |  0.0124274364 |  0.001118354 |  0.0022569137 | -0.011847507 |  8.241402e-03 |  0.0287462906 | -0.028837144 |  0.054589647 | allele_Gallele_G |\n",
       "| I994 | DRB1:13:12:P113 |  2.28398302 | -0.50075258 | -2.00218025 | -0.49337424 | -1.5945091 |  2.18873612 |  2.43024908 | -0.3327354 | ⋯ | -0.0243013020 |  0.0346950619 |  0.020557477 |  0.0157583943 | -0.001704034 |  1.068944e-03 |  0.0045700781 | -0.021362165 | -0.013635255 | allele_Rallele_R |\n",
       "| I995 | DRB1:13:12:P113 | -1.30778298 |  0.29029300 |  0.83587397 |  1.06543187 | -0.0397879 | -0.54410624 |  2.23382976 |  0.3618264 | ⋯ | -0.0152564223 |  0.0111088319 |  0.005882725 |  0.0010329898 | -0.009267594 |  4.735645e-03 | -0.0372712970 | -0.022960925 |  0.013950796 | allele_Sallele_F |\n",
       "| I996 | DRB1:13:12:P113 | -1.39900790 | -0.56387267 |  0.67612794 |  0.74668299 |  0.1222443 |  1.42013935 |  0.10649136 |  0.5776869 | ⋯ | -0.0229690960 | -0.0111106698 |  0.015055627 | -0.0005467249 | -0.014009592 |  2.366375e-02 | -0.0247778399 | -0.031648570 | -0.028074345 | allele_Hallele_F |\n",
       "| I997 | DRB1:13:12:P113 |  0.23091900 | -1.95597362 |  1.22630679 | -2.32091627 | -1.0009366 |  0.04370384 |  0.91034028 |  1.5036392 | ⋯ | -0.0142753612 | -0.0248935114 | -0.007179424 | -0.0261156389 | -0.017419659 |  3.112580e-02 |  0.0570768618 |  0.005629706 |  0.025494709 | allele_Sallele_F |\n",
       "| I998 | DRB1:13:12:P113 |  1.04495063 | -1.31704010 | -1.80369001 |  1.61339034 |  1.7064236 | -1.85950737 | -0.02673882 |  0.7588022 | ⋯ | -0.0198780871 | -0.0297285423 | -0.003961742 | -0.0543551048 | -0.006149638 |  3.109768e-02 | -0.0030260698 |  0.027173791 |  0.021149097 | allele_Sallele_G |\n",
       "| I999 | DRB1:13:12:P113 | -1.02710623 | -1.98318728 |  2.82809285 | -2.61798948 | -3.4700862 |  2.48356980 |  3.16312106 | -0.7076086 | ⋯ | -0.0341850144 | -0.0054376781 | -0.019715693 |  0.0038352918 | -0.025877144 |  1.868841e-02 |  0.0278059568 |  0.049461065 |  0.037331032 | allele_Rallele_S |\n",
       "\n"
      ],
      "text/plain": [
       "     patient_id pair            L           F           G           S          \n",
       "1    H0         DRB1:13:12:P113  2.26662553  1.48374263 -1.33272438 -1.04720465\n",
       "2    H1         DRB1:13:12:P113  0.95465882 -0.27942752 -0.15120666  0.82666190\n",
       "3    H10        DRB1:13:12:P113  0.25644576 -1.07933808  0.63889257  0.20421001\n",
       "4    H100       DRB1:13:12:P113  0.03195778  1.00093664 -1.58071241 -0.29165357\n",
       "5    H101       DRB1:13:12:P113  0.20421001 -0.16705636 -0.42953515  0.57307001\n",
       "6    H102       DRB1:13:12:P113  0.57922856 -0.88690496  1.56721024 -1.55836511\n",
       "7    H103       DRB1:13:12:P113 -0.72276691 -0.54561911  0.94646279 -0.34239992\n",
       "8    H104       DRB1:13:12:P113  0.44676212  1.33590084 -0.80123281 -0.37298833\n",
       "9    H105       DRB1:13:12:P113 -0.81025442 -1.54103177 -0.58540916 -0.83957871\n",
       "10   H106       DRB1:13:12:P113  1.51999606 -0.42382129  1.23185814 -0.54108422\n",
       "11   H107       DRB1:13:12:P113  0.92025376  1.90552579 -0.67285337  0.37159057\n",
       "12   H108       DRB1:13:12:P113  0.20953956 -0.03326265 -0.62297850 -0.32310185\n",
       "13   H109       DRB1:13:12:P113  0.34793684  0.45108945 -1.46823816 -0.03456757\n",
       "14   H11        DRB1:13:12:P113  0.06198809  0.98810559 -0.45687242 -1.25445294\n",
       "15   H110       DRB1:13:12:P113  0.04892615 -0.79406222  1.71771794 -1.05627439\n",
       "16   H111       DRB1:13:12:P113 -0.10911492 -0.47869727  0.60878962 -0.55929188\n",
       "17   H112       DRB1:13:12:P113  0.48602267 -1.35524915  1.20716833 -0.64851900\n",
       "18   H113       DRB1:13:12:P113 -0.68929959  0.47431436  1.09821096 -0.25240452\n",
       "19   H114       DRB1:13:12:P113  0.77454999 -0.42239499  0.12618717  0.83587397\n",
       "20   H115       DRB1:13:12:P113  0.90443492  0.78338220 -1.67910206  0.40110140\n",
       "21   H116       DRB1:13:12:P113  0.91826385  0.41527630 -0.35487304  0.23493912\n",
       "22   H117       DRB1:13:12:P113  0.05153780  0.19489715  0.76752750 -1.97395292\n",
       "23   H118       DRB1:13:12:P113  0.89856093 -0.94850583 -0.39827615  0.59472227\n",
       "24   H119       DRB1:13:12:P113 -1.44562276 -0.06852288  1.28362959  1.63783166\n",
       "25   H12        DRB1:13:12:P113 -1.09821096  1.17795703  0.33135731  1.07933808\n",
       "26   H120       DRB1:13:12:P113 -0.77984202  0.06590863 -0.70259193 -0.17367258\n",
       "27   H121       DRB1:13:12:P113 -1.22079298 -0.98175069  0.43526307 -1.08872604\n",
       "28   H122       DRB1:13:12:P113 -0.69593039  0.80663790  0.22957979  0.90051547\n",
       "29   H123       DRB1:13:12:P113  0.41101519 -1.18057109 -0.09338421 -0.14856884\n",
       "30   H124       DRB1:13:12:P113  0.10386854 -0.42096955 -0.47723528  1.10059767\n",
       "⋮    ⋮          ⋮               ⋮           ⋮           ⋮           ⋮          \n",
       "1869 I970       DRB1:13:12:P113 -0.22422704  1.22630679 -0.13934448 -0.29982845\n",
       "1870 I972       DRB1:13:12:P113  1.00309121 -1.85220886  0.58231608 -0.50519267\n",
       "1871 I973       DRB1:13:12:P113 -1.21259119 -1.62793824 -0.14461404  0.25240452\n",
       "1872 I974       DRB1:13:12:P113  0.08945529  1.18319324 -0.16309016  0.52904506\n",
       "1873 I975       DRB1:13:12:P113  0.79764239 -0.75706412 -1.21804994 -0.61508050\n",
       "1874 I976       DRB1:13:12:P113 -0.58850785 -0.50667491 -0.71769584  1.45307881\n",
       "1875 I977       DRB1:13:12:P113  0.08683678 -0.06721570 -0.08814596  1.43824622\n",
       "1876 I978       DRB1:13:12:P113  1.48374263 -1.69534282  1.41302531  0.21220656\n",
       "1877 I979       DRB1:13:12:P113  0.23225862 -1.59917611  0.25779376  0.44964607\n",
       "1878 I98        DRB1:13:12:P113  0.51708209  0.72446140 -0.64049285  0.26454089\n",
       "1879 I980       DRB1:13:12:P113  0.15912651 -0.47723528 -0.59161220  1.46441671\n",
       "1880 I982       DRB1:13:12:P113  1.84500769  1.84500769 -1.46441671 -0.63410152\n",
       "1881 I983       DRB1:13:12:P113  0.59939818 -1.39554619  0.48455552 -0.42239499\n",
       "1882 I984       DRB1:13:12:P113 -0.52380204 -1.27770700 -0.57614655  0.88304633\n",
       "1883 I985       DRB1:13:12:P113  0.94850583  0.68105345  0.44820363 -1.11992168\n",
       "1884 I986       DRB1:13:12:P113  0.38139033 -1.72344827  0.39122686  0.07113760\n",
       "1885 I987       DRB1:13:12:P113  0.83772490  0.97543519 -0.29301469  0.06068145\n",
       "1886 I988       DRB1:13:12:P113  2.16097604  0.53505495 -2.40598261 -0.98386458\n",
       "1887 I989       DRB1:13:12:P113 -0.61036008  0.38700663  0.71769584 -1.82395968\n",
       "1888 I99        DRB1:13:12:P113 -0.63809305  0.27671635  0.56387267 -0.18029641\n",
       "1889 I990       DRB1:13:12:P113 -0.04762045 -0.09338421  0.81569917  0.10911492\n",
       "1890 I991       DRB1:13:12:P113 -0.36182636  0.02412962  1.67910206  0.34655162\n",
       "1891 I992       DRB1:13:12:P113  0.50815827 -0.33549348  0.41527630  0.13144735\n",
       "1892 I993       DRB1:13:12:P113  0.75706412  1.33272438 -0.40676153 -0.48749087\n",
       "1893 I994       DRB1:13:12:P113  2.28398302 -0.50075258 -2.00218025 -0.49337424\n",
       "1894 I995       DRB1:13:12:P113 -1.30778298  0.29029300  0.83587397  1.06543187\n",
       "1895 I996       DRB1:13:12:P113 -1.39900790 -0.56387267  0.67612794  0.74668299\n",
       "1896 I997       DRB1:13:12:P113  0.23091900 -1.95597362  1.22630679 -2.32091627\n",
       "1897 I998       DRB1:13:12:P113  1.04495063 -1.31704010 -1.80369001  1.61339034\n",
       "1898 I999       DRB1:13:12:P113 -1.02710623 -1.98318728  2.82809285 -2.61798948\n",
       "     Y            A           P           R           ⋯ PC1          \n",
       "1    -0.894662105  1.07933808  1.29863658  0.07898476 ⋯ -0.028780271 \n",
       "2    -1.196427804  1.07004428  0.10780305 -0.20953956 ⋯ -0.020513447 \n",
       "3    -1.385260115  0.37998815 -0.70928479 -0.63410152 ⋯ -0.021797512 \n",
       "4     1.771468476  1.11020785 -1.08637007 -0.07113760 ⋯ -0.004942368 \n",
       "5     0.030652960 -0.64209477  0.14593206 -0.72276691 ⋯ -0.027056046 \n",
       "6     0.283498143  1.54103177 -0.04370384 -0.99878672 ⋯ -0.026334089 \n",
       "7    -0.942388532 -0.55776755  0.84143540 -0.30802341 ⋯ -0.023841642 \n",
       "8     0.475774313  0.09469417 -1.81711993  0.84143540 ⋯ -0.031151461 \n",
       "9     0.360434310 -0.30802341 -0.18162211  0.39404423 ⋯ -0.018733767 \n",
       "10    1.817119933 -0.12881681 -0.18029641 -0.79585103 ⋯ -0.021027381 \n",
       "11   -0.566933114  1.51176706 -0.64209477 -0.99023278 ⋯ -0.014485738 \n",
       "12   -0.169701954 -0.42096955  0.20287854  0.16573400 ⋯ -0.009062120 \n",
       "13    0.685995540  0.23493912 -1.40598207  0.70593441 ⋯ -0.014460066 \n",
       "14    0.004564635 -0.78693223  0.63250774  1.14971774 ⋯ -0.024464380 \n",
       "15    1.159879636 -1.71204347 -1.18846210  0.15384553 ⋯ -0.012273326 \n",
       "16   -0.361826364 -0.66307257 -1.08402012 -0.67776795 ⋯ -0.006687682 \n",
       "17    2.021924201 -1.23464810 -0.01499860 -2.07505681 ⋯ -0.022423670 \n",
       "18    0.958780976  0.28757347 -1.47594605  0.87728292 ⋯ -0.030032434 \n",
       "19   -1.317040104  0.96291949  0.42096955 -1.11020785 ⋯ -0.030775752 \n",
       "20    0.910340284 -0.30939124  0.03065296  1.07700591 ⋯ -0.032012652 \n",
       "21    0.746682985  0.84143540 -0.01108573 -0.18825549 ⋯ -0.024327324 \n",
       "22    0.214875067 -0.94035726 -0.19622651  1.15987964 ⋯ -0.013045039 \n",
       "23   -0.684346321 -0.52904506 -0.27807168 -0.05676217 ⋯ -0.017070334 \n",
       "24   -0.299828451 -0.34378316  0.07113760 -0.26589175 ⋯ -0.011492776 \n",
       "25   -0.484555515 -1.39554619 -0.57460760  0.02412962 ⋯ -0.029145275 \n",
       "26    0.159126515 -0.36043431 -0.53204760 -0.89466210 ⋯ -0.024627994 \n",
       "27    1.049463990 -1.53677003 -1.04495063  1.47594605 ⋯ -0.026748998 \n",
       "28   -0.065908627 -0.29982845 -0.43813238  0.13539486 ⋯ -0.027379080 \n",
       "29    0.551683155 -1.02049830 -1.63783166  1.71204347 ⋯ -0.009371735 \n",
       "30    0.415276304 -1.31085621 -1.86690631 -0.56234443 ⋯ -0.026614685 \n",
       "⋮    ⋮            ⋮           ⋮           ⋮           ⋱ ⋮            \n",
       "1869  1.3684353   -0.53957507  0.48162433 -0.4568724  ⋯ -0.0314449954\n",
       "1870 -0.5638727   -0.02021612 -0.57307001 -1.1497177  ⋯ -0.0172389831\n",
       "1871  0.2329286    0.68599554  0.31761046  1.5076907  ⋯ -0.0155894782\n",
       "1872 -0.3286030   -0.33825412  0.86964339  0.9322707  ⋯ -0.0216908127\n",
       "1873 -0.5395751    0.68105345  0.31349820  1.1701627  ⋯ -0.0109860518\n",
       "1874 -0.7588022   -0.40392985 -1.25445294  1.3990079  ⋯ -0.0191944587\n",
       "1875 -0.3884126    0.18029641  0.19356814 -1.0183055  ⋯ -0.0057625802\n",
       "1876 -0.7176958    0.36043431 -1.19642780 -2.2338298  ⋯ -0.0235905585\n",
       "1877 -0.8303383    0.08421887  1.12481845 -0.2429908  ⋯ -0.0151015856\n",
       "1878  0.1763212   -0.47577431  0.16970195 -0.9044349  ⋯ -0.0230521439\n",
       "1879 -2.1222239    0.07898476 -0.41243473  0.3382541  ⋯ -0.0153686232\n",
       "1880  1.6279382   -0.60722067  1.81036416  1.4273260  ⋯ -0.0080699046\n",
       "1881 -0.8084448    0.80303190  0.16309016 -0.7143254  ⋯ -0.0042951177\n",
       "1882 -0.4067615   -0.04370384 -0.75706412  1.1248185  ⋯ -0.0318955597\n",
       "1883  1.1371800   -0.48749087  0.35487304 -0.2015474  ⋯ -0.0268686219\n",
       "1884 -0.9222473   -0.42810538 -0.30255784  0.3286030  ⋯ -0.0276509421\n",
       "1885 -0.2889330    0.97543519  1.86690631 -0.3465516  ⋯ -0.0219677284\n",
       "1886 -0.3176105    0.27807168  1.46441671  0.9546588  ⋯ -0.0333336045\n",
       "1887  1.4720812    1.08402012  0.46121969  2.2839830  ⋯ -0.0131409474\n",
       "1888 -0.1235584   -1.53253601 -0.32172810  1.0095830  ⋯ -0.0256875265\n",
       "1889  0.7432405    0.26724309  0.65820591 -1.3077830  ⋯  0.0002043111\n",
       "1890  1.2044702    0.64851900 -0.46557568 -1.1471957  ⋯ -0.0288395743\n",
       "1891 -1.1029907    0.67285337  0.54410624 -0.2618406  ⋯ -0.0224641049\n",
       "1892  0.1353949    0.21087287  0.70259193 -1.1727529  ⋯ -0.0151342104\n",
       "1893 -1.5945091    2.18873612  2.43024908 -0.3327354  ⋯ -0.0243013020\n",
       "1894 -0.0397879   -0.54410624  2.23382976  0.3618264  ⋯ -0.0152564223\n",
       "1895  0.1222443    1.42013935  0.10649136  0.5776869  ⋯ -0.0229690960\n",
       "1896 -1.0009366    0.04370384  0.91034028  1.5036392  ⋯ -0.0142753612\n",
       "1897  1.7064236   -1.85950737 -0.02673882  0.7588022  ⋯ -0.0198780871\n",
       "1898 -3.4700862    2.48356980  3.16312106 -0.7076086  ⋯ -0.0341850144\n",
       "     PC2           PC3           PC4           PC5          PC6          \n",
       "1     0.040238904  -0.0071729478  0.033242921  -0.010985428  0.001170305 \n",
       "2     0.013880925  -0.0007512883 -0.009227345   0.029113552  0.007404630 \n",
       "3    -0.014022404   0.0125275207  0.008571864  -0.009477230 -0.041021895 \n",
       "4    -0.002447521  -0.0306362403  0.003272312  -0.020144411 -0.033990572 \n",
       "5    -0.009474266   0.0148949435 -0.021221340  -0.004339928  0.015587497 \n",
       "6    -0.015815421   0.0198324257  0.009153323  -0.006428599  0.017137351 \n",
       "7     0.023411343   0.0111188053  0.025952859   0.029771182 -0.003477018 \n",
       "8     0.041885793  -0.0095821616  0.031837422  -0.016874565 -0.001633081 \n",
       "9     0.017177212  -0.0244145564  0.012371418  -0.025487335  0.008786448 \n",
       "10    0.010608030  -0.0337549498  0.015030587   0.007780790 -0.038809197 \n",
       "11   -0.044398293  -0.0020457379  0.013474322   0.052428473  0.013235421 \n",
       "12   -0.007400295  -0.0136101758 -0.037264161  -0.010869506 -0.064237970 \n",
       "13    0.010826559   0.0049987079  0.004247617  -0.009451403 -0.038182036 \n",
       "14   -0.011885441   0.0042098307  0.007631218   0.037332111  0.018841082 \n",
       "15   -0.035989444  -0.0030807273  0.006803924   0.035510082  0.012047062 \n",
       "16    0.001490794  -0.0382776914  0.001991865  -0.016589093 -0.033322885 \n",
       "17   -0.011532601   0.0142453115  0.014022921   0.011605667  0.003729956 \n",
       "18   -0.004310435  -0.0189287960  0.033221868  -0.018785053  0.012890811 \n",
       "19   -0.010167778   0.0184566695 -0.010267238  -0.012774290  0.008994173 \n",
       "20    0.005348610   0.0171945280  0.018424914   0.024817633  0.009267644 \n",
       "21   -0.011724336  -0.0269325057  0.034587606   0.064035821  0.004655768 \n",
       "22   -0.028263827  -0.0298034756  0.007118301  -0.023256533  0.031869912 \n",
       "23    0.016549115   0.0037452452 -0.012281863  -0.006565051  0.013944748 \n",
       "24   -0.028882628   0.0039624749 -0.005063495  -0.016969784  0.007305539 \n",
       "25   -0.009756240   0.0122821267 -0.025170941  -0.012688121 -0.028652839 \n",
       "26   -0.016173565  -0.0033433484  0.022565085   0.046481318  0.006900947 \n",
       "27   -0.009365023   0.0067586961 -0.034894413  -0.013565247  0.036294731 \n",
       "28   -0.012432657   0.0111285957 -0.020018112  -0.013528042  0.014795201 \n",
       "29   -0.008112305  -0.0562775749  0.015681826   0.027374625  0.017191518 \n",
       "30    0.007795373   0.0173070162 -0.042438793   0.011828737  0.000787294 \n",
       "⋮    ⋮             ⋮             ⋮             ⋮            ⋮            \n",
       "1869 -0.0135062894 -0.017267002   0.0211993269 -0.026280287 -3.845840e-02\n",
       "1870  0.0137901023  0.004356287  -0.0116809134 -0.009128329 -3.367018e-02\n",
       "1871 -0.0409187627 -0.006274061  -0.0065695090 -0.025151414 -2.407127e-02\n",
       "1872  0.0168054906 -0.002515913  -0.0278126555 -0.014058149  1.501099e-02\n",
       "1873  0.0051666905 -0.024694974  -0.0654643542  0.025297898 -2.347610e-02\n",
       "1874  0.0146545709 -0.008501125  -0.0350395952  0.027433421 -3.424234e-02\n",
       "1875 -0.0047885600 -0.038428498   0.0169892013  0.041949975  2.331499e-03\n",
       "1876  0.0187046538 -0.054400761   0.0249319674 -0.036073381  1.553872e-02\n",
       "1877 -0.0409883205 -0.007567995  -0.0168516539 -0.022570399 -1.337178e-02\n",
       "1878 -0.0116342694  0.003356429   0.0208330237  0.052031809  2.285700e-03\n",
       "1879 -0.0319419166 -0.029353633   0.0126003501  0.004632893  2.212677e-02\n",
       "1880 -0.0165381219 -0.023742809   0.0027542560  0.035188115  1.852236e-02\n",
       "1881 -0.0001343792 -0.039854263   0.0123682692  0.008657832  7.803393e-03\n",
       "1882  0.0070716805  0.028248998   0.0233120809 -0.008692658  6.489871e-05\n",
       "1883 -0.0157467354  0.014699326   0.0028008872 -0.018534860 -3.230513e-02\n",
       "1884 -0.0340248199  0.020688841   0.0091481925 -0.018701565 -2.908857e-02\n",
       "1885  0.0170758486 -0.020863219   0.0140002508 -0.027357134  8.141566e-03\n",
       "1886  0.0159416717  0.025632210  -0.0066075109  0.001903312  5.320158e-03\n",
       "1887  0.0120151766  0.008707146   0.0024927388 -0.009357990  8.890599e-03\n",
       "1888 -0.0101996211  0.006000543  -0.0121110533 -0.019520432  3.329722e-02\n",
       "1889 -0.0023538222 -0.010979951   0.0019295142  0.011540298  9.919356e-03\n",
       "1890 -0.0097608023  0.017935904  -0.0103243074 -0.012776428  8.904422e-03\n",
       "1891 -0.0098034820  0.016809169   0.0053230738 -0.012970858  1.027619e-02\n",
       "1892  0.0124274364  0.001118354   0.0022569137 -0.011847507  8.241402e-03\n",
       "1893  0.0346950619  0.020557477   0.0157583943 -0.001704034  1.068944e-03\n",
       "1894  0.0111088319  0.005882725   0.0010329898 -0.009267594  4.735645e-03\n",
       "1895 -0.0111106698  0.015055627  -0.0005467249 -0.014009592  2.366375e-02\n",
       "1896 -0.0248935114 -0.007179424  -0.0261156389 -0.017419659  3.112580e-02\n",
       "1897 -0.0297285423 -0.003961742  -0.0543551048 -0.006149638  3.109768e-02\n",
       "1898 -0.0054376781 -0.019715693   0.0038352918 -0.025877144  1.868841e-02\n",
       "     PC7           PC8           PC9           HLA             \n",
       "1    -0.0053977252  0.0032817939 -0.0097599940 allele_Rallele_R\n",
       "2    -0.0370105065 -0.0074489374  0.0137528756 allele_Rallele_Y\n",
       "3    -0.0001910232 -0.0004914357 -0.0071156440 allele_Sallele_S\n",
       "4    -0.0070075715  0.0020702732 -0.0053175130 allele_Sallele_S\n",
       "5    -0.0359386456 -0.0061768543 -0.0007301164 allele_Rallele_S\n",
       "6    -0.0401447019 -0.0076326677  0.0015133883 allele_Sallele_G\n",
       "7    -0.0042996923 -0.0179570482 -0.0004667786 allele_Yallele_H\n",
       "8    -0.0033757865 -0.0140596194  0.0207020647 allele_Sallele_S\n",
       "9    -0.0312218685 -0.0214745960  0.0501780332 allele_Rallele_S\n",
       "10    0.0005171268 -0.0202935044 -0.0201234071 allele_Yallele_S\n",
       "11   -0.0017188954  0.0131618427 -0.0031924663 allele_Yallele_G\n",
       "12    0.0108188410 -0.0217747702 -0.0284660246 allele_Gallele_H\n",
       "13   -0.0043423633 -0.0203019292 -0.0101325325 allele_Sallele_H\n",
       "14    0.0115663290 -0.0398190066 -0.0373932979 allele_Yallele_F\n",
       "15   -0.0319399701 -0.0080545948  0.0058784984 allele_Yallele_F\n",
       "16    0.0058257786 -0.0165095181 -0.0056081127 allele_Sallele_G\n",
       "17   -0.0051209895  0.0073503241 -0.0005158788 allele_Sallele_S\n",
       "18   -0.0153629603  0.0321646308 -0.0235156126 allele_Sallele_S\n",
       "19   -0.0326565966  0.0072047272  0.0359367253 allele_Rallele_H\n",
       "20    0.0126431288 -0.0333226318 -0.0334356944 allele_Yallele_F\n",
       "21   -0.0016626667 -0.0017319923 -0.0039494840 allele_Yallele_Y\n",
       "22    0.0452764200  0.0224166543  0.0077569035 allele_Rallele_S\n",
       "23    0.0299115687  0.0261443199  0.0229110909 allele_Rallele_S\n",
       "24   -0.0349177245 -0.0191994697  0.0353536957 allele_Sallele_G\n",
       "25    0.0125018753 -0.0223808963 -0.0454544425 allele_Hallele_F\n",
       "26   -0.0037846685  0.0013242265  0.0018603097 allele_Yallele_S\n",
       "27    0.0395841342 -0.0382159208 -0.0535677340 allele_Fallele_F\n",
       "28    0.0175254827  0.0029123108  0.0065228977 allele_Sallele_S\n",
       "29   -0.0404720245 -0.0133560891  0.0011018593 allele_Yallele_S\n",
       "30   -0.0050500292  0.0632271762  0.0011525514 allele_Rallele_S\n",
       "⋮    ⋮             ⋮             ⋮             ⋮               \n",
       "1869 -0.0050699433  0.011169710  -0.015709580  allele_Sallele_S\n",
       "1870 -0.0035981408 -0.004265424  -0.001120610  allele_Rallele_S\n",
       "1871  0.0396854637 -0.003758311   0.036875888  allele_Sallele_G\n",
       "1872  0.0415204268 -0.025359950   0.031558593  allele_Rallele_S\n",
       "1873 -0.0009528766  0.029581159  -0.011613975  allele_Sallele_S\n",
       "1874  0.0063528965 -0.014215089  -0.008405460  allele_Yallele_S\n",
       "1875 -0.0041503119 -0.008529043   0.002238608  allele_Yallele_S\n",
       "1876 -0.0396875138  0.001166159   0.019558795  allele_Sallele_S\n",
       "1877  0.0450429326 -0.018608108  -0.025322821  allele_Rallele_F\n",
       "1878  0.0014421170 -0.020136379   0.024753195  allele_Yallele_H\n",
       "1879 -0.0339269293  0.008247850  -0.005637941  allele_Rallele_H\n",
       "1880  0.0522529136 -0.022476688   0.029522510  allele_Yallele_Y\n",
       "1881 -0.0091750507  0.011631717  -0.003206414  allele_Sallele_S\n",
       "1882  0.0039930235 -0.002174767   0.021512297  allele_Sallele_F\n",
       "1883  0.0121653419 -0.020692769  -0.040596726  allele_Hallele_F\n",
       "1884  0.0007886939  0.001421668   0.005549198  allele_Sallele_G\n",
       "1885 -0.0342146325 -0.023889711   0.020054171  allele_Sallele_H\n",
       "1886  0.0059378232 -0.001815550  -0.024799721  allele_Sallele_G\n",
       "1887 -0.0308048467 -0.021304329   0.012577791  allele_Rallele_R\n",
       "1888  0.0472007809 -0.053468525  -0.025931551  allele_Fallele_F\n",
       "1889 -0.0021174063  0.002970211   0.002232743  allele_Rallele_S\n",
       "1890 -0.0327008605  0.007125617   0.033204542  allele_Gallele_H\n",
       "1891 -0.0304203389 -0.025060760   0.024686616  allele_Rallele_F\n",
       "1892  0.0287462906 -0.028837144   0.054589647  allele_Gallele_G\n",
       "1893  0.0045700781 -0.021362165  -0.013635255  allele_Rallele_R\n",
       "1894 -0.0372712970 -0.022960925   0.013950796  allele_Sallele_F\n",
       "1895 -0.0247778399 -0.031648570  -0.028074345  allele_Hallele_F\n",
       "1896  0.0570768618  0.005629706   0.025494709  allele_Sallele_F\n",
       "1897 -0.0030260698  0.027173791   0.021149097  allele_Sallele_G\n",
       "1898  0.0278059568  0.049461065   0.037331032  allele_Rallele_S"
      ]
     },
     "metadata": {},
     "output_type": "display_data"
    }
   ],
   "source": [
    "# Step 2: Group by patient_id and concatenate allele values\n",
    "df_hla <- df_long %>%\n",
    "  group_by(patient_id) %>%\n",
    "  mutate(HLA = paste(rep(allele_type, allele_value), collapse = \"\")) %>%\n",
    "  dplyr::select(-c(allele_type, allele_value)) %>%\n",
    "  distinct()\n",
    "\n",
    "df_hla"
   ]
  },
  {
   "cell_type": "code",
   "execution_count": 30,
   "id": "5dc1f495-4960-4fd7-9279-8e54db9b33c5",
   "metadata": {},
   "outputs": [],
   "source": [
    "df_hla$HLA <- factor(df_hla$HLA)\n",
    "df_hla$HLA <- relevel(df_hla$HLA, ref = 'allele_Sallele_S')"
   ]
  },
  {
   "cell_type": "code",
   "execution_count": 62,
   "id": "ef30cf79-8e7b-4b58-ae19-459cbb5ae7c0",
   "metadata": {},
   "outputs": [],
   "source": [
    "amino_acids <-c('A','C','D','E','F','G','H','I','K','L','M','N','P','Q','R','S','T','V','W','Y') \n",
    "aa_in_matrix <- paste0(colnames(df_hla)[colnames(df_hla) %in% amino_acids], collapse = ',')\n",
    "Y <- paste0('cbind(',aa_in_matrix,') ~')\n",
    "X <- 'HLA'\n",
    "PCs <- paste0('PC', seq(1,9), collapse = '+')"
   ]
  },
  {
   "cell_type": "code",
   "execution_count": 63,
   "id": "7cb88f48-575f-47a2-b593-90d74532c736",
   "metadata": {},
   "outputs": [],
   "source": [
    "formula_full <- as.formula(str_c(paste0(Y,X),PCs, sep   = '+'))\n",
    "formula_null <- as.formula(str_c(Y,PCs))"
   ]
  },
  {
   "cell_type": "code",
   "execution_count": 64,
   "id": "f50df1c8-a1c3-4b75-8bb3-c506da844bd5",
   "metadata": {},
   "outputs": [
    {
     "data": {
      "text/plain": [
       "cbind(L, F, G, S, Y, A, P, R, Q, I, D, W, T, E, H, K, V, M, N) ~ \n",
       "    HLA + PC1 + PC2 + PC3 + PC4 + PC5 + PC6 + PC7 + PC8 + PC9"
      ]
     },
     "metadata": {},
     "output_type": "display_data"
    }
   ],
   "source": [
    "formula_full"
   ]
  },
  {
   "cell_type": "code",
   "execution_count": 65,
   "id": "3b22ba75-16ea-4e65-91d4-33a450a9afc1",
   "metadata": {},
   "outputs": [],
   "source": [
    "#full model (exclude S_allele, the most frequent allele, as the reference allele)\n",
    "mod1 <- lm(formula_full, \n",
    "    data = df_hla)\n",
    "\n",
    "#null model\n",
    "mod0 <- lm(formula_null,  \n",
    "    data = df_hla)"
   ]
  },
  {
   "cell_type": "code",
   "execution_count": 66,
   "id": "86dc5d1e-8b25-4379-a444-557e1adadb20",
   "metadata": {},
   "outputs": [
    {
     "data": {
      "text/html": [
       "<table class=\"dataframe\">\n",
       "<caption>A anova: 2 × 8</caption>\n",
       "<thead>\n",
       "\t<tr><th></th><th scope=col>Res.Df</th><th scope=col>Df</th><th scope=col>Gen.var.</th><th scope=col>Pillai</th><th scope=col>approx F</th><th scope=col>num Df</th><th scope=col>den Df</th><th scope=col>Pr(&gt;F)</th></tr>\n",
       "\t<tr><th></th><th scope=col>&lt;dbl&gt;</th><th scope=col>&lt;dbl&gt;</th><th scope=col>&lt;dbl&gt;</th><th scope=col>&lt;dbl&gt;</th><th scope=col>&lt;dbl&gt;</th><th scope=col>&lt;dbl&gt;</th><th scope=col>&lt;dbl&gt;</th><th scope=col>&lt;dbl&gt;</th></tr>\n",
       "</thead>\n",
       "<tbody>\n",
       "\t<tr><th scope=row>1</th><td>1868</td><td>NA</td><td>0.6404496</td><td>       NA</td><td>      NA</td><td> NA</td><td>   NA</td><td>           NA</td></tr>\n",
       "\t<tr><th scope=row>2</th><td>1888</td><td>20</td><td>0.6702969</td><td>0.9552772</td><td>4.944542</td><td>380</td><td>35492</td><td>7.900376e-190</td></tr>\n",
       "</tbody>\n",
       "</table>\n"
      ],
      "text/latex": [
       "A anova: 2 × 8\n",
       "\\begin{tabular}{r|llllllll}\n",
       "  & Res.Df & Df & Gen.var. & Pillai & approx F & num Df & den Df & Pr(>F)\\\\\n",
       "  & <dbl> & <dbl> & <dbl> & <dbl> & <dbl> & <dbl> & <dbl> & <dbl>\\\\\n",
       "\\hline\n",
       "\t1 & 1868 & NA & 0.6404496 &        NA &       NA &  NA &    NA &            NA\\\\\n",
       "\t2 & 1888 & 20 & 0.6702969 & 0.9552772 & 4.944542 & 380 & 35492 & 7.900376e-190\\\\\n",
       "\\end{tabular}\n"
      ],
      "text/markdown": [
       "\n",
       "A anova: 2 × 8\n",
       "\n",
       "| <!--/--> | Res.Df &lt;dbl&gt; | Df &lt;dbl&gt; | Gen.var. &lt;dbl&gt; | Pillai &lt;dbl&gt; | approx F &lt;dbl&gt; | num Df &lt;dbl&gt; | den Df &lt;dbl&gt; | Pr(&gt;F) &lt;dbl&gt; |\n",
       "|---|---|---|---|---|---|---|---|---|\n",
       "| 1 | 1868 | NA | 0.6404496 |        NA |       NA |  NA |    NA |            NA |\n",
       "| 2 | 1888 | 20 | 0.6702969 | 0.9552772 | 4.944542 | 380 | 35492 | 7.900376e-190 |\n",
       "\n"
      ],
      "text/plain": [
       "  Res.Df Df Gen.var.  Pillai    approx F num Df den Df Pr(>F)       \n",
       "1 1868   NA 0.6404496        NA       NA  NA       NA             NA\n",
       "2 1888   20 0.6702969 0.9552772 4.944542 380    35492  7.900376e-190"
      ]
     },
     "metadata": {},
     "output_type": "display_data"
    }
   ],
   "source": [
    "anova(mod1, mod0)"
   ]
  },
  {
   "cell_type": "code",
   "execution_count": null,
   "id": "704b5e17-7e5d-405a-ac60-476c010b1115",
   "metadata": {},
   "outputs": [],
   "source": []
  },
  {
   "cell_type": "code",
   "execution_count": null,
   "id": "531e1f4f-10c5-47f8-b7cd-2e63742f4f53",
   "metadata": {},
   "outputs": [],
   "source": []
  }
 ],
 "metadata": {
  "kernelspec": {
   "display_name": "R",
   "language": "R",
   "name": "ir"
  },
  "language_info": {
   "codemirror_mode": "r",
   "file_extension": ".r",
   "mimetype": "text/x-r-source",
   "name": "R",
   "pygments_lexer": "r",
   "version": "4.3.3"
  }
 },
 "nbformat": 4,
 "nbformat_minor": 5
}
